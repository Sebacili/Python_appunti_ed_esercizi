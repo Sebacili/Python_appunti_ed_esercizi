{
  "nbformat": 4,
  "nbformat_minor": 0,
  "metadata": {
    "colab": {
      "name": "esercizio1.ipyynb",
      "provenance": []
    },
    "kernelspec": {
      "name": "python3",
      "display_name": "Python 3"
    },
    "language_info": {
      "name": "python"
    }
  },
  "cells": [
    {
      "cell_type": "code",
      "metadata": {
        "id": "8YHAv5oPhZTZ"
      },
      "source": [
        "a. far inserire all'utente due valori interi"
      ],
      "execution_count": null,
      "outputs": []
    },
    {
      "cell_type": "code",
      "metadata": {
        "id": "IJpG48KGgiAZ",
        "colab": {
          "base_uri": "https://localhost:8080/"
        },
        "outputId": "b4bf3d03-a2c2-45ee-d480-a22a02bb7723"
      },
      "source": [
        "x = int(input (\"inserire primo valore intero \"))\n",
        "y = int(input (\"inserire secondo valore intero \"))"
      ],
      "execution_count": 56,
      "outputs": [
        {
          "name": "stdout",
          "output_type": "stream",
          "text": [
            "inserire primo valore intero 12\n",
            "inserire secondo valore intero 4\n"
          ]
        }
      ]
    },
    {
      "cell_type": "markdown",
      "metadata": {
        "id": "jveTOMnIi9aK"
      },
      "source": [
        "b. effettuare le 4 operazioni aritmetiche tra i due numeri"
      ]
    },
    {
      "cell_type": "code",
      "metadata": {
        "colab": {
          "base_uri": "https://localhost:8080/"
        },
        "id": "kSDNCfW7h43T",
        "outputId": "def63571-6c3b-4a02-ec18-ea61a9d84d27"
      },
      "source": [
        "som = x + y\n",
        "sot = x - y\n",
        "mol = x*y\n",
        "div = x / y \n",
        "print(\"som: \"+ str(x + y))\n",
        "print(\"sot: \"+ str(x - y))\n",
        "print(\"mol: \"+ str(x * y))\n",
        "print(\"div: \"+ str(x / y))\n",
        "\n"
      ],
      "execution_count": 57,
      "outputs": [
        {
          "output_type": "stream",
          "name": "stdout",
          "text": [
            "som: 16\n",
            "sot: 8\n",
            "mol: 48\n",
            "div: 3.0\n"
          ]
        }
      ]
    },
    {
      "cell_type": "markdown",
      "metadata": {
        "id": "ePsn7Y_3pbKy"
      },
      "source": [
        "c. effettuare l'elevamento a potenza del primo numero per il secondo"
      ]
    },
    {
      "cell_type": "code",
      "metadata": {
        "colab": {
          "base_uri": "https://localhost:8080/"
        },
        "id": "heMhLiH9mK5R",
        "outputId": "0e74de38-1cc9-4a20-e522-25244e7de8a1"
      },
      "source": [
        "pow(x,y)"
      ],
      "execution_count": 58,
      "outputs": [
        {
          "output_type": "execute_result",
          "data": {
            "text/plain": [
              "20736"
            ]
          },
          "metadata": {},
          "execution_count": 58
        }
      ]
    },
    {
      "cell_type": "code",
      "metadata": {
        "id": "GK6RNIFpmfFR"
      },
      "source": [
        "d. effettuare il calcolo del resto della divisione tra il primo e il secondo numero"
      ],
      "execution_count": null,
      "outputs": []
    },
    {
      "cell_type": "code",
      "metadata": {
        "colab": {
          "base_uri": "https://localhost:8080/"
        },
        "id": "eRn00abgmlty",
        "outputId": "01526721-698e-42e7-a499-b5a60443c92d"
      },
      "source": [
        "x % y"
      ],
      "execution_count": 59,
      "outputs": [
        {
          "output_type": "execute_result",
          "data": {
            "text/plain": [
              "0"
            ]
          },
          "metadata": {},
          "execution_count": 59
        }
      ]
    },
    {
      "cell_type": "markdown",
      "metadata": {
        "id": "AeGj3FH5p4Zp"
      },
      "source": [
        "f. effettuare la divisione intera tra il primo e il secondo numero"
      ]
    },
    {
      "cell_type": "code",
      "metadata": {
        "colab": {
          "base_uri": "https://localhost:8080/"
        },
        "id": "gQP_VMqIqFeT",
        "outputId": "89ce77ae-9210-4c17-be1f-a8b9e757071a"
      },
      "source": [
        "x // y"
      ],
      "execution_count": 60,
      "outputs": [
        {
          "output_type": "execute_result",
          "data": {
            "text/plain": [
              "3"
            ]
          },
          "metadata": {},
          "execution_count": 60
        }
      ]
    },
    {
      "cell_type": "markdown",
      "metadata": {
        "id": "0RlCAkr-qJ8I"
      },
      "source": [
        "g. incrementare di una unità entrambi i numeri"
      ]
    },
    {
      "cell_type": "code",
      "metadata": {
        "colab": {
          "base_uri": "https://localhost:8080/"
        },
        "id": "7iqHc66lqPUg",
        "outputId": "5c58aa0e-3f36-4ad2-e494-974a1f116f40"
      },
      "source": [
        "x = x + 1\n",
        "y = y + 1\n",
        "print(x,y)"
      ],
      "execution_count": 61,
      "outputs": [
        {
          "output_type": "stream",
          "name": "stdout",
          "text": [
            "13 5\n"
          ]
        }
      ]
    },
    {
      "cell_type": "markdown",
      "metadata": {
        "id": "u-7KwRA2rXxu"
      },
      "source": [
        "h. far inserie all'utente due valori: il primo rappresenta la sua altezza (in metri) e il secondo rappresenta il suo peso (in kg). Visualizzare poi l'IMC (google it...)"
      ]
    },
    {
      "cell_type": "code",
      "metadata": {
        "colab": {
          "base_uri": "https://localhost:8080/"
        },
        "id": "di3YDBXsrW4t",
        "outputId": "f6f106ae-094f-406b-a75d-f0008f89467a"
      },
      "source": [
        "altezza = float(input (\"inserire l' altezza:\" ) )\n",
        "peso  = int(input (\"inserire il peso :  \"))\n",
        "IMC = peso/pow(altezza/100,2)\n",
        "print(IMC)"
      ],
      "execution_count": 81,
      "outputs": [
        {
          "output_type": "stream",
          "name": "stdout",
          "text": [
            "inserire l' altezza:799\n",
            "inserire il peso :  291\n",
            "4.55826353655461\n"
          ]
        }
      ]
    },
    {
      "cell_type": "code",
      "metadata": {
        "id": "mXklVE4mvb-S"
      },
      "source": [
        "i. arrotondare l'IMC precedente"
      ],
      "execution_count": null,
      "outputs": []
    },
    {
      "cell_type": "code",
      "metadata": {
        "colab": {
          "base_uri": "https://localhost:8080/"
        },
        "id": "nCtjq9V7vfuZ",
        "outputId": "cce0b4f0-867a-4828-8e75-15d7708fe80c"
      },
      "source": [
        "print(round(IMC))"
      ],
      "execution_count": 82,
      "outputs": [
        {
          "output_type": "stream",
          "name": "stdout",
          "text": [
            "5\n"
          ]
        }
      ]
    },
    {
      "cell_type": "markdown",
      "metadata": {
        "id": "YcwxVbmcwIAb"
      },
      "source": [
        "j. visualizzare il proprio nome, cognome, data di nascita e città di nascita separando le informazioni con un trattino."
      ]
    },
    {
      "cell_type": "code",
      "metadata": {
        "colab": {
          "base_uri": "https://localhost:8080/"
        },
        "id": "O979mcHRwNDC",
        "outputId": "f8d35547-1b76-40d1-c2f2-9834c7fccc19"
      },
      "source": [
        "print(\"Sebastian-\" \"Cilibeanu-\" \"26/11/2005-\" \"Sesto San Giovanni\")"
      ],
      "execution_count": 84,
      "outputs": [
        {
          "output_type": "stream",
          "name": "stdout",
          "text": [
            "Sebastian-Cilibeanu-26/11/2005-Sesto San Giovanni\n"
          ]
        }
      ]
    },
    {
      "cell_type": "markdown",
      "metadata": {
        "id": "banhgOz4wI9S"
      },
      "source": [
        "k. visualizzare le stesse informazioni per 10 volte di seguito"
      ]
    },
    {
      "cell_type": "code",
      "metadata": {
        "colab": {
          "base_uri": "https://localhost:8080/"
        },
        "id": "CwU61ZS8wyOA",
        "outputId": "abab59cb-b5c5-420a-82f7-8ad6d04d54b8"
      },
      "source": [
        "print(\"Sebastian-\" \"Cilibeanu-\" \"  26/11/2005-\" \"Sesto San Giovanni  \" *   10   )"
      ],
      "execution_count": 88,
      "outputs": [
        {
          "output_type": "stream",
          "name": "stdout",
          "text": [
            "Sebastian-Cilibeanu-  26/11/2005-Sesto San Giovanni  Sebastian-Cilibeanu-  26/11/2005-Sesto San Giovanni  Sebastian-Cilibeanu-  26/11/2005-Sesto San Giovanni  Sebastian-Cilibeanu-  26/11/2005-Sesto San Giovanni  Sebastian-Cilibeanu-  26/11/2005-Sesto San Giovanni  Sebastian-Cilibeanu-  26/11/2005-Sesto San Giovanni  Sebastian-Cilibeanu-  26/11/2005-Sesto San Giovanni  Sebastian-Cilibeanu-  26/11/2005-Sesto San Giovanni  Sebastian-Cilibeanu-  26/11/2005-Sesto San Giovanni  Sebastian-Cilibeanu-  26/11/2005-Sesto San Giovanni  \n"
          ]
        }
      ]
    },
    {
      "cell_type": "markdown",
      "metadata": {
        "id": "nWLltwk5xIPJ"
      },
      "source": [
        "l. assegnare il proprio nome e cognome ad una stringa e visualizzarla con tutte le lettere maiuscole"
      ]
    },
    {
      "cell_type": "code",
      "metadata": {
        "colab": {
          "base_uri": "https://localhost:8080/",
          "height": 197
        },
        "id": "m6ijB53fxNt5",
        "outputId": "a3e74a73-de9e-4026-eab6-1526a5cdc7aa"
      },
      "source": [
        "Name = \"Sebastian\"\n",
        "Cognome = \"Cilibeanu\"\n",
        "print(Nome.upper)"
      ],
      "execution_count": 89,
      "outputs": [
        {
          "output_type": "error",
          "ename": "NameError",
          "evalue": "ignored",
          "traceback": [
            "\u001b[0;31m---------------------------------------------------------------------------\u001b[0m",
            "\u001b[0;31mNameError\u001b[0m                                 Traceback (most recent call last)",
            "\u001b[0;32m<ipython-input-89-0130bf29b517>\u001b[0m in \u001b[0;36m<module>\u001b[0;34m()\u001b[0m\n\u001b[1;32m      1\u001b[0m \u001b[0mName\u001b[0m \u001b[0;34m=\u001b[0m \u001b[0;34m\"Sebastian\"\u001b[0m\u001b[0;34m\u001b[0m\u001b[0;34m\u001b[0m\u001b[0m\n\u001b[1;32m      2\u001b[0m \u001b[0mCognome\u001b[0m \u001b[0;34m=\u001b[0m \u001b[0;34m\"Cilibeanu\"\u001b[0m\u001b[0;34m\u001b[0m\u001b[0;34m\u001b[0m\u001b[0m\n\u001b[0;32m----> 3\u001b[0;31m \u001b[0mprint\u001b[0m\u001b[0;34m(\u001b[0m\u001b[0mNome\u001b[0m\u001b[0;34m.\u001b[0m\u001b[0mupper\u001b[0m\u001b[0;34m)\u001b[0m\u001b[0;34m\u001b[0m\u001b[0;34m\u001b[0m\u001b[0m\n\u001b[0m",
            "\u001b[0;31mNameError\u001b[0m: name 'Nome' is not defined"
          ]
        }
      ]
    }
  ]
}
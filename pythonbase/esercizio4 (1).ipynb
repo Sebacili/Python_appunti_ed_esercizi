{
  "nbformat": 4,
  "nbformat_minor": 0,
  "metadata": {
    "colab": {
      "name": "esercizio4.ipynb",
      "provenance": []
    },
    "kernelspec": {
      "name": "python3",
      "display_name": "Python 3"
    },
    "language_info": {
      "name": "python"
    }
  },
  "cells": [
    {
      "cell_type": "markdown",
      "metadata": {
        "id": "foB26kDOrrK0"
      },
      "source": [
        "1. scrivere una funzione chiamata media che dati due numeri restituisca la media. Utilizzare poi la funzione in un programma che acquisisca dall'utente due numeri e calcoli la media"
      ]
    },
    {
      "cell_type": "code",
      "metadata": {
        "colab": {
          "base_uri": "https://localhost:8080/"
        },
        "id": "VKUJLKgyroYA",
        "outputId": "c4d8f447-7f16-46d7-b57a-52cd9a66369b"
      },
      "source": [
        " def media(x,y):\n",
        "    z = x + y\n",
        "    z = z / 2\n",
        "    return z\n",
        "media(int(input(\"Inserire primo numero: \")),int(input(\"Inserire secondo numero: \")))"
      ],
      "execution_count": null,
      "outputs": [
        {
          "name": "stdout",
          "output_type": "stream",
          "text": [
            "Inserire primo numero: 3\n",
            "Inserire secondo numero: 2\n"
          ]
        },
        {
          "output_type": "execute_result",
          "data": {
            "text/plain": [
              "2.5"
            ]
          },
          "metadata": {},
          "execution_count": 5
        }
      ]
    },
    {
      "cell_type": "markdown",
      "metadata": {
        "id": "9iRmka75ruwT"
      },
      "source": [
        "2. scrivere una funzione chiamata piuCorta che date due liste restituisca la lista con meno elementi. Utilizzare poi la funzione in un programma che acquisisca dall'utente due liste e visualizzi gli elementi della lista più corta."
      ]
    },
    {
      "cell_type": "code",
      "metadata": {
        "colab": {
          "base_uri": "https://localhost:8080/"
        },
        "id": "f3wcQVworx7C",
        "outputId": "447aec49-e48b-4a38-8f6d-b5ca2975d5e5"
      },
      "source": [
        "list1 = []\n",
        "list2 = []\n",
        "def piuCorta(list1,list2):\n",
        "\n",
        "  if len(list1) <len(list2):\n",
        "    print(\"List 1 ha meno elementi, e sono: \")\n",
        "    print(list1)\n",
        "  else: \n",
        "    print(\"list 2 ha meno elemensti e sono: \")  \n",
        "    print(list2)\n",
        "\n",
        "numelementi1 = int(input(\"inserire numero totale di elementi della lista 1: \"))    \n",
        "for i in range(0,numelementi1):\n",
        "  elementi = str(input())\n",
        "  list1.append(elementi)\n",
        "  print(list1)\n",
        "\n",
        "numelementi2 = int(input(\"inserire numero totale di elementi della lista 2: \")) \n",
        "\n",
        "for i in range (0,numelementi2):\n",
        "   elementi = str(input())\n",
        "   list2.append(elementi)\n",
        "   print(list2)\n",
        "   piuCorta(list1,list2)\n"
      ],
      "execution_count": null,
      "outputs": [
        {
          "output_type": "stream",
          "name": "stdout",
          "text": [
            "inserire numero totale di elementi della lista 1: 1\n",
            "a\n",
            "['a']\n",
            "inserire numero totale di elementi della lista 2: 1\n",
            "a\n",
            "['a']\n",
            "list 2 ha meno elemensti e sono: \n",
            "['a']\n"
          ]
        }
      ]
    },
    {
      "cell_type": "code",
      "metadata": {
        "colab": {
          "base_uri": "https://localhost:8080/"
        },
        "id": "jfJmLXA32fU7",
        "outputId": "fc5bda72-94b7-43cd-9865-86bc7cb19fb0"
      },
      "source": [
        "\n",
        "def piuCorta2(x,y):\n",
        "  \"\"\"\n",
        "  if len (x) < len(y):\n",
        "     return x \n",
        "  else:\n",
        "     return y\n",
        "lista1 = [\"a\",\"b\",\"c\"]\n",
        "lista2 = [\"d\",\"e\"]\n",
        "piuCorta(lista1,lista2)\n",
        "\"\"\"\n",
        "#stringa = input(\"inserisci i valori: \")\n",
        "#numeri = [int(s) for s in stringa.split()]\n",
        "numeri1 = [int(s) for s in input(\"inserire valori: \").split()]\n",
        "numeri2 = [int(s) for s in input(\"inserire valori: \").split()]\n",
        "\n",
        "\n",
        "\n"
      ],
      "execution_count": null,
      "outputs": [
        {
          "name": "stdout",
          "output_type": "stream",
          "text": [
            "inserire valori: 1\n",
            "inserire valori: 2\n"
          ]
        }
      ]
    },
    {
      "cell_type": "markdown",
      "metadata": {
        "id": "B3WeOcosryaR"
      },
      "source": [
        "3. scrivere una funzione chiamata costruisciLista che dati due numeri interi restituisca la lista formata da tutti i numeri interi compresi tra i due numeri dati. Utilizzare poi la funzione in un programma che acquisisca dall'utente due numeri e visualizzi la lista formata da tutti i numeri interi compresi tra i due numeri dati ma a partire dal più grande fino al più piccolo.\n"
      ]
    },
    {
      "cell_type": "code",
      "metadata": {
        "colab": {
          "base_uri": "https://localhost:8080/"
        },
        "id": "P_etSNRor0qR",
        "outputId": "adbfbb85-045b-4841-e5d0-83fdc45f493b"
      },
      "source": [
        "def costruisciLista(x,y):\n",
        "  z = [i for i in range(x+1,y)]\n",
        "  z.reverse()\n",
        "  return z\n",
        "costruisciLista(int(input(\"Inserire primo numero: \")), int(input(\"Inserire secondo numero: \")))\n"
      ],
      "execution_count": null,
      "outputs": [
        {
          "name": "stdout",
          "output_type": "stream",
          "text": [
            "Inserire primo numero: 5\n",
            "Inserire secondo numero: 10\n"
          ]
        },
        {
          "output_type": "execute_result",
          "data": {
            "text/plain": [
              "[9, 8, 7, 6]"
            ]
          },
          "metadata": {},
          "execution_count": 38
        }
      ]
    },
    {
      "cell_type": "markdown",
      "metadata": {
        "id": "yaLI4xESC4AW"
      },
      "source": [
        "scrivere un programma che date 3 liste  visualizzi quella più corta. Utilizzare la funzione piuCorta2"
      ]
    },
    {
      "cell_type": "code",
      "metadata": {
        "colab": {
          "base_uri": "https://localhost:8080/"
        },
        "id": "yf4PBPWODE3e",
        "outputId": "8cb467cc-9be5-4bb8-f408-3f456f36248a"
      },
      "source": [
        "\n",
        "numeri1 = [int(s) for s in input(\"inserire valori: \").split()]\n",
        "numeri2 = [int(s) for s in input(\"inserire valori: \").split()]\n",
        "numeri3 = [int(s) for s in input(\"inserire valori: \").split()]\n",
        "numeri4 = [int(s) for s in input(\"inserire valori: \").split()]\n",
        "print(\"La lista più corta è \",       piuCorta2(numeri4,        piuCorta2(piuCorta2(numeri1,numeri2),                 numeri3)))\n",
        "\n",
        "\n",
        "\n"
      ],
      "execution_count": null,
      "outputs": [
        {
          "output_type": "stream",
          "name": "stdout",
          "text": [
            "inserire valori: 25234 544 544 524\n",
            "inserire valori: 4 4 44 \n",
            "inserire valori: 4 4 4\n",
            "inserire valori: 55\n",
            "La lista più corta è  None\n"
          ]
        }
      ]
    },
    {
      "cell_type": "markdown",
      "metadata": {
        "id": "2mDKXX_Ur1e5"
      },
      "source": [
        "4. scrivere una funzione chiamata valoreAssoluto che dato un numero restituisca il suo valore assoluto. Utilizzare poi questa funzione per determinare il valore assoluto degli elementi di una lista inserita dall'utente."
      ]
    },
    {
      "cell_type": "code",
      "metadata": {
        "id": "2xSZfdSLr8FK",
        "colab": {
          "base_uri": "https://localhost:8080/"
        },
        "outputId": "8490f998-b0df-443d-98f4-b5896d7d686f"
      },
      "source": [
        "def valoreAssoluto(num1):\n",
        " num1 = abs(num1)\n",
        " return num1\n",
        "\n",
        "lst = [] \n",
        "n = int(input(\"inserisci il numero di elementi: \"))\n",
        "for i in range(0,n):\n",
        "  element = int(input(\"inserire numero:\"))\n",
        "  lst.append(element)\n",
        "for j in range(0,n):\n",
        " print(\"Valore Assoluto: \",valoreAssoluto(lst[j]))"
      ],
      "execution_count": null,
      "outputs": [
        {
          "output_type": "stream",
          "name": "stdout",
          "text": [
            "inserisci il numero di elementi: 3\n",
            "inserire numero:2\n",
            "inserire numero:2\n",
            "inserire numero:1\n",
            "Valore Assoluto:  2\n",
            "Valore Assoluto:  2\n",
            "Valore Assoluto:  1\n"
          ]
        }
      ]
    },
    {
      "cell_type": "markdown",
      "metadata": {
        "id": "dRJqxM29txuh"
      },
      "source": [
        "5. scrivere una funzione chiamata scambia che data una lista scambi il primo elemento con l'ultimo, il secondo con il penultimo e così via. Utilizzare poi la funzione in un programma che acquisisca dall'utente una lista di 10 elementi e li visualizzi scambiati."
      ]
    },
    {
      "cell_type": "code",
      "metadata": {
        "id": "3MDk2mFyt0LJ",
        "colab": {
          "base_uri": "https://localhost:8080/"
        },
        "outputId": "c0820fbe-5193-45e9-eee0-510453db20b5"
      },
      "source": [
        "def scambia(lst): #lst è il parametro formale\n",
        "    lst.reverse()\n",
        "    return lst\n",
        "    \n",
        "elementi = [input(\"Inserire elemento: \") for i in range(10)]  \n",
        "\n",
        "print(scambia(lst))\n",
        "#elementi è il parametro attuale\n",
        "#se devo invertire dei 2 dev o caricare un altra lista : copio la riga degli elementi nominandolo elementi2 e scambia con elementi2(parametto attuale)"
      ],
      "execution_count": null,
      "outputs": [
        {
          "output_type": "stream",
          "name": "stdout",
          "text": [
            "Inserire elemento: 1\n",
            "Inserire elemento: 2\n",
            "Inserire elemento: 3\n",
            "Inserire elemento: 4\n",
            "Inserire elemento: 5\n",
            "Inserire elemento: 6\n",
            "Inserire elemento: 7\n",
            "Inserire elemento: 8\n",
            "Inserire elemento: 9\n",
            "Inserire elemento: a\n",
            "['a', '9', '8', '7', '6', '5', '4', '3', '2', '1']\n"
          ]
        }
      ]
    },
    {
      "cell_type": "code",
      "metadata": {
        "colab": {
          "base_uri": "https://localhost:8080/"
        },
        "id": "xq7n_G0ExbdB",
        "outputId": "2814d505-e852-451c-a6d1-de6835303110"
      },
      "source": [
        "\n",
        "elementi = [input(\"Inserire elemento: \") for i in range(5)]  \n",
        "elementi2 = [input(\"Inserire elemento: \") for i in range(5)]  \n",
        "print(scambia(elementi))\n",
        "print(scambia(elementi2))"
      ],
      "execution_count": null,
      "outputs": [
        {
          "output_type": "stream",
          "name": "stdout",
          "text": [
            "Inserire elemento: 1\n",
            "Inserire elemento: 2\n",
            "Inserire elemento: 3\n",
            "Inserire elemento: 4\n",
            "Inserire elemento: 5\n",
            "Inserire elemento: 6\n",
            "Inserire elemento: 7\n",
            "Inserire elemento: 8\n",
            "Inserire elemento: 9\n",
            "Inserire elemento: a\n",
            "['5', '4', '3', '2', '1']\n",
            "['a', '9', '8', '7', '6']\n"
          ]
        }
      ]
    },
    {
      "cell_type": "markdown",
      "metadata": {
        "id": "4ABPtE-1t0uY"
      },
      "source": [
        "\n",
        "6. scrivere una funzione lambda che dati due numeri calcoli la loro somma. Utilizzare la funzione in un programma che chieda all'utente due numeri interi e visualizzi la loro somma."
      ]
    },
    {
      "cell_type": "code",
      "metadata": {
        "id": "UDr4qfcBt5Zh",
        "colab": {
          "base_uri": "https://localhost:8080/"
        },
        "outputId": "918ebe2c-0f92-4e87-a294-6e179697866c"
      },
      "source": [
        "lam = lambda x,y: x + y\n",
        "lam(int(input('Scegli il primo numero: ')), int(input('Scegli il primo numero: ')))"
      ],
      "execution_count": null,
      "outputs": [
        {
          "name": "stdout",
          "output_type": "stream",
          "text": [
            "Scegli il primo numero: 10\n",
            "Scegli il primo numero: 20\n"
          ]
        },
        {
          "output_type": "execute_result",
          "data": {
            "text/plain": [
              "30"
            ]
          },
          "metadata": {},
          "execution_count": 1
        }
      ]
    },
    {
      "cell_type": "markdown",
      "metadata": {
        "id": "5jdrO_U8t5rw"
      },
      "source": [
        "7. scrivere un programma che utilizzi una lambda function per aumentare di 10 unità tutti gli elementi di una lista di interi inserita dall'utente.\n"
      ]
    },
    {
      "cell_type": "code",
      "metadata": {
        "id": "pxNpwuBLt7GA",
        "colab": {
          "base_uri": "https://localhost:8080/"
        },
        "outputId": "a28a5d69-f54d-4c25-ec0e-05080ec32cb2"
      },
      "source": [
        "lst1 = []\n",
        "n = int(input(\"Inserisci il numero di elementi: \"))\n",
        "\n",
        "for i in range(0, n):\n",
        "    ele = int(input())\n",
        "    lst1.append(ele)\n",
        "\n",
        "print(lst1)\n",
        "lista =list(map(lambda x: x + 10, lst1))\n",
        "print(lista)"
      ],
      "execution_count": null,
      "outputs": [
        {
          "output_type": "stream",
          "name": "stdout",
          "text": [
            "Inserisci il numero di elementi: 3\n",
            "2\n",
            "1\n",
            "3\n",
            "[2, 1, 3]\n",
            "[12, 11, 13]\n"
          ]
        }
      ]
    },
    {
      "cell_type": "code",
      "metadata": {
        "id": "eoNLubyJzW1R"
      },
      "source": [
        "lst = [ int(input(\"inserisci\"))]"
      ],
      "execution_count": null,
      "outputs": []
    },
    {
      "cell_type": "markdown",
      "metadata": {
        "id": "B9WJj1FQK_xE"
      },
      "source": [
        "8. scrivere una funzione lambda che sostituisca il valore 0 se il parametro è negativo, il valore del parametro se è positivo. Utilizzare poi la funzione in un programma che chieda all'utente i 10 elementi di una lista e visualizzi la lista con il valore 0 al posto dei numeri negativi.\n"
      ]
    },
    {
      "cell_type": "code",
      "metadata": {
        "colab": {
          "base_uri": "https://localhost:8080/",
          "height": 130
        },
        "id": "t5t7zCU60Ypq",
        "outputId": "d0f3c24f-c8d1-492b-c79d-b4d546241963"
      },
      "source": [
        "def sost(valore):\n",
        "  if valore < 0:\n",
        "   return 0\n",
        "  else:\n",
        "\n",
        "    return valore\n",
        "\n",
        " sost2 = lambda x: x if x >= 0 else \n",
        "\n",
        "numeri =  [int(input(\"Inserire elemento: \")) for i in range(5)]\n",
        "numeri2 = [sost(elemento) for elemento in numeri]\n",
        "\n",
        "numeri3= [sost2(elemento) for elemento in numeri]\n",
        "print(numeri)\n",
        "print(numeri2)\n",
        "print(numeri3)\n",
        "\n"
      ],
      "execution_count": null,
      "outputs": [
        {
          "output_type": "error",
          "ename": "IndentationError",
          "evalue": "ignored",
          "traceback": [
            "\u001b[0;36m  File \u001b[0;32m\"<ipython-input-26-eeba792de832>\"\u001b[0;36m, line \u001b[0;32m8\u001b[0m\n\u001b[0;31m    sost2 = lambda x: x if x >= 0 else\u001b[0m\n\u001b[0m                                       ^\u001b[0m\n\u001b[0;31mIndentationError\u001b[0m\u001b[0;31m:\u001b[0m unindent does not match any outer indentation level\n"
          ]
        }
      ]
    },
    {
      "cell_type": "markdown",
      "metadata": {
        "id": "PvMyx5o1LBUD"
      },
      "source": [
        "9. scrivere un programma che calcoli il fattoriale di un numero utilizzando una lambda function. Provare a realizzare una lambda function ricorsiva (per la ricorsione, google it...)"
      ]
    },
    {
      "cell_type": "code",
      "metadata": {
        "colab": {
          "base_uri": "https://localhost:8080/"
        },
        "id": "cc2Kpx8ELCQC",
        "outputId": "14cfc9bc-01c0-4cd4-f621-3debf5010c10"
      },
      "source": [
        "a = lambda num : 1 if num <= 1 else num*a(num-1)\n",
        "number = int(input('Numero: '))\n",
        "print( '%d != %d' %(number, a(number)))\n"
      ],
      "execution_count": null,
      "outputs": [
        {
          "output_type": "stream",
          "name": "stdout",
          "text": [
            "Numero: 3\n",
            "3 != 6\n"
          ]
        }
      ]
    },
    {
      "cell_type": "code",
      "metadata": {
        "colab": {
          "base_uri": "https://localhost:8080/"
        },
        "id": "Llxu7he08NQg",
        "outputId": "7e7f08cf-d913-429b-fd37-c8a7c618570a"
      },
      "source": [
        "fattoriale = lambda n: 1 if n == 0 else n * fattoriale(n-1)\n",
        "fattoriale(3)\n",
        "#fattoriale=numero moltiplicato coi precendenti 5 fattoriale = 5 * fattoriale di 4 "
      ],
      "execution_count": null,
      "outputs": [
        {
          "output_type": "execute_result",
          "data": {
            "text/plain": [
              "6"
            ]
          },
          "metadata": {},
          "execution_count": 28
        }
      ]
    }
  ]
}
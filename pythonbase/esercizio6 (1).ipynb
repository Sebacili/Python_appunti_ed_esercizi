{
  "nbformat": 4,
  "nbformat_minor": 0,
  "metadata": {
    "colab": {
      "name": "esercizio6.ipynb",
      "provenance": []
    },
    "kernelspec": {
      "name": "python3",
      "display_name": "Python 3"
    },
    "language_info": {
      "name": "python"
    }
  },
  "cells": [
    {
      "cell_type": "markdown",
      "metadata": {
        "id": "xy4t_DO5-woC"
      },
      "source": [
        "1. scrivere una funzione chiamata sommaTutti che permetta di sommare un numero arbitrario di valori interi passati come parametri. Scrivere poi un programma che permetta all'utente di inserire un numero variabile di interi e visualizzi la somma."
      ]
    },
    {
      "cell_type": "code",
      "metadata": {
        "colab": {
          "base_uri": "https://localhost:8080/"
        },
        "id": "2OJ9Qbe0-i6b",
        "outputId": "006bd94b-bed5-4f8d-a785-ef6689332181"
      },
      "source": [
        "def sommaTutti(x):\n",
        " return sum(x)\n",
        "numeri = [int(s) for s in input(\"inserisci valori: \").split()] \n",
        "sommaTutti(numeri)"
      ],
      "execution_count": null,
      "outputs": [
        {
          "name": "stdout",
          "output_type": "stream",
          "text": [
            "inserisci valori: 2 4 5 \n"
          ]
        },
        {
          "output_type": "execute_result",
          "data": {
            "text/plain": [
              "11"
            ]
          },
          "metadata": {},
          "execution_count": 11
        }
      ]
    },
    {
      "cell_type": "markdown",
      "metadata": {
        "id": "UBQpxu6y_wQ7"
      },
      "source": [
        "2. scrivere una lambda function che calcoli la lunghezza della circonferenza di un cerchio dato il raggio. Utilizzarla poi in un programma che chieda all'utente il valore del raggio e visualizzi la lunghezza della circonferenza\n"
      ]
    },
    {
      "cell_type": "code",
      "metadata": {
        "colab": {
          "base_uri": "https://localhost:8080/"
        },
        "id": "3hE6Pj54_zQz",
        "outputId": "6aea1a06-df5a-4bd7-98fb-b3fb7a283aca"
      },
      "source": [
        "circonferenza = lambda x: x * (2*3.14)\n",
        "circonferenza(int(input(\"Inserisci valore del raggio:\")))"
      ],
      "execution_count": null,
      "outputs": [
        {
          "name": "stdout",
          "output_type": "stream",
          "text": [
            "Inserisci valore del raggio:10\n"
          ]
        },
        {
          "output_type": "execute_result",
          "data": {
            "text/plain": [
              "62.800000000000004"
            ]
          },
          "metadata": {},
          "execution_count": 2
        }
      ]
    },
    {
      "cell_type": "markdown",
      "metadata": {
        "id": "5S4rz2Rx_zlr"
      },
      "source": [
        "3. scrivere una funzione che calcoli il quadrato di un numero. Scrivere poi una funzione che calcoli la radice quadrata della somma di due numeri. Scrivere poi una lambda function che date le lunghezze di due cateti di un triangolo calcoli l'ipotenusa utilizzando le funzioni definite precedentemente. Utilizzare quest'ultima funzione in un programma che permetta all'utente di inserire le lunghezze dei cateti e di avere in risposta la lunghezza dell'ipotenusa di un triangolo rettangolo"
      ]
    },
    {
      "cell_type": "code",
      "metadata": {
        "id": "RdAYarkn_0MT",
        "colab": {
          "base_uri": "https://localhost:8080/"
        },
        "outputId": "0033dcd7-467c-4e41-ecb1-14b2a229c64a"
      },
      "source": [
        "def quadrato(x):\n",
        "  return x**2\n",
        "\n",
        "def radice(y,z):\n",
        "  j = y + z \n",
        "  return pow(j,0.5)\n",
        "\n",
        "cateto1 =int(input(\"Inserire una lunghezza: \"))\n",
        "cateto2 =int(input(\"Inserire una lunghezza: \"))\n",
        "\n",
        "ipotenusa = lambda x,y: radice(quadrato(x),quadrato(y))\n",
        "print(ipotenusa(cateto1,cateto2))\n"
      ],
      "execution_count": null,
      "outputs": [
        {
          "output_type": "stream",
          "name": "stdout",
          "text": [
            "Inserire una lunghezza: 3\n",
            "Inserire una lunghezza: 9\n",
            "9.486832980505138\n"
          ]
        }
      ]
    },
    {
      "cell_type": "markdown",
      "metadata": {
        "id": "VgZ05Rli_3vb"
      },
      "source": [
        "4. Scrivere le funzioni quadrato, cubo e radiceQuadrata che calcolano il quadrato, il cubo e la radice quadrata di un numero intero. Scrivere poi un programma che, utilizzando un ciclo for, richiami le tre funzioni su un valore intero inserito dall'utente e visualizzi i tre risultati.\n"
      ]
    },
    {
      "cell_type": "code",
      "metadata": {
        "id": "o5WJNIaB_5y7",
        "colab": {
          "base_uri": "https://localhost:8080/"
        },
        "outputId": "61eae803-42d3-4b0b-dbb8-fa78624d21ba"
      },
      "source": [
        "def quadrato(num):\n",
        "  return pow(num,2)\n",
        "\n",
        "def cubo(num):\n",
        "  return pow(num,3)\n",
        "\n",
        "def radiceQuadrata(num):\n",
        "  return pow(num,0.5)\n",
        "\n",
        "numero = int(input('Inserire valore: '))\n",
        "\n",
        "print(quadrato(numero))\n",
        "print(cubo(numero))\n",
        "print(radiceQuadrata(numero))"
      ],
      "execution_count": null,
      "outputs": [
        {
          "output_type": "stream",
          "name": "stdout",
          "text": [
            "Inserire valore: 3\n",
            "9\n",
            "27\n",
            "1.7320508075688772\n"
          ]
        }
      ]
    },
    {
      "cell_type": "markdown",
      "metadata": {
        "id": "qYc06MQo_6gD"
      },
      "source": [
        "5. Utilizzando una lambda function, scrivere un programma che data una lista di numeri interi inserita dall'utente carichi in altre due liste i quadrati e i cubi dei numeri presenti nella lista inserita. Al termine, visualizzare le due liste."
      ]
    },
    {
      "cell_type": "code",
      "metadata": {
        "id": "DiAopoxT_9bC",
        "colab": {
          "base_uri": "https://localhost:8080/"
        },
        "outputId": "6d65e006-61db-4af1-d809-bc1d8614d5af"
      },
      "source": [
        "lista1 = list(input(\"Inserire la lista1: \").split()) \n",
        "lista1 = list([int(n) for n in lista1])\n",
        "\n",
        "NewList1 = list(map(lambda x: quadrato(x),lista1)) \n",
        "NewList2 = list(map(lambda y: cubo(y),lista1))  \n",
        "\n",
        "print(NewList1,NewList2)"
      ],
      "execution_count": null,
      "outputs": [
        {
          "output_type": "stream",
          "name": "stdout",
          "text": [
            "Inserire la lista1: 1 2 3\n",
            "[1, 4, 9] [1, 8, 27]\n"
          ]
        }
      ]
    },
    {
      "cell_type": "markdown",
      "metadata": {
        "id": "uk-8iPzz__ji"
      },
      "source": [
        "6. Utilizzando una lambda function, scrivere un programma che data una lista di numeri interi inserita dall'utente carichi in altre due liste i numeri pari e i numeri dispari presenti nella lista inserita. Al termine, visualizzare le due liste.\n",
        "\n"
      ]
    },
    {
      "cell_type": "code",
      "metadata": {
        "id": "pjqkw1MfAASU",
        "colab": {
          "base_uri": "https://localhost:8080/"
        },
        "outputId": "a99a93ff-4e8d-4482-aa7f-89e9c4b8479a"
      },
      "source": [
        "lista1 = list(input(\"Inserire la lista1: \").split()) \n",
        "lista1 = list([int(n) for n in lista1])\n",
        "\n",
        "listapari = list(filter(lambda x: x%2 == 0,lista1)) \n",
        "listadispari = list(filter(lambda y: y%2 != 0,lista1))\n",
        "\n",
        "print(listapari,listadispari)"
      ],
      "execution_count": null,
      "outputs": [
        {
          "output_type": "stream",
          "name": "stdout",
          "text": [
            "Inserire la lista1: 1 2 3\n",
            "[2] [1, 3]\n"
          ]
        }
      ]
    },
    {
      "cell_type": "markdown",
      "metadata": {
        "id": "tOBXY1-0AMp7"
      },
      "source": [
        "7.Scrivere poi una funzione ricorsiva che calcoli il fattoriale di un numero. Utilizzare poi la funzione creata per scrivere un programma che permetta all'utente di inserire un numero intero e che visualizzi il fattoriale di quel numero."
      ]
    },
    {
      "cell_type": "code",
      "metadata": {
        "id": "6sjpAaiyANKS",
        "colab": {
          "base_uri": "https://localhost:8080/"
        },
        "outputId": "33581a31-a816-433c-b5e6-1a05042d422d"
      },
      "source": [
        "#print(\"Il fattoriale è la moltiplicazione di un numero per i suoi antecedenti\")\n",
        "\n",
        "def fattoriale(n):\n",
        "  if n==0:\n",
        "    return 1\n",
        "  else:\n",
        "    return n*fattoriale(n-1)\n",
        "\n",
        "n = int(input('Inserire il numero: ')) \n",
        "\n",
        "print('Il fattoriale è', fattoriale(n))"
      ],
      "execution_count": null,
      "outputs": [
        {
          "output_type": "stream",
          "name": "stdout",
          "text": [
            "Inserire il numero: 3\n",
            "Il fattoriale è 6\n"
          ]
        }
      ]
    },
    {
      "cell_type": "markdown",
      "metadata": {
        "id": "pHZkT43_BPsD"
      },
      "source": [
        "8. Svolgere l'esercizio 7, senza ricorsione\n"
      ]
    },
    {
      "cell_type": "code",
      "metadata": {
        "id": "utIvJtF_BSYL",
        "colab": {
          "base_uri": "https://localhost:8080/"
        },
        "outputId": "81daf946-feaa-49ef-8f6d-836cc149b24d"
      },
      "source": [
        "n = int(input('Inserire il numero: '))\n",
        "f = 1\n",
        "\n",
        "for i in range(1,n+1):\n",
        "  f*=i\n",
        "\n",
        "print(f)"
      ],
      "execution_count": null,
      "outputs": [
        {
          "output_type": "stream",
          "name": "stdout",
          "text": [
            "Inserire il numero: 3\n",
            "6\n"
          ]
        }
      ]
    },
    {
      "cell_type": "markdown",
      "metadata": {
        "id": "Nd_DufEuBSnj"
      },
      "source": [
        "9. Cercare su internet che cosa sono i numeri di Fibonacci. Scrivere poi una funzione ricorsiva che calcoli l'n-esimo numero della sequenza di Fibonacci. Utilizzare poi la funzione creata per scrivere un programma che permetta all'utente di inserire un numero intero e che visualizzi il numero della sequenza di Fibonacci corrispondente.\n",
        "Commenti sul corso\n",
        "Il tuo lavoro\n",
        "Assegnato\n",
        "Commenti privati\n"
      ]
    },
    {
      "cell_type": "code",
      "metadata": {
        "id": "UF3uWGa_BX2m",
        "colab": {
          "base_uri": "https://localhost:8080/"
        },
        "outputId": "bb23c1f7-8386-4e3c-9534-5cf621f29b11"
      },
      "source": [
        "def fib(n):\n",
        "    if n == 0:\n",
        "        return 0;\n",
        "    if n == 1:\n",
        "        return 1;\n",
        "    else:\n",
        "        return fib(n-1) + fib(n-2)\n",
        "\n",
        "num = int(input(\"Inserisci un numero: \"))\n",
        "\n",
        "print(fib(num))"
      ],
      "execution_count": null,
      "outputs": [
        {
          "output_type": "stream",
          "name": "stdout",
          "text": [
            "Inserisci un numero: 2\n",
            "1\n"
          ]
        }
      ]
    }
  ]
}
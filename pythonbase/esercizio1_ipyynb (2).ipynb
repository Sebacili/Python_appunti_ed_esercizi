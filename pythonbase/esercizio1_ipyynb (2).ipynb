{
  "nbformat": 4,
  "nbformat_minor": 0,
  "metadata": {
    "colab": {
      "name": "esercizio1.ipyynb",
      "provenance": [],
      "collapsed_sections": []
    },
    "kernelspec": {
      "name": "python3",
      "display_name": "Python 3"
    },
    "language_info": {
      "name": "python"
    }
  },
  "cells": [
    {
      "cell_type": "markdown",
      "metadata": {
        "id": "jmLlAj0H4u5D"
      },
      "source": [
        "a. far inserire all'utente due valori interi"
      ]
    },
    {
      "cell_type": "code",
      "metadata": {
        "id": "IJpG48KGgiAZ",
        "colab": {
          "base_uri": "https://localhost:8080/"
        },
        "outputId": "cec3a1f2-43a8-47a2-c09b-b2189ce188ab"
      },
      "source": [
        "x = int(input (\"inserire primo valore intero: \"))\n",
        "y = int(input (\"inserire secondo valore intero: \"))"
      ],
      "execution_count": null,
      "outputs": [
        {
          "name": "stdout",
          "output_type": "stream",
          "text": [
            "inserire primo valore intero: 23\n",
            "inserire secondo valore intero: 45\n"
          ]
        }
      ]
    },
    {
      "cell_type": "markdown",
      "metadata": {
        "id": "jveTOMnIi9aK"
      },
      "source": [
        "b. effettuare le 4 operazioni aritmetiche tra i due numeri"
      ]
    },
    {
      "cell_type": "code",
      "metadata": {
        "colab": {
          "base_uri": "https://localhost:8080/"
        },
        "id": "kSDNCfW7h43T",
        "outputId": "b47e9f66-aaa2-4ec7-dfb4-7ee250dbb393"
      },
      "source": [
        "som = x + y\n",
        "sot = x - y\n",
        "mol = x*y\n",
        "div = x / y \n",
        "print(x, \"+\",y, \"=\", str(x+y))\n",
        "print(x, \"-\",y, \"=\", str(x-y))\n",
        "print(x, \"*\",y, \"=\", str(x*y))\n",
        "print(x, \"/\",y, \"=\", str(x/y))\n",
        "\n"
      ],
      "execution_count": null,
      "outputs": [
        {
          "output_type": "stream",
          "name": "stdout",
          "text": [
            "23 + 45 = 68\n",
            "23 - 45 = -22\n",
            "23 * 45 = 1035\n",
            "23 / 45 = 0.5111111111111111\n"
          ]
        }
      ]
    },
    {
      "cell_type": "markdown",
      "metadata": {
        "id": "ePsn7Y_3pbKy"
      },
      "source": [
        "c. effettuare l'elevamento a potenza del primo numero per il secondo"
      ]
    },
    {
      "cell_type": "code",
      "metadata": {
        "colab": {
          "base_uri": "https://localhost:8080/"
        },
        "id": "heMhLiH9mK5R",
        "outputId": "868cf5a7-d631-4e5b-b0fb-2688f54bca3c"
      },
      "source": [
        "pow(x,y)"
      ],
      "execution_count": null,
      "outputs": [
        {
          "output_type": "execute_result",
          "data": {
            "text/plain": [
              "18956258430116202791319715713277227626159289499745290235663543"
            ]
          },
          "metadata": {},
          "execution_count": 39
        }
      ]
    },
    {
      "cell_type": "markdown",
      "metadata": {
        "id": "W4ejLVFYBoC5"
      },
      "source": [
        "d. effettuare il calcolo del resto della divisione tra il primo e il secondo numero"
      ]
    },
    {
      "cell_type": "code",
      "metadata": {
        "colab": {
          "base_uri": "https://localhost:8080/"
        },
        "id": "eRn00abgmlty",
        "outputId": "3c5733ef-9067-4318-ef9d-4f857832305b"
      },
      "source": [
        "x % y"
      ],
      "execution_count": null,
      "outputs": [
        {
          "output_type": "execute_result",
          "data": {
            "text/plain": [
              "23"
            ]
          },
          "metadata": {},
          "execution_count": 41
        }
      ]
    },
    {
      "cell_type": "markdown",
      "metadata": {
        "id": "AeGj3FH5p4Zp"
      },
      "source": [
        "f. effettuare la divisione intera tra il primo e il secondo numero"
      ]
    },
    {
      "cell_type": "code",
      "metadata": {
        "colab": {
          "base_uri": "https://localhost:8080/"
        },
        "id": "gQP_VMqIqFeT",
        "outputId": "b0cfc25e-088a-4e9d-ba29-da79674be0c5"
      },
      "source": [
        "x // y"
      ],
      "execution_count": null,
      "outputs": [
        {
          "output_type": "execute_result",
          "data": {
            "text/plain": [
              "0"
            ]
          },
          "metadata": {},
          "execution_count": 42
        }
      ]
    },
    {
      "cell_type": "markdown",
      "metadata": {
        "id": "0RlCAkr-qJ8I"
      },
      "source": [
        "g. incrementare di una unità entrambi i numeri"
      ]
    },
    {
      "cell_type": "code",
      "metadata": {
        "colab": {
          "base_uri": "https://localhost:8080/"
        },
        "id": "7iqHc66lqPUg",
        "outputId": "cfc6da0e-bc58-4789-9538-c14de17e4937"
      },
      "source": [
        "x = x + 1\n",
        "y = y + 1\n",
        "print(x,y)"
      ],
      "execution_count": null,
      "outputs": [
        {
          "output_type": "stream",
          "name": "stdout",
          "text": [
            "24 46\n"
          ]
        }
      ]
    },
    {
      "cell_type": "code",
      "metadata": {
        "colab": {
          "base_uri": "https://localhost:8080/"
        },
        "id": "4TZzqrRA6R2U",
        "outputId": "7a814aaa-460b-412c-c6d7-a98221245a48"
      },
      "source": [
        "x += 1\n",
        "y += 1\n",
        "print(x,y)"
      ],
      "execution_count": null,
      "outputs": [
        {
          "output_type": "stream",
          "name": "stdout",
          "text": [
            "25 47\n"
          ]
        }
      ]
    },
    {
      "cell_type": "markdown",
      "metadata": {
        "id": "u-7KwRA2rXxu"
      },
      "source": [
        "h. far inserie all'utente due valori: il primo rappresenta la sua altezza (in metri) e il secondo rappresenta il suo peso (in kg). Visualizzare poi l'IMC (google it...)"
      ]
    },
    {
      "cell_type": "code",
      "metadata": {
        "colab": {
          "base_uri": "https://localhost:8080/"
        },
        "id": "di3YDBXsrW4t",
        "outputId": "7d2d9906-5603-4cfa-ced4-efe96bad1b7b"
      },
      "source": [
        "altezza = float(input (\"inserire l' altezza in centimetri:\" ) )\n",
        "peso  = int(input (\"inserire il peso in chilogrammi :  \"))\n",
        "IMC = peso/pow(altezza/100,2)\n",
        "print(IMC)"
      ],
      "execution_count": null,
      "outputs": [
        {
          "name": "stdout",
          "output_type": "stream",
          "text": [
            "inserire l' altezza in centimetri:456\n",
            "inserire il peso in chilogrammi :  450\n"
          ]
        }
      ]
    },
    {
      "cell_type": "code",
      "metadata": {
        "id": "mXklVE4mvb-S"
      },
      "source": [
        "i. arrotondare l'IMC precedente"
      ],
      "execution_count": null,
      "outputs": []
    },
    {
      "cell_type": "code",
      "metadata": {
        "colab": {
          "base_uri": "https://localhost:8080/"
        },
        "id": "nCtjq9V7vfuZ",
        "outputId": "ff55ab14-84eb-4a83-91a8-86474c748865"
      },
      "source": [
        "IMCarrontondato = round(IMC)\n",
        "print(IMCarrontondato)"
      ],
      "execution_count": null,
      "outputs": [
        {
          "output_type": "stream",
          "name": "stdout",
          "text": [
            "22\n"
          ]
        }
      ]
    },
    {
      "cell_type": "markdown",
      "metadata": {
        "id": "YcwxVbmcwIAb"
      },
      "source": [
        "j. visualizzare il proprio nome, cognome, data di nascita e città di nascita separando le informazioni con un trattino."
      ]
    },
    {
      "cell_type": "code",
      "metadata": {
        "colab": {
          "base_uri": "https://localhost:8080/"
        },
        "id": "O979mcHRwNDC",
        "outputId": "7bea86a3-7e0b-4481-9db0-ae8ed0946f1e"
      },
      "source": [
        "nome = \"Sebastian\"\n",
        "cognome = \"Cilibeanu\"\n",
        "datadinascita = \"26/11/05\"\n",
        "cittadinascita = \"MILANO\"\n",
        "\n",
        "print(nome,cognome,datadinascita,cittadinascita,  sep=\"-\")\n"
      ],
      "execution_count": null,
      "outputs": [
        {
          "output_type": "stream",
          "name": "stdout",
          "text": [
            "Sebastian-Cilibeanu-26/11/05-MILANO\n"
          ]
        }
      ]
    },
    {
      "cell_type": "markdown",
      "metadata": {
        "id": "banhgOz4wI9S"
      },
      "source": [
        "k. visualizzare le stesse informazioni per 10 volte di seguito"
      ]
    },
    {
      "cell_type": "code",
      "metadata": {
        "colab": {
          "base_uri": "https://localhost:8080/"
        },
        "id": "CwU61ZS8wyOA",
        "outputId": "03af8d8d-43f6-4f13-c45d-5a22042258f8"
      },
      "source": [
        "informazioni =  nome + ' ' + cognome + datadinascita + cittadinascita +\"\\n\"\n",
        "print(informazioni *10)"
      ],
      "execution_count": null,
      "outputs": [
        {
          "output_type": "stream",
          "name": "stdout",
          "text": [
            "Sebastian Cilibeanu26/11/05MILANO\n",
            "Sebastian Cilibeanu26/11/05MILANO\n",
            "Sebastian Cilibeanu26/11/05MILANO\n",
            "Sebastian Cilibeanu26/11/05MILANO\n",
            "Sebastian Cilibeanu26/11/05MILANO\n",
            "Sebastian Cilibeanu26/11/05MILANO\n",
            "Sebastian Cilibeanu26/11/05MILANO\n",
            "Sebastian Cilibeanu26/11/05MILANO\n",
            "Sebastian Cilibeanu26/11/05MILANO\n",
            "Sebastian Cilibeanu26/11/05MILANO\n",
            "\n"
          ]
        }
      ]
    },
    {
      "cell_type": "markdown",
      "metadata": {
        "id": "nWLltwk5xIPJ"
      },
      "source": [
        "l. assegnare il proprio nome e cognome ad una stringa e visualizzarla con tutte le lettere maiuscole"
      ]
    },
    {
      "cell_type": "code",
      "metadata": {
        "colab": {
          "base_uri": "https://localhost:8080/"
        },
        "id": "m6ijB53fxNt5",
        "outputId": "b75518ee-0698-4a80-a490-9fa0199b5c62"
      },
      "source": [
        "nome = \"Sebastian\"\n",
        "cognome = \"Cilibeanu\"\n",
        "print(nome.upper())\n",
        "print(cognome.upper())\n"
      ],
      "execution_count": null,
      "outputs": [
        {
          "output_type": "stream",
          "name": "stdout",
          "text": [
            "SEBASTIAN\n",
            "CILIBEANU\n"
          ]
        }
      ]
    },
    {
      "cell_type": "markdown",
      "metadata": {
        "id": "grJuT98xoSz5"
      },
      "source": [
        "m. assegnare il proprio nome e cognome ad una stringa e visualizzarla con le prime lettere maiuscole"
      ]
    },
    {
      "cell_type": "code",
      "metadata": {
        "colab": {
          "base_uri": "https://localhost:8080/"
        },
        "id": "3qSNtX-CojK3",
        "outputId": "8015bf00-eefe-4f7b-8880-499cd804ab36"
      },
      "source": [
        "nome = \"Sebastian\"\n",
        "cognome = \"Cilibeanu\"\n",
        "print(nome.title())\n",
        "print(cognome.title())"
      ],
      "execution_count": null,
      "outputs": [
        {
          "output_type": "stream",
          "name": "stdout",
          "text": [
            "Sebastian\n",
            "Cilibeanu\n"
          ]
        }
      ]
    },
    {
      "cell_type": "markdown",
      "metadata": {
        "id": "Goh29MAsqgp0"
      },
      "source": [
        "n. assegnare il proprio nome e cognome ad una stringa e visualizzarne la lunghezza"
      ]
    },
    {
      "cell_type": "code",
      "metadata": {
        "colab": {
          "base_uri": "https://localhost:8080/"
        },
        "id": "NnMYUowgqgGN",
        "outputId": "177a8d55-061e-4a78-c947-d2190077ffcd"
      },
      "source": [
        "nome = \"Sebastian\"\n",
        "cognome = \"Cilibeanu\"\n",
        "print(\"La lunghezza di '%s' è\" %nome,len(nome),\"lettere\")\n",
        "print(\"La lunghezza di '%s' è\" %cognome,len(cognome),\"lettere\")"
      ],
      "execution_count": null,
      "outputs": [
        {
          "output_type": "stream",
          "name": "stdout",
          "text": [
            "La lunghezza di 'Sebastian' è 9 lettere\n",
            "La lunghezza di 'Cilibeanu' è 9 lettere\n"
          ]
        }
      ]
    },
    {
      "cell_type": "markdown",
      "metadata": {
        "id": "Z_UJsWKNqzYQ"
      },
      "source": [
        "o. assegnare il proprio nome e cognome ad una stringa e contate quante vocali contiene"
      ]
    },
    {
      "cell_type": "code",
      "metadata": {
        "colab": {
          "base_uri": "https://localhost:8080/"
        },
        "id": "YxeIrsb-q6Du",
        "outputId": "30917f5f-79c4-4a24-f56c-3e984daba745"
      },
      "source": [
        "string = \"sebastian cilibeanu\"\n",
        "contatoe = 0\n",
        "vocali = set('aeiou')\n",
        "#per ogni lettera presente nella stringa trasformata tutta in minuscolo\n",
        "for lettera in string.lower():\n",
        "  if lettera in vocali:\n",
        "    contatore+= 1\n",
        "    \n",
        "  print(contatore)"
      ],
      "execution_count": null,
      "outputs": [
        {
          "output_type": "stream",
          "name": "stdout",
          "text": [
            "27\n",
            "28\n",
            "28\n",
            "29\n",
            "29\n",
            "29\n",
            "30\n",
            "31\n",
            "31\n",
            "31\n",
            "31\n",
            "32\n",
            "32\n",
            "33\n",
            "33\n",
            "34\n",
            "35\n",
            "35\n",
            "36\n"
          ]
        }
      ]
    },
    {
      "cell_type": "markdown",
      "metadata": {
        "id": "ms0xzWiZsJ-7"
      },
      "source": [
        "p. assegnare il proprio nome e cognome ad una stringa e visualizzare i primi 5 caratteri"
      ]
    },
    {
      "cell_type": "code",
      "metadata": {
        "colab": {
          "base_uri": "https://localhost:8080/"
        },
        "id": "342IFU4BsMiZ",
        "outputId": "7617dfb8-dece-44ad-f080-91c93604eb54"
      },
      "source": [
        "nome = \"Sebastian\"\n",
        "cognome = \"Cilibeanu\"\n",
        "print(\"Le prime cinque lettere del nome: \", nome[ :5])\n",
        "print(\"Le prime cinque lettere del cognome: \", cognome[ :5])"
      ],
      "execution_count": null,
      "outputs": [
        {
          "output_type": "stream",
          "name": "stdout",
          "text": [
            "Le prime cinque lettere del nome:  Sebas\n",
            "Le prime cinque lettere del cognome:  Cilib\n"
          ]
        }
      ]
    },
    {
      "cell_type": "markdown",
      "metadata": {
        "id": "KNhpwXQAtOvZ"
      },
      "source": [
        "q. assegnare il proprio nome e cognome ad una stringa e visualizzare gli ultimi 5 caratteri"
      ]
    },
    {
      "cell_type": "code",
      "metadata": {
        "colab": {
          "base_uri": "https://localhost:8080/"
        },
        "id": "R9zJx18RtRht",
        "outputId": "f2fe525b-d6cf-4658-8666-10a589940c3f"
      },
      "source": [
        "nome = \"Sebastian\"\n",
        "cognome = \"Cilibeanu\"\n",
        "print(\"Le ultime cinque lettere del nome: \", nome[ -5 :])\n",
        "print(\"Le ultime cinque lettere del cognome: \", cognome[- 5 :])"
      ],
      "execution_count": null,
      "outputs": [
        {
          "output_type": "stream",
          "name": "stdout",
          "text": [
            "Le ultime cinque lettere del nome:  stian\n",
            "Le ultime cinque lettere del cognome:  beanu\n"
          ]
        }
      ]
    },
    {
      "cell_type": "markdown",
      "metadata": {
        "id": "5_-SbakptgOO"
      },
      "source": [
        "r.assegnare il proprio nome e cognome ad una stringa e visualizzare i 5 caratteri centrali"
      ]
    },
    {
      "cell_type": "code",
      "metadata": {
        "colab": {
          "base_uri": "https://localhost:8080/"
        },
        "id": "cgzIdzx5tgy1",
        "outputId": "540c923b-3599-4a8d-c282-5aa55f6b3e62"
      },
      "source": [
        "nome = \"Sebastian\"\n",
        "cognome = \"Cilibeanu\"\n",
        "print(\"Le centrali cinque lettere del nome: \", nome[2:7])\n",
        "print(\"Le centrali cinque lettere del cognome: \", cognome[2:7])"
      ],
      "execution_count": null,
      "outputs": [
        {
          "output_type": "stream",
          "name": "stdout",
          "text": [
            "Le centrali cinque lettere del nome:  basti\n",
            "Le centrali cinque lettere del cognome:  libea\n"
          ]
        }
      ]
    }
  ]
}
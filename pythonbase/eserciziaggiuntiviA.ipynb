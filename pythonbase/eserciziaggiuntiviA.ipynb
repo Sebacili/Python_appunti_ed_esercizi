{
  "nbformat": 4,
  "nbformat_minor": 0,
  "metadata": {
    "colab": {
      "name": "eserciziaggiuntiviA.ipynb",
      "provenance": []
    },
    "kernelspec": {
      "name": "python3",
      "display_name": "Python 3"
    },
    "language_info": {
      "name": "python"
    }
  },
  "cells": [
    {
      "cell_type": "markdown",
      "metadata": {
        "id": "E1rB-fGlvPA9"
      },
      "source": [
        "1.scrivere un programma che data una data nella forma gg/mm/aaaa visualizzi separatamente il giorno, il mese e l’anno"
      ]
    },
    {
      "cell_type": "code",
      "metadata": {
        "colab": {
          "base_uri": "https://localhost:8080/"
        },
        "id": "u2P-7Vooqbwq",
        "outputId": "4b8b9224-66f1-43a3-ad9c-41b3ab2a52cd"
      },
      "source": [
        "data = \"26/11/21\"\n",
        "print(data.split(\"/\"))\n"
      ],
      "execution_count": null,
      "outputs": [
        {
          "output_type": "stream",
          "name": "stdout",
          "text": [
            "['26', '11', '21']\n"
          ]
        }
      ]
    },
    {
      "cell_type": "markdown",
      "metadata": {
        "id": "DOgVVGeovJjg"
      },
      "source": [
        "2.scrivere un programma che permetta di stabilire se un numero dispari è divisibile per 5. L’utente inserisce il numero e il programma, una volta controllato che sia dispari, controlla anche se è divisibile per 5.\n"
      ]
    },
    {
      "cell_type": "code",
      "metadata": {
        "colab": {
          "base_uri": "https://localhost:8080/"
        },
        "id": "pyJCH86ttDkq",
        "outputId": "f20c2aad-1840-4510-f4ae-f4a32c373971"
      },
      "source": [
        "num = int(input(\"inserire numero: \"))\n",
        "if num %2==1:\n",
        "  print(\"Il numero è dispari \")\n",
        "  if num % 5 == 0:\n",
        "    print(\"Il numero è dispari e divisibile per 5 \")\n",
        "  else:\n",
        "    print(\"Il numero è dispari ma non divisibile per 5\")\n",
        "    \n",
        "\n",
        "else:\n",
        "  print(\"HAI INSERITO UN NUMERO PARI; PER FAVORE CONTROLLA CHE SIA DISPARI,GRAZIE!\")\n"
      ],
      "execution_count": null,
      "outputs": [
        {
          "output_type": "stream",
          "name": "stdout",
          "text": [
            "inserire numero: 12\n",
            "HAI INSERITO UN NUMERO PARI; PER FAVORE CONTROLLA CHE SIA DISPARI,GRAZIE!\n"
          ]
        }
      ]
    },
    {
      "cell_type": "markdown",
      "metadata": {
        "id": "dtq-UHfDwthF"
      },
      "source": [
        "3.scrivere un programma per verificare se una parola comincia e finisce con la stessa lettera.\n"
      ]
    },
    {
      "cell_type": "code",
      "metadata": {
        "colab": {
          "base_uri": "https://localhost:8080/"
        },
        "id": "ORD76YWbwyDe",
        "outputId": "d847b90b-0caf-47d4-a6b6-588b964dee1a"
      },
      "source": [
        "parola = str(input(\"inserire parola:\"))\n",
        "if parola[0] == parola[-1:]:\n",
        "  print(\"corretto\")\n",
        "else:\n",
        "   print(\"sbagliato\")"
      ],
      "execution_count": null,
      "outputs": [
        {
          "output_type": "stream",
          "name": "stdout",
          "text": [
            "inserire parola:cazzoc\n",
            "corretto\n"
          ]
        }
      ]
    },
    {
      "cell_type": "markdown",
      "metadata": {
        "id": "KCxwJT7txqSn"
      },
      "source": [
        "4.scrivere un programma che permetta di caricare una lista di parole e che elimini dalla lista tutte le parole che iniziano con una lettera inserita dall’utente\n"
      ]
    },
    {
      "cell_type": "code",
      "metadata": {
        "id": "5VEH-6uZxvmY",
        "colab": {
          "base_uri": "https://localhost:8080/"
        },
        "outputId": "58baaa5a-b9cd-4ffd-afee-2c595dbf6f98"
      },
      "source": [
        "listaParole = [\"Albero\",\"Foglie\",\"Ronaldo\",\"Messi\",\"Iniesta\"]\n",
        "lettera = str(input(\"inserire lettera: \"))\n",
        "lista = list(filter(lambda x: x[0]!= lettera,listaParole))\n",
        "print(lista)"
      ],
      "execution_count": null,
      "outputs": [
        {
          "output_type": "stream",
          "name": "stdout",
          "text": [
            "inserire lettera: A\n",
            "['Foglie', 'Ronaldo', 'Messi', 'Ronaldo']\n"
          ]
        }
      ]
    },
    {
      "cell_type": "markdown",
      "metadata": {
        "id": "wplBK-bkIWZy"
      },
      "source": [
        "5.scrivere una funzione che data una parola restituisca la stessa parola senza le vocali\n"
      ]
    },
    {
      "cell_type": "code",
      "metadata": {
        "colab": {
          "base_uri": "https://localhost:8080/",
          "height": 35
        },
        "id": "-fZQPuBdIc7q",
        "outputId": "35a74178-85d5-4186-d1e3-e05f7370e252"
      },
      "source": [
        "def eliminavocali(parola):\n",
        "  vocali = set(\"aeiou\")\n",
        "  for i in parola:\n",
        "    if i in vocali:\n",
        "      parola = parola.replace(i,\"\")\n",
        "  return parola\n",
        "parola = \"imbarazzante\"   \n",
        "eliminavocali(parola)\n"
      ],
      "execution_count": null,
      "outputs": [
        {
          "output_type": "execute_result",
          "data": {
            "application/vnd.google.colaboratory.intrinsic+json": {
              "type": "string"
            },
            "text/plain": [
              "'mbrzznt'"
            ]
          },
          "metadata": {},
          "execution_count": 10
        }
      ]
    },
    {
      "cell_type": "markdown",
      "metadata": {
        "id": "YScxyZwyI1ix"
      },
      "source": [
        "6.scrivere un programma che utilizzando la funzione precedente elimini da una frase composta da più parole tutte le vocali\n"
      ]
    },
    {
      "cell_type": "code",
      "metadata": {
        "colab": {
          "base_uri": "https://localhost:8080/",
          "height": 35
        },
        "id": "Ugxqr9UjI9C6",
        "outputId": "81669133-dcc0-49b4-c9ff-282f9b71edbf"
      },
      "source": [
        "frase = \"i topi non avevano nipoti\"\n",
        "eliminavocali(frase)"
      ],
      "execution_count": null,
      "outputs": [
        {
          "output_type": "execute_result",
          "data": {
            "application/vnd.google.colaboratory.intrinsic+json": {
              "type": "string"
            },
            "text/plain": [
              "' tp nn vvn npt'"
            ]
          },
          "metadata": {},
          "execution_count": 12
        }
      ]
    },
    {
      "cell_type": "markdown",
      "metadata": {
        "id": "Mqm7OKz7NcXy"
      },
      "source": [
        "7.scrivere un programma che utilizzando una lambda function  sostituisca ad ogni elemento di una lista di parole la lunghezza delle parole stesse. Ad esempio se la lista fosse [‘mamma’, ‘stella’, ‘casa’] la lista finale dovrebbe essere [5, 5, 4]\n"
      ]
    },
    {
      "cell_type": "code",
      "metadata": {
        "id": "j_A7GCHANg_x"
      },
      "source": [
        ""
      ],
      "execution_count": null,
      "outputs": []
    },
    {
      "cell_type": "markdown",
      "metadata": {
        "id": "2nBxuq4FNhdp"
      },
      "source": [
        "8.scrivere un programma che utilizzando una lambda function elimini da una lista di parole tutte quelle più corte di un valore inserito dall’utente.  Ad esempio se la lista fosse [‘tre’, ‘stella’, ‘casa’] e l’utente inserisse il valore 5, la lista finale dovrebbe essere [‘stella’]\n"
      ]
    },
    {
      "cell_type": "code",
      "metadata": {
        "colab": {
          "base_uri": "https://localhost:8080/"
        },
        "id": "zpBEn-WlNukK",
        "outputId": "968869be-df1e-452f-e1eb-bc4433cba857"
      },
      "source": [
        "listaParole = [\"abc\",\"amrabat\",\"aop\",\"dado\"]\n",
        "valore = int(input(\"inserire valore \"))\n",
        "elimina = list(filter(lambda x:len(x)>=valore,listaParole))\n",
        "print(elimina)"
      ],
      "execution_count": null,
      "outputs": [
        {
          "output_type": "stream",
          "name": "stdout",
          "text": [
            "inserire valore4\n",
            "['amrabat', 'dado']\n"
          ]
        }
      ]
    },
    {
      "cell_type": "markdown",
      "metadata": {
        "id": "kqbT9ip1NmdJ"
      },
      "source": [
        "9.MilanoSport propone corsi di nuoto e vuole memorizzare i nomi dei corsi e i cognomi delle persone che partecipano a quel corso. Caricare in una struttura dati apposita i nomi dei corsi (solo due nomi) e i cognomi dei partecipanti (solo due cognomi) e permettere di avere i cognomi dei partecipanti di un determinato corso inserito dall’utente. \n",
        "\n",
        "\n"
      ]
    },
    {
      "cell_type": "code",
      "metadata": {
        "id": "eR8yx4OiNnBC"
      },
      "source": [
        "Milanosport ={\"corso principiante\":\"Rossi\",\"corso dilettante\":\"Bianchi\"}\n",
        "corso = str(input(\"inserire corso:\"))\n",
        "print(milanosport[corso])"
      ],
      "execution_count": null,
      "outputs": []
    }
  ]
}
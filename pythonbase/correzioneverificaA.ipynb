{
  "nbformat": 4,
  "nbformat_minor": 0,
  "metadata": {
    "colab": {
      "name": "correzioneverificaA.ipynb",
      "provenance": []
    },
    "kernelspec": {
      "name": "python3",
      "display_name": "Python 3"
    },
    "language_info": {
      "name": "python"
    }
  },
  "cells": [
    {
      "cell_type": "markdown",
      "metadata": {
        "id": "JLSa6XmOz8f4"
      },
      "source": [
        "1.scrivere un programma che calcoli la somma di due frazioni. L’utente deve inserire il numeratore e il denominatore della prima frazione e poi numeratore e denominatore della seconda frazione e il programma calcola la somma.\n"
      ]
    },
    {
      "cell_type": "code",
      "metadata": {
        "colab": {
          "base_uri": "https://localhost:8080/"
        },
        "id": "wTjdlNqOzx_d",
        "outputId": "485f5097-ccd0-4114-a541-b56ffd977590"
      },
      "source": [
        "n1 = int(input(\"inserire numeratore 1: \"))\n",
        "d1 = int(input(\"inserire denominatore 1: \"))\n",
        "n2 = int(input(\"inserire numeratore 2: \"))\n",
        "d2 = int(input(\"inserire denominatore 2: \"))\n",
        "\n",
        "print(str(n1*d2+n2*d1)+'/'+ str(d1*d2))\n"
      ],
      "execution_count": null,
      "outputs": [
        {
          "output_type": "stream",
          "name": "stdout",
          "text": [
            "inserire numeratore 1: 1\n",
            "inserire denominatore 1: 3\n",
            "inserire numeratore 2: 1\n",
            "inserire denominatore 2: 2\n",
            "5/6\n"
          ]
        }
      ]
    },
    {
      "cell_type": "markdown",
      "metadata": {
        "id": "N_UWA8422Zcx"
      },
      "source": [
        "2. scrivere un programma che permetta di verificare se un orario è scritto correttamente. Un orario è scritto correttamente se è formato da 5 caratteri di cui il terzo è il carattere : . Ad esempio 13:45 è scritto correttamente 123:4 non è scritto correttamente.\n"
      ]
    },
    {
      "cell_type": "code",
      "metadata": {
        "colab": {
          "base_uri": "https://localhost:8080/"
        },
        "id": "pDL4_q1h2ciR",
        "outputId": "f3572a24-8a54-4b94-d90f-dd79024c9ec2"
      },
      "source": [
        "orario = str(input(\"inserire orario: \"))\n",
        "if len(orario) == 5:\n",
        "    if orario[2] == \":\" :\n",
        "      print(\"Orario valido\")\n",
        "    else:\n",
        "        print('orario non valido')\n",
        "else: \n",
        "  ('orario non valido')\n",
        "  \n",
        "\n",
        "\n"
      ],
      "execution_count": null,
      "outputs": [
        {
          "output_type": "stream",
          "name": "stdout",
          "text": [
            "inserire orario: 12:32\n",
            "Orario valido\n"
          ]
        }
      ]
    },
    {
      "cell_type": "markdown",
      "metadata": {
        "id": "Hc4p8p925XJV"
      },
      "source": [
        "3. scrivere un programma che visualizzi le prime dieci potenze di un numero inserito dall’utente. Ad esempio se l’utente inserisse 2 il programma dovrebbe visualizzare i valori 1, 2, 4, 8, 16, 32, 64, 128, 256 e 512. Separare i valori con il trattino -\n"
      ]
    },
    {
      "cell_type": "code",
      "metadata": {
        "colab": {
          "base_uri": "https://localhost:8080/",
          "height": 229
        },
        "id": "StlO36Ta5gYc",
        "outputId": "4ce75399-031a-43df-b38f-51ec5eab1933"
      },
      "source": [
        "n1 = int(input(\"inserire numero:  \"))\n",
        "j = 1 \n",
        "for i in range(0,10):\n",
        "  \"-\".join(n1)\n",
        "  print(n1**i)"
      ],
      "execution_count": null,
      "outputs": [
        {
          "name": "stdout",
          "output_type": "stream",
          "text": [
            "inserire numero:  2\n"
          ]
        },
        {
          "output_type": "error",
          "ename": "TypeError",
          "evalue": "ignored",
          "traceback": [
            "\u001b[0;31m---------------------------------------------------------------------------\u001b[0m",
            "\u001b[0;31mTypeError\u001b[0m                                 Traceback (most recent call last)",
            "\u001b[0;32m<ipython-input-15-fd22b0d4e54c>\u001b[0m in \u001b[0;36m<module>\u001b[0;34m()\u001b[0m\n\u001b[1;32m      2\u001b[0m \u001b[0mj\u001b[0m \u001b[0;34m=\u001b[0m \u001b[0;36m1\u001b[0m\u001b[0;34m\u001b[0m\u001b[0;34m\u001b[0m\u001b[0m\n\u001b[1;32m      3\u001b[0m \u001b[0;32mfor\u001b[0m \u001b[0mi\u001b[0m \u001b[0;32min\u001b[0m \u001b[0mrange\u001b[0m\u001b[0;34m(\u001b[0m\u001b[0;36m0\u001b[0m\u001b[0;34m,\u001b[0m\u001b[0;36m10\u001b[0m\u001b[0;34m)\u001b[0m\u001b[0;34m:\u001b[0m\u001b[0;34m\u001b[0m\u001b[0;34m\u001b[0m\u001b[0m\n\u001b[0;32m----> 4\u001b[0;31m   \u001b[0;34m\"-\"\u001b[0m\u001b[0;34m.\u001b[0m\u001b[0mjoin\u001b[0m\u001b[0;34m(\u001b[0m\u001b[0mn1\u001b[0m\u001b[0;34m)\u001b[0m\u001b[0;34m\u001b[0m\u001b[0;34m\u001b[0m\u001b[0m\n\u001b[0m\u001b[1;32m      5\u001b[0m   \u001b[0mprint\u001b[0m\u001b[0;34m(\u001b[0m\u001b[0mn1\u001b[0m\u001b[0;34m**\u001b[0m\u001b[0mi\u001b[0m\u001b[0;34m)\u001b[0m\u001b[0;34m\u001b[0m\u001b[0;34m\u001b[0m\u001b[0m\n",
            "\u001b[0;31mTypeError\u001b[0m: can only join an iterable"
          ]
        }
      ]
    },
    {
      "cell_type": "markdown",
      "metadata": {
        "id": "2mOcIKqT7VO3"
      },
      "source": [
        "4.scrivere un programma che carichi in una lista le prime venti potenze di un numero inserito dall’utente. Al termine visualizzare gli ultimi tre elementi della lista.\n"
      ]
    },
    {
      "cell_type": "code",
      "metadata": {
        "colab": {
          "base_uri": "https://localhost:8080/"
        },
        "id": "AyhAJaLg7Y-W",
        "outputId": "f14f355b-c19b-4e16-eb45-ab41ea99ea6a"
      },
      "source": [
        "potenze = []\n",
        "n1 = int(input(\"inserire numero:  \"))\n",
        "\n",
        "for i in range(0,20):\n",
        "  potenze.append(n1**i)\n",
        "\n",
        "print(potenze[-3:])\n"
      ],
      "execution_count": null,
      "outputs": [
        {
          "output_type": "stream",
          "name": "stdout",
          "text": [
            "inserire numero:  2\n",
            "[131072, 262144, 524288]\n"
          ]
        }
      ]
    },
    {
      "cell_type": "code",
      "metadata": {
        "colab": {
          "base_uri": "https://localhost:8080/"
        },
        "id": "rzvewiI58sQw",
        "outputId": "0dfdd4b6-2144-4e9b-e4c4-004b9df7bf03"
      },
      "source": [
        "#listcomprehension\n",
        "\n",
        "n1 = int(input(\"inserire numero:  \"))\n",
        "potenze = [n1**i for i in range(20)]\n",
        "print(potenze[-3:])"
      ],
      "execution_count": null,
      "outputs": [
        {
          "output_type": "stream",
          "name": "stdout",
          "text": [
            "inserire numero:  2\n",
            "[131072, 262144, 524288]\n"
          ]
        }
      ]
    },
    {
      "cell_type": "markdown",
      "metadata": {
        "id": "g8WQC5Uw8bJQ"
      },
      "source": [
        "5.scrivere un programma che elimini dalla lista precedente tutti i numeri compresi tra due estremi inseriti dall’utente. Visualizzare al termine la lista modificata\n"
      ]
    },
    {
      "cell_type": "code",
      "metadata": {
        "colab": {
          "base_uri": "https://localhost:8080/"
        },
        "id": "gwuKdrR58ePA",
        "outputId": "3d6bc02a-9a70-4798-b60f-65542e3aa9d6"
      },
      "source": [
        "estremo1 = int(input(\"inserisci estremo1 :\"))\n",
        "estremo2 = int(input(\"inserisci estremo2 :\"))\n",
        "print(potenze)\n",
        "for i in range(0,10):\n",
        "  if estremo1 < potenze[i]< estremo2:\n",
        "    potenze.remove(potenze[i])\n",
        "print(potenze)"
      ],
      "execution_count": null,
      "outputs": [
        {
          "output_type": "stream",
          "name": "stdout",
          "text": [
            "inserisci estremo1 :0\n",
            "inserisci estremo2 :100\n",
            "[1, 2, 4, 8, 16, 32, 64, 256, 1024, 2048, 4096, 8192, 16384, 32768, 65536, 131072, 262144, 524288]\n",
            "[2, 8, 32, 256, 1024, 2048, 4096, 8192, 16384, 32768, 65536, 131072, 262144, 524288]\n"
          ]
        }
      ]
    },
    {
      "cell_type": "markdown",
      "metadata": {
        "id": "uUzGklfBEwTq"
      },
      "source": [
        "6. scrivere una funzione chiamata prodotto che data una lista di numeri interi restituisca il prodotto di tutti i suoi elementi. Ad esempio se la lista fosse [2, 5, 3] la funzione restituirebbe 30\n"
      ]
    },
    {
      "cell_type": "code",
      "metadata": {
        "colab": {
          "base_uri": "https://localhost:8080/"
        },
        "id": "wCkaVJfJEyZx",
        "outputId": "b256a5d0-85a6-4268-cac4-7c41041840bf"
      },
      "source": [
        "lista = [int(elemento)for elemento in input('numeri ').split()]\n",
        "def prodotto(l):\n",
        "  totale = 1\n",
        "  for e in l :\n",
        "   totale = totale * e\n",
        "  return totale\n",
        "prodotto(lista)"
      ],
      "execution_count": null,
      "outputs": [
        {
          "name": "stdout",
          "output_type": "stream",
          "text": [
            "numeri 2 3 4\n"
          ]
        },
        {
          "output_type": "execute_result",
          "data": {
            "text/plain": [
              "48"
            ]
          },
          "metadata": {},
          "execution_count": 1
        }
      ]
    },
    {
      "cell_type": "markdown",
      "metadata": {
        "id": "bTKWhKDnHiIl"
      },
      "source": [
        "7.scrivere un programma che permetta di caricare in una struttura dati opportuna i nomi delle nazioni che compongono l’Unione Europea, le loro capitali e la popolazione (inserire solo tre nazioni). Visualizzare poi i dati di una nazione inserita dall’utente\n"
      ]
    },
    {
      "cell_type": "code",
      "metadata": {
        "id": "tRL8kSZWH8NF"
      },
      "source": [
        "unioneEuropea = [{'Nome':'Italia','capitale': 'Roma','popolazione': 60},\n",
        "                 {'Nome':'Francia','capitale': 'Parigi','popolazione': 58},\n",
        "                 {'Nome':'Germania','capitale': 'Berlino','popolazione': 80}]\n",
        "nazione = input(\"Inserisci nazione:\")\n",
        "for nazione in unioneEuropea:\n",
        "  if nazione['Nome']== nazione:\n",
        "    print(nazione[\"capoluogo\"])\n"
      ],
      "execution_count": null,
      "outputs": []
    },
    {
      "cell_type": "markdown",
      "metadata": {
        "id": "c0GZLq_dJ2l3"
      },
      "source": [
        "8.scrivere un programma che, utilizzando una lambda function e la funzione map, elevi alla terza tutti gli elementi della lista. La lista deve essere caricata dall’utente.\n"
      ]
    },
    {
      "cell_type": "code",
      "metadata": {
        "colab": {
          "base_uri": "https://localhost:8080/"
        },
        "id": "NTQPUlb8J6fX",
        "outputId": "8fe27e38-9471-41c5-c8f8-ad732fd95629"
      },
      "source": [
        "numeri = [int(s)for s in input('').split()]\n",
        "listafinale = list(map(lambda x:x**3,numeri))\n",
        "print(listafinale)"
      ],
      "execution_count": null,
      "outputs": [
        {
          "output_type": "stream",
          "name": "stdout",
          "text": [
            "1 2 3 4\n",
            "[1, 8, 27, 64]\n"
          ]
        }
      ]
    },
    {
      "cell_type": "markdown",
      "metadata": {
        "id": "qrAG5GZMKcZ4"
      },
      "source": [
        "9.scrivere una funzione che calcoli in modo ricorsivo il prodotto tra due numeri.\n"
      ]
    },
    {
      "cell_type": "code",
      "metadata": {
        "colab": {
          "base_uri": "https://localhost:8080/"
        },
        "id": "uD4v_3B5Kg8A",
        "outputId": "1d79f991-b00b-461e-b411-7b529d3f652b"
      },
      "source": [
        "def prodotto2(f1,f2):\n",
        "  if f2 ==1:\n",
        "    return f1\n",
        "  else:\n",
        "    return f1+prodotto2(f1,f2-1)\n",
        "prodotto2(5,5)\n"
      ],
      "execution_count": null,
      "outputs": [
        {
          "output_type": "execute_result",
          "data": {
            "text/plain": [
              "25"
            ]
          },
          "metadata": {},
          "execution_count": 68
        }
      ]
    }
  ]
}
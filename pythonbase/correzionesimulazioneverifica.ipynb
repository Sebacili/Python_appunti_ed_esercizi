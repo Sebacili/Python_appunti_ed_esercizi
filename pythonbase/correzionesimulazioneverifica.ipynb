{
  "nbformat": 4,
  "nbformat_minor": 0,
  "metadata": {
    "colab": {
      "name": "correzionesimulazioneverifica.ipynb",
      "provenance": []
    },
    "kernelspec": {
      "display_name": "Python 3",
      "name": "python3"
    },
    "language_info": {
      "name": "python"
    }
  },
  "cells": [
    {
      "cell_type": "markdown",
      "metadata": {
        "id": "I3MNdHrW_RQW"
      },
      "source": [
        "1. scrivere un programma che permetta all'utente di inserire tre valori e visualizzi quello intermedio."
      ]
    },
    {
      "cell_type": "code",
      "metadata": {
        "colab": {
          "base_uri": "https://localhost:8080/"
        },
        "id": "W6AXCSja_JF3",
        "outputId": "ea3cdfba-ee75-4d73-b2c7-a1660d103f88"
      },
      "source": [
        "valore1 = int(input(\"inserire valore:\"))\n",
        "valore2 = int(input(\"inserire valore:\"))\n",
        "valore3 = int(input(\"inserire valore:\"))\n",
        "if valore1 < valore2 < valore3:\n",
        "  print(valore2)\n",
        "elif valore2 < valore1 < valore3:\n",
        " print(valore1)\n",
        "else:\n",
        "  print(valore3)"
      ],
      "execution_count": null,
      "outputs": [
        {
          "name": "stdout",
          "output_type": "stream",
          "text": [
            "inserire valore:12\n",
            "inserire valore:30\n",
            "inserire valore:45\n",
            "30\n"
          ]
        }
      ]
    },
    {
      "cell_type": "markdown",
      "metadata": {
        "id": "eB5c-tiFBBVg"
      },
      "source": [
        "2. scrivere un programma che permetta all'utente di caricare una lista di numeri interi ed un valore e carichi in un'altra lista tutti gli elementi della prima lista che sono multipli del valore inserito. Al termnine visualizzare entrambe le liste."
      ]
    },
    {
      "cell_type": "code",
      "metadata": {
        "colab": {
          "base_uri": "https://localhost:8080/"
        },
        "id": "XvL2LJljBDzp",
        "outputId": "92c08bf4-77f7-459b-f1a3-0a297088344a"
      },
      "source": [
        "lstnumeri = [int(f) for f in input(\"inserire numeri:\").split()]\n",
        "valore = int(input(\"inserire un valore\"))\n",
        "listafinale = []\n",
        "for numero in lstnumeri:\n",
        "  if numero%valore == 0:\n",
        "    listafinale.append(numero)\n",
        "    print(lstnumeri)\n",
        "    print(listafinale)"
      ],
      "execution_count": null,
      "outputs": [
        {
          "name": "stdout",
          "output_type": "stream",
          "text": [
            "inserire numeri:12 23 43 5 4 6 \n",
            "inserire un valore12\n",
            "[12, 23, 43, 5, 4, 6]\n",
            "[12]\n"
          ]
        }
      ]
    },
    {
      "cell_type": "code",
      "metadata": {
        "colab": {
          "base_uri": "https://localhost:8080/"
        },
        "id": "MfP2LvomC5o5",
        "outputId": "6329115a-77ca-4586-c9b0-2653f2e5b469"
      },
      "source": [
        "lstnumeri = [int(f) for f in input(\"inserire numeri:\").split()]\n",
        "valore = int(input(\"inserire un valore \"))\n",
        "listafinale = [i for i in lstnumeri if i%valore ==0]\n",
        "print(listafinale)"
      ],
      "execution_count": null,
      "outputs": [
        {
          "name": "stdout",
          "output_type": "stream",
          "text": [
            "inserire numeri:12 10 3\n",
            "inserire un valore 3\n",
            "[12, 3]\n"
          ]
        }
      ]
    },
    {
      "cell_type": "markdown",
      "metadata": {
        "id": "CEEXPY-lDuwy"
      },
      "source": [
        "3. scrivere un programma che permetta all'utente di memorizzare in un dizionario i numeri di telefono dei propri amici. L'utente deve poter inserire i nomi e i numeri."
      ]
    },
    {
      "cell_type": "code",
      "metadata": {
        "colab": {
          "base_uri": "https://localhost:8080/"
        },
        "id": "LJ4njnlXDzRR",
        "outputId": "b2cda7e1-99c0-4e7a-e52c-536748f36482"
      },
      "source": [
        "nomi = [s for s in input(\"Inserisci nome \").split()]\n",
        "numeri = [s for s in input(\"Inserisci  numeri\").split()]\n",
        "rubrica = dict((nomi,numeri)for nomi,numeri in zip(nomi,numeri))\n",
        "print(rubrica)"
      ],
      "execution_count": null,
      "outputs": [
        {
          "name": "stdout",
          "output_type": "stream",
          "text": [
            "Inserisci nome aldo gio a\n",
            "Inserisci  numeri3 4 5\n",
            "{'aldo': '3', 'gio': '4', 'a': '5'}\n"
          ]
        }
      ]
    },
    {
      "cell_type": "markdown",
      "metadata": {
        "id": "DJM8zgpgFS7U"
      },
      "source": [
        "4. scrivere un programma che dato il dizionario dell'esercizio precedente, permetta all'utente di inserire un nome e avere il numero di telefono corrispondente"
      ]
    },
    {
      "cell_type": "code",
      "metadata": {
        "colab": {
          "base_uri": "https://localhost:8080/"
        },
        "id": "PeSfsridFTWk",
        "outputId": "1adc9373-eea5-4293-e923-823faec0eb59"
      },
      "source": [
        "nome = input(\"inserire nome\")\n",
        "print(rubrica[nome])"
      ],
      "execution_count": null,
      "outputs": [
        {
          "name": "stdout",
          "output_type": "stream",
          "text": [
            "inserire nomealdo\n",
            "3\n"
          ]
        }
      ]
    },
    {
      "cell_type": "markdown",
      "metadata": {
        "id": "znynIJfQFuY8"
      },
      "source": [
        "5. scrivere una funzione che dato il raggio calcoli la superficie del cerchio avente quel raggio. Chiamare al funzione superficie,. Il valore di ritorno deve avere tre cifre decimali."
      ]
    },
    {
      "cell_type": "code",
      "metadata": {
        "colab": {
          "base_uri": "https://localhost:8080/"
        },
        "id": "mZOFCGCxFxUN",
        "outputId": "dc16e401-abb6-47d8-935d-9fe3b1b9cb49"
      },
      "source": [
        "def superfice(r):\n",
        "  area = r *(2*3.14)\n",
        "  area2 = round(area,3)\n",
        "  return area2\n",
        "\n",
        "superfice(8) "
      ],
      "execution_count": null,
      "outputs": [
        {
          "data": {
            "text/plain": [
              "50.24"
            ]
          },
          "execution_count": 23,
          "metadata": {},
          "output_type": "execute_result"
        }
      ]
    },
    {
      "cell_type": "markdown",
      "metadata": {
        "id": "gaoPjS1OGtms"
      },
      "source": [
        "6. scrivere una funzione che, utilizzando la funzione superficie dell'esercizio precedente, permetta di calcolare il volume di un cilindro dato il raggio e l'altezza. Chiamare la funzione volume. "
      ]
    },
    {
      "cell_type": "code",
      "metadata": {
        "colab": {
          "base_uri": "https://localhost:8080/"
        },
        "id": "mBfrFk8rG04u",
        "outputId": "bbc01c52-0935-4514-8c98-6ba2333d9dc9"
      },
      "source": [
        "def volume(r,h):\n",
        "  volume = superfice(r)* h \n",
        "  return volume\n",
        "volume(2,6)"
      ],
      "execution_count": null,
      "outputs": [
        {
          "data": {
            "text/plain": [
              "75.36"
            ]
          },
          "execution_count": 24,
          "metadata": {},
          "output_type": "execute_result"
        }
      ]
    },
    {
      "cell_type": "markdown",
      "metadata": {
        "id": "aUNudqklHXC9"
      },
      "source": [
        "7. scrivere un programma che permetta di decrementare tutti gli elementi di una lista utilizzando una lambda function e la funzione map(). Far inserire all'utente gli elementi della lista."
      ]
    },
    {
      "cell_type": "code",
      "metadata": {
        "colab": {
          "base_uri": "https://localhost:8080/"
        },
        "id": "4TjWE-VoHcHt",
        "outputId": "4412f84e-c789-4bf8-f13b-ce00140e83cd"
      },
      "source": [
        "numeri = [int(s)for s in input(\"Inserire numeri\").split()] \n",
        "decremento = list(map(lambda x:x - 1,numeri))\n",
        "print(numeri,decremento)"
      ],
      "execution_count": null,
      "outputs": [
        {
          "name": "stdout",
          "output_type": "stream",
          "text": [
            "Inserire numeri1 7 5 6 8 3\n",
            "[1, 7, 5, 6, 8, 3] [0, 6, 4, 5, 7, 2]\n"
          ]
        }
      ]
    },
    {
      "cell_type": "markdown",
      "metadata": {
        "id": "-uHhXCWQIjJ_"
      },
      "source": [
        "8. scrivere un programma che permetta di estrarre da una lista tutti i valori pari utilizzando una lambda function e la funzione filter(). Far inserire all'utente gli elementi della lista.\n"
      ]
    },
    {
      "cell_type": "code",
      "metadata": {
        "colab": {
          "base_uri": "https://localhost:8080/"
        },
        "id": "Y48xnRmTIl_u",
        "outputId": "4bc4814a-6293-48f5-961c-a9981d2d7af7"
      },
      "source": [
        "numeri = [int(s)for s in input(\"Inserire numeri\").split()]\n",
        "numeri = [int(s)for s in input(\"Inserire numeri\").split()]\n",
        "print(numeri)\n",
        "print(numeripari)"
      ],
      "execution_count": null,
      "outputs": [
        {
          "name": "stdout",
          "output_type": "stream",
          "text": [
            "Inserire numeri12\n",
            "[12]\n",
            "[12]\n"
          ]
        }
      ]
    },
    {
      "cell_type": "code",
      "metadata": {
        "colab": {
          "background_save": true,
          "base_uri": "https://localhost:8080/",
          "height": 147
        },
        "id": "ybwu6v4eJY3W",
        "outputId": "14829ec0-5de0-46e5-c7b1-b40d339aa5e1"
      },
      "source": [
        "def ricorsiva(base,esponente):\n",
        "      if esponente == 0:\n",
        "        return 1\n",
        "      else:\n",
        "        return num*esp(num,esp-1)\n",
        "print(potenza(5,4))"
      ],
      "execution_count": null,
      "outputs": [
        {
          "ename": "NameError",
          "evalue": "ignored",
          "output_type": "error",
          "traceback": [
            "\u001b[0;31m---------------------------------------------------------------------------\u001b[0m",
            "\u001b[0;31mNameError\u001b[0m                                 Traceback (most recent call last)",
            "\u001b[0;32m<ipython-input-4-31d16fb3ad0d>\u001b[0m in \u001b[0;36m<module>\u001b[0;34m()\u001b[0m\n\u001b[1;32m      4\u001b[0m       \u001b[0;32melse\u001b[0m\u001b[0;34m:\u001b[0m\u001b[0;34m\u001b[0m\u001b[0;34m\u001b[0m\u001b[0m\n\u001b[1;32m      5\u001b[0m         \u001b[0;32mreturn\u001b[0m \u001b[0mnum\u001b[0m\u001b[0;34m*\u001b[0m\u001b[0mesp\u001b[0m\u001b[0;34m(\u001b[0m\u001b[0mbase\u001b[0m\u001b[0;34m,\u001b[0m\u001b[0mesponente\u001b[0m\u001b[0;34m-\u001b[0m\u001b[0;36m1\u001b[0m\u001b[0;34m)\u001b[0m\u001b[0;34m\u001b[0m\u001b[0;34m\u001b[0m\u001b[0m\n\u001b[0;32m----> 6\u001b[0;31m \u001b[0mprint\u001b[0m\u001b[0;34m(\u001b[0m\u001b[0mpotenza\u001b[0m\u001b[0;34m(\u001b[0m\u001b[0;36m5\u001b[0m\u001b[0;34m,\u001b[0m\u001b[0;36m4\u001b[0m\u001b[0;34m)\u001b[0m\u001b[0;34m)\u001b[0m\u001b[0;34m\u001b[0m\u001b[0;34m\u001b[0m\u001b[0m\n\u001b[0m",
            "\u001b[0;31mNameError\u001b[0m: name 'potenza' is not defined"
          ]
        }
      ]
    },
    {
      "cell_type": "markdown",
      "metadata": {
        "id": "EXcg21F-JWYP"
      },
      "source": [
        "9. scrivere una funzione ricorsiva per calcolare l'elevamento a potenza di un numero intero. La funzione ha due paramentri: numero ed esponente"
      ]
    }
  ]
}
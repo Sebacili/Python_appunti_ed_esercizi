{
  "nbformat": 4,
  "nbformat_minor": 0,
  "metadata": {
    "colab": {
      "name": "Esercizio5.ipynb",
      "provenance": []
    },
    "kernelspec": {
      "name": "python3",
      "display_name": "Python 3"
    },
    "language_info": {
      "name": "python"
    }
  },
  "cells": [
    {
      "cell_type": "markdown",
      "metadata": {
        "id": "5nDejX-F4-y2"
      },
      "source": [
        "1. scrivere una funzione chiamata max che dati due numeri restituisca il più grande. Scrivere poi un programma che, utilizzando la funzione creata, trovi il massimo tra tre numeri inseriti dall'utente. \n"
      ]
    },
    {
      "cell_type": "code",
      "metadata": {
        "colab": {
          "base_uri": "https://localhost:8080/"
        },
        "id": "radHsW5i4jb8",
        "outputId": "ca0f612b-b062-4745-c3f6-4a2cac8ebb8b"
      },
      "source": [
        "def max(x,y):\n",
        "  if x > y:\n",
        "    return x\n",
        "  else:\n",
        "    return y\n",
        "num1= int(input())\n",
        "num2= int(input())\n",
        "num3= int(input())\n",
        "temp = max(num1,num2)\n",
        "print(\"Il numero più grande è\", max(temp,num3))"
      ],
      "execution_count": null,
      "outputs": [
        {
          "output_type": "stream",
          "name": "stdout",
          "text": [
            "20\n",
            "2\n",
            "20\n",
            "Il numero più grande è 20\n"
          ]
        }
      ]
    },
    {
      "cell_type": "code",
      "metadata": {
        "colab": {
          "base_uri": "https://localhost:8080/",
          "height": 129
        },
        "id": "SSam5ZHHCb5K",
        "outputId": "f3d33ba7-d3c2-4e0f-8341-1bbaafffcf1d"
      },
      "source": [
        "def max(a,b):\n",
        "  if a > b:\n",
        "   return a\n",
        "  else\n",
        "   return b\n"
      ],
      "execution_count": null,
      "outputs": [
        {
          "output_type": "error",
          "ename": "SyntaxError",
          "evalue": "ignored",
          "traceback": [
            "\u001b[0;36m  File \u001b[0;32m\"<ipython-input-7-9cbc0176ff41>\"\u001b[0;36m, line \u001b[0;32m4\u001b[0m\n\u001b[0;31m    else\u001b[0m\n\u001b[0m       ^\u001b[0m\n\u001b[0;31mSyntaxError\u001b[0m\u001b[0;31m:\u001b[0m invalid syntax\n"
          ]
        }
      ]
    },
    {
      "cell_type": "markdown",
      "metadata": {
        "id": "Ju9ookLB5Mw1"
      },
      "source": [
        "2. scrivere una funzione chiamata sommaLista che data una lista di interi restituisca la somma di tutti gli elementi della lista. Scrivere poi un programma che, utilizzando la funzione create, trovi la somma degli elementi di una lista inserita dall'utente. "
      ]
    },
    {
      "cell_type": "code",
      "metadata": {
        "colab": {
          "base_uri": "https://localhost:8080/"
        },
        "id": "PPDluI025P6m",
        "outputId": "831803a8-98fb-4a8e-e36f-5ac94588a729"
      },
      "source": [
        "def sommaLista(lista2):\n",
        "  somma = 0\n",
        "  for i in range(len(lista2)):\n",
        "    somma = somma + lista2[i] \n",
        "  return somma\n",
        "\n",
        "lista = list()\n",
        "dimLista = int(input(\"Inserisci la dimensione: \"))\n",
        "j = 0\n",
        "while j < dimLista:\n",
        "  lista.append(int(input(\"Inserisci un elemento: \")))\n",
        "  j += 1\n",
        "print(\"La somma degli elementi della lista è:\", sommaLista(lista))"
      ],
      "execution_count": null,
      "outputs": [
        {
          "output_type": "stream",
          "name": "stdout",
          "text": [
            "Inserisci la dimensione: 4\n",
            "Inserisci un elemento: 1\n",
            "Inserisci un elemento: 2\n",
            "Inserisci un elemento: 3\n",
            "Inserisci un elemento: 4\n",
            "La somma degli elementi della lista è: 10\n"
          ]
        }
      ]
    },
    {
      "cell_type": "code",
      "metadata": {
        "colab": {
          "base_uri": "https://localhost:8080/",
          "height": 129
        },
        "id": "jFHo2FNDDcHy",
        "outputId": "2f862d09-6d3d-49be-a4ae-7659a05df2ca"
      },
      "source": [
        "def sommaLista(lst):\n",
        "  x = 0\n",
        "     for i in lst:\n",
        "     x = x + i\n",
        "  return x\n",
        "\n",
        "n = int(input('Inserisci il numero di elementi '))\n",
        "lst = [ int(input('Scrivi il numero ')) for i in range(0,n)]\n",
        "\n",
        "sommaLista(lst)"
      ],
      "execution_count": null,
      "outputs": [
        {
          "output_type": "error",
          "ename": "IndentationError",
          "evalue": "ignored",
          "traceback": [
            "\u001b[0;36m  File \u001b[0;32m\"<ipython-input-13-531518c13a8e>\"\u001b[0;36m, line \u001b[0;32m3\u001b[0m\n\u001b[0;31m    for i in lst:\u001b[0m\n\u001b[0m    ^\u001b[0m\n\u001b[0;31mIndentationError\u001b[0m\u001b[0;31m:\u001b[0m unexpected indent\n"
          ]
        }
      ]
    },
    {
      "cell_type": "code",
      "metadata": {
        "colab": {
          "base_uri": "https://localhost:8080/"
        },
        "id": "4PrA6jSkEFMp",
        "outputId": "aae1233b-b2ea-4876-c313-fdd0e6600a10"
      },
      "source": [
        "#scrivere un programma per caricare una lista a partire da una stringa\n",
        "stringa = input('inserisci i numeri separati da uno spazio')\n",
        "print(stringa)\n",
        "ListaNumeri= stringa.split()\n",
        "print(ListaNumeri)\n",
        "numeriInteri = list(map(int,ListaNumeri))\n",
        "print(numeriInteri)"
      ],
      "execution_count": null,
      "outputs": [
        {
          "output_type": "stream",
          "name": "stdout",
          "text": [
            "inserisci i numeri separati da uno spazio1 2 3 4 \n",
            "1 2 3 4 \n",
            "['1', '2', '3', '4']\n",
            "[1, 2, 3, 4]\n"
          ]
        }
      ]
    },
    {
      "cell_type": "code",
      "metadata": {
        "id": "lNoQ5tC7FEtB"
      },
      "source": [
        "numeriInteri = list(map)"
      ],
      "execution_count": null,
      "outputs": []
    },
    {
      "cell_type": "markdown",
      "metadata": {
        "id": "kgfOlRvI5Vmk"
      },
      "source": [
        "3. utilizzando le funzioni create precedentemente, scrivere un programma che permetta all'utente di inserire tre liste e di avere il valore massimo della somma degli elementi delle tre liste.\n"
      ]
    },
    {
      "cell_type": "code",
      "metadata": {
        "colab": {
          "base_uri": "https://localhost:8080/",
          "height": 333
        },
        "id": "37jOMQRa5o9R",
        "outputId": "876f776e-bb22-4d2d-ae47-6ddffe4bdc93"
      },
      "source": [
        "stringa=input(\"Inserisci i valori: \")\n",
        "numeri=[int(s) for s in stringa.split()]\n",
        "stringa2=input(\"Inserisci i valori: \")\n",
        "numeri2=[int(s) for s in stringa2.split()]\n",
        "stringa3=input(\"Inserisci i valori: \")\n",
        "numeri3=[int(s) for s in stringa3.split()]\n",
        "print(numeri)\n",
        "print(numeri2)\n",
        "print(numeri3)\n",
        "print(sommaLista(numeri, len(numeri)))\n",
        "print(sommaLista(numeri2, len(numeri2)))\n",
        "print(sommaLista(numeri3, len(numeri3)))\n",
        "print(sommaLista(numeri, len(numeri)) + sommaLista(numeri2, len(numeri2)) + sommaLista(numeri3, len(numeri3)))"
      ],
      "execution_count": null,
      "outputs": [
        {
          "output_type": "stream",
          "name": "stdout",
          "text": [
            "Inserisci i valori: 1\n",
            "Inserisci i valori: 2\n",
            "Inserisci i valori: 3\n",
            "[1]\n",
            "[2]\n",
            "[3]\n"
          ]
        },
        {
          "output_type": "error",
          "ename": "TypeError",
          "evalue": "ignored",
          "traceback": [
            "\u001b[0;31m---------------------------------------------------------------------------\u001b[0m",
            "\u001b[0;31mTypeError\u001b[0m                                 Traceback (most recent call last)",
            "\u001b[0;32m<ipython-input-14-2fa2ce49adbf>\u001b[0m in \u001b[0;36m<module>\u001b[0;34m()\u001b[0m\n\u001b[1;32m      8\u001b[0m \u001b[0mprint\u001b[0m\u001b[0;34m(\u001b[0m\u001b[0mnumeri2\u001b[0m\u001b[0;34m)\u001b[0m\u001b[0;34m\u001b[0m\u001b[0;34m\u001b[0m\u001b[0m\n\u001b[1;32m      9\u001b[0m \u001b[0mprint\u001b[0m\u001b[0;34m(\u001b[0m\u001b[0mnumeri3\u001b[0m\u001b[0;34m)\u001b[0m\u001b[0;34m\u001b[0m\u001b[0;34m\u001b[0m\u001b[0m\n\u001b[0;32m---> 10\u001b[0;31m \u001b[0mprint\u001b[0m\u001b[0;34m(\u001b[0m\u001b[0msommaLista\u001b[0m\u001b[0;34m(\u001b[0m\u001b[0mnumeri\u001b[0m\u001b[0;34m,\u001b[0m \u001b[0mlen\u001b[0m\u001b[0;34m(\u001b[0m\u001b[0mnumeri\u001b[0m\u001b[0;34m)\u001b[0m\u001b[0;34m)\u001b[0m\u001b[0;34m)\u001b[0m\u001b[0;34m\u001b[0m\u001b[0;34m\u001b[0m\u001b[0m\n\u001b[0m\u001b[1;32m     11\u001b[0m \u001b[0mprint\u001b[0m\u001b[0;34m(\u001b[0m\u001b[0msommaLista\u001b[0m\u001b[0;34m(\u001b[0m\u001b[0mnumeri2\u001b[0m\u001b[0;34m,\u001b[0m \u001b[0mlen\u001b[0m\u001b[0;34m(\u001b[0m\u001b[0mnumeri2\u001b[0m\u001b[0;34m)\u001b[0m\u001b[0;34m)\u001b[0m\u001b[0;34m)\u001b[0m\u001b[0;34m\u001b[0m\u001b[0;34m\u001b[0m\u001b[0m\n\u001b[1;32m     12\u001b[0m \u001b[0mprint\u001b[0m\u001b[0;34m(\u001b[0m\u001b[0msommaLista\u001b[0m\u001b[0;34m(\u001b[0m\u001b[0mnumeri3\u001b[0m\u001b[0;34m,\u001b[0m \u001b[0mlen\u001b[0m\u001b[0;34m(\u001b[0m\u001b[0mnumeri3\u001b[0m\u001b[0;34m)\u001b[0m\u001b[0;34m)\u001b[0m\u001b[0;34m)\u001b[0m\u001b[0;34m\u001b[0m\u001b[0;34m\u001b[0m\u001b[0m\n",
            "\u001b[0;31mTypeError\u001b[0m: sommaLista() takes 1 positional argument but 2 were given"
          ]
        }
      ]
    },
    {
      "cell_type": "code",
      "metadata": {
        "colab": {
          "base_uri": "https://localhost:8080/"
        },
        "id": "dkktmH7vD-mS",
        "outputId": "7b2fe515-df01-4c69-b4f3-41938fef414a"
      },
      "source": [
        "lst1 = [int(s)for s in input('Inserisci i valori: ').split()]\n",
        "lst2 = [int(s)for s in input('Inserisci i valori: ').split()]\n",
        "lst3 = [int(s)for s in input('Inserisci i valori: ').split()]\n",
        "\n",
        "max(max(sommaLista(lst1),sommaLista(lst2)),sommaLista(lst3))\n"
      ],
      "execution_count": null,
      "outputs": [
        {
          "name": "stdout",
          "output_type": "stream",
          "text": [
            "Inserisci i valori: 1\n",
            "Inserisci i valori: 2\n",
            "Inserisci i valori: 3\n"
          ]
        },
        {
          "output_type": "execute_result",
          "data": {
            "text/plain": [
              "3"
            ]
          },
          "metadata": {},
          "execution_count": 24
        }
      ]
    },
    {
      "cell_type": "markdown",
      "metadata": {
        "id": "ECoQisvN5qRN"
      },
      "source": [
        "4. scrivere una funzione chiamata controlla che dato un numero e due estremi restituisca True se il numero è compreso tra i due estremi, false altrimenti. Utilizzare poi la funzione per trovare il numero di elementi di una lista di numeri interi (inserita dall'utente) compresi tra due estremi (inseriti anch'essi dall'utente)\n"
      ]
    },
    {
      "cell_type": "code",
      "metadata": {
        "id": "KTaGs6aX54um",
        "colab": {
          "base_uri": "https://localhost:8080/",
          "height": 129
        },
        "outputId": "4c285662-489c-486b-d120-5429a4e86dc0"
      },
      "source": [
        "def controlla(x,y,z):\n",
        " c = True\n",
        " e = False\n",
        "   if x in range(y,z):\n",
        "     return c\n",
        "  else:\n",
        "    return e\n",
        "   "
      ],
      "execution_count": null,
      "outputs": [
        {
          "output_type": "error",
          "ename": "IndentationError",
          "evalue": "ignored",
          "traceback": [
            "\u001b[0;36m  File \u001b[0;32m\"<ipython-input-34-aa1616a29ad8>\"\u001b[0;36m, line \u001b[0;32m2\u001b[0m\n\u001b[0;31m    c = True\u001b[0m\n\u001b[0m    ^\u001b[0m\n\u001b[0;31mIndentationError\u001b[0m\u001b[0;31m:\u001b[0m expected an indented block\n"
          ]
        }
      ]
    },
    {
      "cell_type": "code",
      "metadata": {
        "id": "xNQ_iC74G9d6"
      },
      "source": [
        "def controlla2(a,b,c):\n",
        "  if b < a < c :\n",
        "   return True\n",
        "  else :\n",
        "   return False\n",
        "   "
      ],
      "execution_count": null,
      "outputs": []
    },
    {
      "cell_type": "markdown",
      "metadata": {
        "id": "u0pYth6z6Fjp"
      },
      "source": [
        "5. utilizzare la funzione controlla creata precedentemente per scrivere un programma che, data una lista di numeri interi inserita  dall'utente, carichi in un'altra lista i numeri compresi tra due estremi inseriti anch'essi dall'utente."
      ]
    },
    {
      "cell_type": "code",
      "metadata": {
        "id": "YyVkwEPQ6FR4",
        "colab": {
          "base_uri": "https://localhost:8080/"
        },
        "outputId": "b140a886-5dab-4eb4-ea5d-5ac218982538"
      },
      "source": [
        "lst2 = [int(s)for s in input('scrivi i numeri').split()] \n",
        "lst3 = []\n",
        "for elemento in lst2:\n",
        "  if controlla(10,50,elemento):\n",
        "    lst3.append(elemento)\n",
        "    print(lst3)"
      ],
      "execution_count": null,
      "outputs": [
        {
          "name": "stdout",
          "output_type": "stream",
          "text": [
            "scrivi i numeri1 2 3 4 5 65\n"
          ]
        }
      ]
    },
    {
      "cell_type": "markdown",
      "metadata": {
        "id": "KdhCt-An6YsV"
      },
      "source": [
        "6. scrivere una funzione chiamata confrontaListe che date due liste restituisca True se le due liste sono uguali, False altrimenti. Utilizzare poi la funzione in un programma che dica se una lista di interi è palindroma, cioè se può essere letta indifferentemente da sinistra a destra e da destra a sinistra. Ad esempio la lista [1, 2, 3, 4, 3, 2, 1] è palindroma, la lista [1, 2, 3, 4, 3,1, 2] non lo è.\n"
      ]
    },
    {
      "cell_type": "code",
      "metadata": {
        "colab": {
          "base_uri": "https://localhost:8080/"
        },
        "id": "y1XaX89t6a8o",
        "outputId": "29fcfb72-7181-4ac6-b205-97c7ecf49c46"
      },
      "source": [
        "def confrontalista(lista1, lista2):\n",
        "  if lista1 == lista2:\n",
        "    return True\n",
        "  else:\n",
        "    return False\n",
        "numeri1 =[int(s)for s in input(\"inserisci lista di numeri: \").split()]\n",
        "numeri2 = numeri1 [:]\n",
        "numeri2.reverse()\n",
        "print(\"la lista dell'utente è palindroma: \", confrontalista(numeri1, numeri2))"
      ],
      "execution_count": null,
      "outputs": [
        {
          "output_type": "stream",
          "name": "stdout",
          "text": [
            "inserisci lista di numeri: 1\n",
            "la lista dell'utente è palindroma:  True\n"
          ]
        }
      ]
    },
    {
      "cell_type": "markdown",
      "metadata": {
        "id": "SayhxFdj6kwr"
      },
      "source": [
        "7. scrivere una funzione chiamata celsiusToFahrenheit che data una temperatura in gradi Celsius restituisca il valore convertito in gradi Fahrenheit (per ulteriori info, google it). Scrivere poi un programma che data una lista di temperature in gradi Celsius,inserita dall'utente, converta tutte le temperature in gradi Fahrenheit.\n",
        "\n"
      ]
    },
    {
      "cell_type": "code",
      "metadata": {
        "id": "14CZytmw6lFy"
      },
      "source": [
        "lista = input(\"Inserire un valore in Celsius: \").split(' ')\n",
        "\n",
        "def celsiusToFahrenheit(x):\n",
        "  return round(x * (1.8) + 32)\n",
        "\n",
        "print([celsiusToFahrenheit(int(x)) for x in lista])"
      ],
      "execution_count": null,
      "outputs": []
    },
    {
      "cell_type": "markdown",
      "metadata": {
        "id": "Z9SO4nxe6sRu"
      },
      "source": [
        "8. scrivere una funzione chiamata IMC che calcoli l'Indice di Massa Corporea a partire dal peso (in kg) e dall'altezza (in m). Utilizzare poi la funzione per scrivere un programma che date tre liste, contenente la prima una serie di nomi, la seconda una serie di pesi e la terza una serie di altezze, produca una quarta lista contenente i valori di IMC corrispondenti. Visualizzare poi i risultati nel seguente modo: \"<nome> pesa <peso kg, misura <altezza> m ed ha un IMC di <IMC>\" ( i valori nelle parentesi angolari vanno presi ovviamente dalle liste)"
      ]
    },
    {
      "cell_type": "code",
      "metadata": {
        "id": "rARkSclO6tEO"
      },
      "source": [
        ""
      ],
      "execution_count": null,
      "outputs": []
    },
    {
      "cell_type": "markdown",
      "metadata": {
        "id": "xtPEiBy-60sT"
      },
      "source": [
        "9: scrivere una lambda function per estrarre da una lista di numeri interi tutti i valori pari."
      ]
    },
    {
      "cell_type": "code",
      "metadata": {
        "id": "3Uqzzjg162xo",
        "colab": {
          "base_uri": "https://localhost:8080/"
        },
        "outputId": "1700f538-eae4-4c66-ab09-c9822f29ece0"
      },
      "source": [
        "l1 = [0,1,2,3,4,5,6,7,8,9]\n",
        "risultato = lambda l1: [n for n in l1 if n%2 == 0]\n",
        "print(risultato(l1))"
      ],
      "execution_count": null,
      "outputs": [
        {
          "output_type": "stream",
          "name": "stdout",
          "text": [
            "[0, 2, 4, 6, 8]\n"
          ]
        }
      ]
    }
  ]
}
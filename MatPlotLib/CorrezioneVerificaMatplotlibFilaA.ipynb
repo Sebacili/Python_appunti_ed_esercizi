{
  "nbformat": 4,
  "nbformat_minor": 0,
  "metadata": {
    "colab": {
      "name": "CorrezioneVerificaMatplotlibFilaA.ipynb",
      "provenance": []
    },
    "kernelspec": {
      "name": "python3",
      "display_name": "Python 3"
    },
    "language_info": {
      "name": "python"
    }
  },
  "cells": [
    {
      "cell_type": "code",
      "metadata": {
        "id": "bzE2XMORryo6"
      },
      "source": [
        "import pandas as pd\n",
        "import matplotlib.pyplot as plt\n",
        "import numpy as np"
      ],
      "execution_count": null,
      "outputs": []
    },
    {
      "cell_type": "code",
      "metadata": {
        "colab": {
          "base_uri": "https://localhost:8080/",
          "height": 423
        },
        "id": "yvXohAp6rMg6",
        "outputId": "8a85db04-8255-4141-aa9f-b9ea49339931"
      },
      "source": [
        "df = pd.read_csv('https://raw.githubusercontent.com/italia/covid19-opendata-vaccini/master/dati/platea.csv')\n",
        "df"
      ],
      "execution_count": null,
      "outputs": [
        {
          "output_type": "execute_result",
          "data": {
            "text/html": [
              "<div>\n",
              "<style scoped>\n",
              "    .dataframe tbody tr th:only-of-type {\n",
              "        vertical-align: middle;\n",
              "    }\n",
              "\n",
              "    .dataframe tbody tr th {\n",
              "        vertical-align: top;\n",
              "    }\n",
              "\n",
              "    .dataframe thead th {\n",
              "        text-align: right;\n",
              "    }\n",
              "</style>\n",
              "<table border=\"1\" class=\"dataframe\">\n",
              "  <thead>\n",
              "    <tr style=\"text-align: right;\">\n",
              "      <th></th>\n",
              "      <th>area</th>\n",
              "      <th>nome_area</th>\n",
              "      <th>fascia_anagrafica</th>\n",
              "      <th>totale_popolazione</th>\n",
              "    </tr>\n",
              "  </thead>\n",
              "  <tbody>\n",
              "    <tr>\n",
              "      <th>0</th>\n",
              "      <td>ABR</td>\n",
              "      <td>Abruzzo</td>\n",
              "      <td>12-19</td>\n",
              "      <td>94727</td>\n",
              "    </tr>\n",
              "    <tr>\n",
              "      <th>1</th>\n",
              "      <td>ABR</td>\n",
              "      <td>Abruzzo</td>\n",
              "      <td>20-29</td>\n",
              "      <td>125230</td>\n",
              "    </tr>\n",
              "    <tr>\n",
              "      <th>2</th>\n",
              "      <td>ABR</td>\n",
              "      <td>Abruzzo</td>\n",
              "      <td>30-39</td>\n",
              "      <td>146965</td>\n",
              "    </tr>\n",
              "    <tr>\n",
              "      <th>3</th>\n",
              "      <td>ABR</td>\n",
              "      <td>Abruzzo</td>\n",
              "      <td>40-49</td>\n",
              "      <td>187162</td>\n",
              "    </tr>\n",
              "    <tr>\n",
              "      <th>4</th>\n",
              "      <td>ABR</td>\n",
              "      <td>Abruzzo</td>\n",
              "      <td>50-59</td>\n",
              "      <td>208686</td>\n",
              "    </tr>\n",
              "    <tr>\n",
              "      <th>...</th>\n",
              "      <td>...</td>\n",
              "      <td>...</td>\n",
              "      <td>...</td>\n",
              "      <td>...</td>\n",
              "    </tr>\n",
              "    <tr>\n",
              "      <th>163</th>\n",
              "      <td>VEN</td>\n",
              "      <td>Veneto</td>\n",
              "      <td>40-49</td>\n",
              "      <td>715790</td>\n",
              "    </tr>\n",
              "    <tr>\n",
              "      <th>164</th>\n",
              "      <td>VEN</td>\n",
              "      <td>Veneto</td>\n",
              "      <td>50-59</td>\n",
              "      <td>806474</td>\n",
              "    </tr>\n",
              "    <tr>\n",
              "      <th>165</th>\n",
              "      <td>VEN</td>\n",
              "      <td>Veneto</td>\n",
              "      <td>60-69</td>\n",
              "      <td>610635</td>\n",
              "    </tr>\n",
              "    <tr>\n",
              "      <th>166</th>\n",
              "      <td>VEN</td>\n",
              "      <td>Veneto</td>\n",
              "      <td>70-79</td>\n",
              "      <td>494721</td>\n",
              "    </tr>\n",
              "    <tr>\n",
              "      <th>167</th>\n",
              "      <td>VEN</td>\n",
              "      <td>Veneto</td>\n",
              "      <td>80+</td>\n",
              "      <td>370529</td>\n",
              "    </tr>\n",
              "  </tbody>\n",
              "</table>\n",
              "<p>168 rows × 4 columns</p>\n",
              "</div>"
            ],
            "text/plain": [
              "    area nome_area fascia_anagrafica  totale_popolazione\n",
              "0    ABR   Abruzzo             12-19               94727\n",
              "1    ABR   Abruzzo             20-29              125230\n",
              "2    ABR   Abruzzo             30-39              146965\n",
              "3    ABR   Abruzzo             40-49              187162\n",
              "4    ABR   Abruzzo             50-59              208686\n",
              "..   ...       ...               ...                 ...\n",
              "163  VEN    Veneto             40-49              715790\n",
              "164  VEN    Veneto             50-59              806474\n",
              "165  VEN    Veneto             60-69              610635\n",
              "166  VEN    Veneto             70-79              494721\n",
              "167  VEN    Veneto               80+              370529\n",
              "\n",
              "[168 rows x 4 columns]"
            ]
          },
          "metadata": {},
          "execution_count": 4
        }
      ]
    },
    {
      "cell_type": "markdown",
      "metadata": {
        "id": "LbFpT3ZHsEwZ"
      },
      "source": [
        "Visualizzare la popolazione complessiva di tutte le regioni"
      ]
    },
    {
      "cell_type": "code",
      "metadata": {
        "colab": {
          "base_uri": "https://localhost:8080/"
        },
        "id": "0EiMK7jCsOQE",
        "outputId": "cb0c66d3-0fdd-47f5-84ba-2f53616a28e8"
      },
      "source": [
        "df.groupby(\"nome_area\")[\"totale_popolazione\"].sum()"
      ],
      "execution_count": null,
      "outputs": [
        {
          "output_type": "execute_result",
          "data": {
            "text/plain": [
              "nome_area\n",
              "Abruzzo                  1188922\n",
              "Basilicata                494881\n",
              "Calabria                 1689716\n",
              "Campania                 5104347\n",
              "Emilia-Romagna           3998406\n",
              "Friuli-Venezia Giulia    1088152\n",
              "Lazio                    5147533\n",
              "Liguria                  1399466\n",
              "Lombardia                9246804\n",
              "Marche                   1366477\n",
              "Molise                    273317\n",
              "P.A. Bolzano              465181\n",
              "P.A. Trento               481355\n",
              "Piemonte                 3927641\n",
              "Puglia                   3572053\n",
              "Sardegna                 1484800\n",
              "Sicilia                  4435335\n",
              "Toscana                  3360763\n",
              "Umbria                    790414\n",
              "Valle d'Aosta             110382\n",
              "Veneto                   4383999\n",
              "Name: totale_popolazione, dtype: int64"
            ]
          },
          "metadata": {},
          "execution_count": 4
        }
      ]
    },
    {
      "cell_type": "markdown",
      "metadata": {
        "id": "eK4LZDnBsoum"
      },
      "source": [
        "Visualizzare la popolazione di una regione inserita dall’utente. Controllare il dato inserito: se la regione\n",
        "non esiste dare un opportuno messaggio, altrimenti dare il messaggio “La regione &lt;nome&gt; ha &lt;totale&gt;\n",
        "abitanti”"
      ]
    },
    {
      "cell_type": "code",
      "metadata": {
        "colab": {
          "base_uri": "https://localhost:8080/"
        },
        "id": "503H_j8fsocG",
        "outputId": "93c033e7-756f-46f6-a420-5cff268f5742"
      },
      "source": [
        "regione = input(\"Inserire regione:\")\n",
        "popolazione = df[df['nome_area']==regione].totale_popolazione.sum()\n",
        "if popolazione > 0:\n",
        "  print('La regione',regione,'ha',popolazione,\"abitanti\")\n",
        "else:\n",
        "    print(\"n\")"
      ],
      "execution_count": null,
      "outputs": [
        {
          "output_type": "stream",
          "name": "stdout",
          "text": [
            "Inserire regione:Lombardia\n",
            "La regione Lombardia ha 9246804 abitanti\n"
          ]
        }
      ]
    },
    {
      "cell_type": "markdown",
      "metadata": {
        "id": "DQlU41F4uNMz"
      },
      "source": [
        "Visualizzare la popolazione di ogni regione. Visualizzare il nome della regione e il numero di abitanti.\n",
        "Ordinare in ordine decrescente sul numero di abitanti (dalla regione che ha più abitanti a quella che ne\n",
        "ha di meno)"
      ]
    },
    {
      "cell_type": "code",
      "metadata": {
        "id": "WcSqhmneuP76",
        "colab": {
          "base_uri": "https://localhost:8080/",
          "height": 708
        },
        "outputId": "7457dfb8-9265-4884-9521-c6ada24ea702"
      },
      "source": [
        " df1 = df.groupby(\"nome_area\",as_index = False)[\"totale_popolazione\"].sum().sort_values(by = \"totale_popolazione\",ascending = False)\n",
        " df1"
      ],
      "execution_count": null,
      "outputs": [
        {
          "output_type": "execute_result",
          "data": {
            "text/html": [
              "<div>\n",
              "<style scoped>\n",
              "    .dataframe tbody tr th:only-of-type {\n",
              "        vertical-align: middle;\n",
              "    }\n",
              "\n",
              "    .dataframe tbody tr th {\n",
              "        vertical-align: top;\n",
              "    }\n",
              "\n",
              "    .dataframe thead th {\n",
              "        text-align: right;\n",
              "    }\n",
              "</style>\n",
              "<table border=\"1\" class=\"dataframe\">\n",
              "  <thead>\n",
              "    <tr style=\"text-align: right;\">\n",
              "      <th></th>\n",
              "      <th>nome_area</th>\n",
              "      <th>totale_popolazione</th>\n",
              "    </tr>\n",
              "  </thead>\n",
              "  <tbody>\n",
              "    <tr>\n",
              "      <th>8</th>\n",
              "      <td>Lombardia</td>\n",
              "      <td>9246804</td>\n",
              "    </tr>\n",
              "    <tr>\n",
              "      <th>6</th>\n",
              "      <td>Lazio</td>\n",
              "      <td>5147533</td>\n",
              "    </tr>\n",
              "    <tr>\n",
              "      <th>3</th>\n",
              "      <td>Campania</td>\n",
              "      <td>5104347</td>\n",
              "    </tr>\n",
              "    <tr>\n",
              "      <th>16</th>\n",
              "      <td>Sicilia</td>\n",
              "      <td>4435335</td>\n",
              "    </tr>\n",
              "    <tr>\n",
              "      <th>20</th>\n",
              "      <td>Veneto</td>\n",
              "      <td>4383999</td>\n",
              "    </tr>\n",
              "    <tr>\n",
              "      <th>4</th>\n",
              "      <td>Emilia-Romagna</td>\n",
              "      <td>3998406</td>\n",
              "    </tr>\n",
              "    <tr>\n",
              "      <th>13</th>\n",
              "      <td>Piemonte</td>\n",
              "      <td>3927641</td>\n",
              "    </tr>\n",
              "    <tr>\n",
              "      <th>14</th>\n",
              "      <td>Puglia</td>\n",
              "      <td>3572053</td>\n",
              "    </tr>\n",
              "    <tr>\n",
              "      <th>17</th>\n",
              "      <td>Toscana</td>\n",
              "      <td>3360763</td>\n",
              "    </tr>\n",
              "    <tr>\n",
              "      <th>2</th>\n",
              "      <td>Calabria</td>\n",
              "      <td>1689716</td>\n",
              "    </tr>\n",
              "    <tr>\n",
              "      <th>15</th>\n",
              "      <td>Sardegna</td>\n",
              "      <td>1484800</td>\n",
              "    </tr>\n",
              "    <tr>\n",
              "      <th>7</th>\n",
              "      <td>Liguria</td>\n",
              "      <td>1399466</td>\n",
              "    </tr>\n",
              "    <tr>\n",
              "      <th>9</th>\n",
              "      <td>Marche</td>\n",
              "      <td>1366477</td>\n",
              "    </tr>\n",
              "    <tr>\n",
              "      <th>0</th>\n",
              "      <td>Abruzzo</td>\n",
              "      <td>1188922</td>\n",
              "    </tr>\n",
              "    <tr>\n",
              "      <th>5</th>\n",
              "      <td>Friuli-Venezia Giulia</td>\n",
              "      <td>1088152</td>\n",
              "    </tr>\n",
              "    <tr>\n",
              "      <th>18</th>\n",
              "      <td>Umbria</td>\n",
              "      <td>790414</td>\n",
              "    </tr>\n",
              "    <tr>\n",
              "      <th>1</th>\n",
              "      <td>Basilicata</td>\n",
              "      <td>494881</td>\n",
              "    </tr>\n",
              "    <tr>\n",
              "      <th>12</th>\n",
              "      <td>P.A. Trento</td>\n",
              "      <td>481355</td>\n",
              "    </tr>\n",
              "    <tr>\n",
              "      <th>11</th>\n",
              "      <td>P.A. Bolzano</td>\n",
              "      <td>465181</td>\n",
              "    </tr>\n",
              "    <tr>\n",
              "      <th>10</th>\n",
              "      <td>Molise</td>\n",
              "      <td>273317</td>\n",
              "    </tr>\n",
              "    <tr>\n",
              "      <th>19</th>\n",
              "      <td>Valle d'Aosta</td>\n",
              "      <td>110382</td>\n",
              "    </tr>\n",
              "  </tbody>\n",
              "</table>\n",
              "</div>"
            ],
            "text/plain": [
              "                nome_area  totale_popolazione\n",
              "8               Lombardia             9246804\n",
              "6                   Lazio             5147533\n",
              "3                Campania             5104347\n",
              "16                Sicilia             4435335\n",
              "20                 Veneto             4383999\n",
              "4          Emilia-Romagna             3998406\n",
              "13               Piemonte             3927641\n",
              "14                 Puglia             3572053\n",
              "17                Toscana             3360763\n",
              "2                Calabria             1689716\n",
              "15               Sardegna             1484800\n",
              "7                 Liguria             1399466\n",
              "9                  Marche             1366477\n",
              "0                 Abruzzo             1188922\n",
              "5   Friuli-Venezia Giulia             1088152\n",
              "18                 Umbria              790414\n",
              "1              Basilicata              494881\n",
              "12            P.A. Trento              481355\n",
              "11           P.A. Bolzano              465181\n",
              "10                 Molise              273317\n",
              "19          Valle d'Aosta              110382"
            ]
          },
          "metadata": {},
          "execution_count": 6
        }
      ]
    },
    {
      "cell_type": "markdown",
      "metadata": {
        "id": "nPVdJ3IhvRos"
      },
      "source": [
        "Visualizzare il grafico a barre orizzontali relativo all’esercizio 3. Inserire il titolo, i nomi degli assi e la\n",
        "legenda. Fare in modo che i colori delle barre siano gradazioni dello stesso colore."
      ]
    },
    {
      "cell_type": "code",
      "metadata": {
        "colab": {
          "base_uri": "https://localhost:8080/",
          "height": 278
        },
        "id": "19eISoqTvUZH",
        "outputId": "9cf16517-1ffc-4e38-c57a-ca8f2cfc2e30"
      },
      "source": [
        "\n",
        "fig = plt.figure()\n",
        "ax = plt.axes()\n",
        "ax.barh(df1[\"nome_area\"],df1[\"totale_popolazione\"],color = \"olive\")\n",
        "\n",
        "plt.show()"
      ],
      "execution_count": null,
      "outputs": [
        {
          "output_type": "display_data",
          "data": {
            "image/png": "[encoded data removed]",
            "text/plain": [
              "<Figure size 432x288 with 1 Axes>"
            ]
          },
          "metadata": {
            "needs_background": "light"
          }
        }
      ]
    },
    {
      "cell_type": "markdown",
      "metadata": {
        "id": "my3g0fNsywZR"
      },
      "source": [
        "Eliminare la colonna ‘area’"
      ]
    },
    {
      "cell_type": "code",
      "metadata": {
        "id": "syeT9dvbyI78"
      },
      "source": [
        "df.drop(columns=[\"area\"],inplace=True)\n"
      ],
      "execution_count": null,
      "outputs": []
    },
    {
      "cell_type": "markdown",
      "metadata": {
        "id": "qRoIPUyTzbd7"
      },
      "source": [
        "Visualizzare le fasce anagrafiche che hanno un numero di persone compreso tra 5 e 7 milioni"
      ]
    },
    {
      "cell_type": "code",
      "metadata": {
        "colab": {
          "base_uri": "https://localhost:8080/",
          "height": 50
        },
        "id": "WPEV0pj4zdvX",
        "outputId": "24130e57-4701-4ebe-cf92-f78cbeeab5ca"
      },
      "source": [
        "df.groupby(\"fascia_anagrafica\")[\"totale_popolazione\"].sum()\n",
        "df.loc[(df[\"totale_popolazione\"] <= 7000000) & (df[\"totale_popolazione\"] >= 5000000),[\"fascia_anagrafica\"]]"
      ],
      "execution_count": null,
      "outputs": [
        {
          "output_type": "execute_result",
          "data": {
            "text/html": [
              "<div>\n",
              "<style scoped>\n",
              "    .dataframe tbody tr th:only-of-type {\n",
              "        vertical-align: middle;\n",
              "    }\n",
              "\n",
              "    .dataframe tbody tr th {\n",
              "        vertical-align: top;\n",
              "    }\n",
              "\n",
              "    .dataframe thead th {\n",
              "        text-align: right;\n",
              "    }\n",
              "</style>\n",
              "<table border=\"1\" class=\"dataframe\">\n",
              "  <thead>\n",
              "    <tr style=\"text-align: right;\">\n",
              "      <th></th>\n",
              "      <th>fascia_anagrafica</th>\n",
              "    </tr>\n",
              "  </thead>\n",
              "  <tbody>\n",
              "  </tbody>\n",
              "</table>\n",
              "</div>"
            ],
            "text/plain": [
              "Empty DataFrame\n",
              "Columns: [fascia_anagrafica]\n",
              "Index: []"
            ]
          },
          "metadata": {},
          "execution_count": 7
        }
      ]
    },
    {
      "cell_type": "code",
      "metadata": {
        "id": "wZQaO_KJ0hGi"
      },
      "source": [
        "df1= df.groupby(\"fascia_anagrafica\")[[\"totale_popolazione\"]].sum().reset_index()\n",
        "df2 = df1.loc[(df1[\"totale_popolazione\"] > 5000000) & (df1[\"totale_popolazione\"] <7000000),[\"fascia_anagrafica\", \"totale_popolazione\"]]"
      ],
      "execution_count": null,
      "outputs": []
    },
    {
      "cell_type": "markdown",
      "metadata": {
        "id": "bnMVXZCs1ewU"
      },
      "source": [
        "7. Visualizzare il grafico a torta dei dati dell’esercizio 6. Visualizzare negli spicchi sia il numero assoluto\n",
        "degli abitanti (ad esempio 4345767) sia la percentuale"
      ]
    },
    {
      "cell_type": "code",
      "metadata": {
        "colab": {
          "base_uri": "https://localhost:8080/",
          "height": 404
        },
        "id": "nFj5q3iC1hPM",
        "outputId": "6a14f46d-f02f-4b88-c9e2-9807276f6c2a"
      },
      "source": [
        "fig = plt.figure()\n",
        "ax = plt.axes()\n",
        "ax.pie(df2[\"totale_popolazione\"],labels=df2[\"fascia_anagrafica\"],autopct=\"%1.0f%%\")"
      ],
      "execution_count": null,
      "outputs": [
        {
          "output_type": "execute_result",
          "data": {
            "text/plain": [
              "([<matplotlib.patches.Wedge at 0x7f7b44ab40d0>,\n",
              "  <matplotlib.patches.Wedge at 0x7f7b44ab4910>,\n",
              "  <matplotlib.patches.Wedge at 0x7f7b44abb1d0>],\n",
              " [Text(0.5911191098564532, 0.9276735406178805, '20-29'),\n",
              "  Text(-1.0999995223930605, 0.0010250536761079818, '30-39'),\n",
              "  Text(0.5902542979538239, -0.9282240374753493, '70-79')],\n",
              " [Text(0.3224286053762472, 0.5060037494279348, '31.9%'),\n",
              "  Text(-0.5999997394871238, 0.00055912018696799, '36.1%'),\n",
              "  Text(0.3219568897929948, -0.5063040204410996, '32.0%')])"
            ]
          },
          "metadata": {},
          "execution_count": 18
        },
        {
          "output_type": "display_data",
          "data": {
            "image/png": "[encoded data removed]",
            "text/plain": [
              "<Figure size 432x288 with 1 Axes>"
            ]
          },
          "metadata": {}
        }
      ]
    },
    {
      "cell_type": "markdown",
      "metadata": {
        "id": "7uRe7PD03BvK"
      },
      "source": [
        "8.Visualizzare un nuovo grafico con i grafici precedenti. Il nuovo grafico deve avere due colonne e tre\n",
        "righe e deve contenere nella prima colonna tre volte il grafico a barre e nelle seconda colonna tre volte\n"
      ]
    },
    {
      "cell_type": "code",
      "metadata": {
        "id": "YXya0DjQ3GZe"
      },
      "source": [
        "fig,ax= plt.subplot(3,2)\n",
        "ax = plt.axes()\n"
      ],
      "execution_count": null,
      "outputs": []
    },
    {
      "cell_type": "markdown",
      "metadata": {
        "id": "-d_FBHOC8H6t"
      },
      "source": [
        "9. Salvare il grafico in un file .png"
      ]
    },
    {
      "cell_type": "code",
      "metadata": {
        "colab": {
          "base_uri": "https://localhost:8080/",
          "height": 34
        },
        "id": "iH5bLBta8Ill",
        "outputId": "3c8219c2-4ab5-42db-a0ac-7416a57be9f8"
      },
      "source": [
        "plt.savefig(\"output.png\")"
      ],
      "execution_count": null,
      "outputs": [
        {
          "output_type": "display_data",
          "data": {
            "text/plain": [
              "<Figure size 432x288 with 0 Axes>"
            ]
          },
          "metadata": {}
        }
      ]
    }
  ]
}
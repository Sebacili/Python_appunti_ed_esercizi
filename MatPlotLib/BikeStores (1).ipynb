{
  "nbformat": 4,
  "nbformat_minor": 0,
  "metadata": {
    "colab": {
      "name": "BikeStores.ipynb",
      "provenance": []
    },
    "kernelspec": {
      "name": "python3",
      "display_name": "Python 3"
    },
    "language_info": {
      "name": "python"
    }
  },
  "cells": [
    {
      "cell_type": "code",
      "execution_count": null,
      "metadata": {
        "id": "C0CtWygv1Als"
      },
      "outputs": [],
      "source": [
        "import pandas as pd\n",
        "import matplotlib.pyplot as plt\n",
        "import numpy as np\n"
      ]
    },
    {
      "cell_type": "code",
      "source": [
        "#Creare un notebook chiamato BikeStores che carichi in un dataframe le informazioni presenti nel foglio 'products' del file excel presente al link\n",
        "df = pd.read_excel(\"https://github.com/wtitze/3E/blob/main/BikeStores.xls?raw=true\",\"products\")\n",
        "df"
      ],
      "metadata": {
        "colab": {
          "base_uri": "https://localhost:8080/",
          "height": 423
        },
        "id": "z_bknIKJ1mR9",
        "outputId": "e923549d-b8d6-420f-c65b-69ccf8d82e6c"
      },
      "execution_count": null,
      "outputs": [
        {
          "output_type": "execute_result",
          "data": {
            "text/html": [
              "<div>\n",
              "<style scoped>\n",
              "    .dataframe tbody tr th:only-of-type {\n",
              "        vertical-align: middle;\n",
              "    }\n",
              "\n",
              "    .dataframe tbody tr th {\n",
              "        vertical-align: top;\n",
              "    }\n",
              "\n",
              "    .dataframe thead th {\n",
              "        text-align: right;\n",
              "    }\n",
              "</style>\n",
              "<table border=\"1\" class=\"dataframe\">\n",
              "  <thead>\n",
              "    <tr style=\"text-align: right;\">\n",
              "      <th></th>\n",
              "      <th>product_id</th>\n",
              "      <th>product_name</th>\n",
              "      <th>brand_id</th>\n",
              "      <th>category_id</th>\n",
              "      <th>model_year</th>\n",
              "      <th>list_price</th>\n",
              "    </tr>\n",
              "  </thead>\n",
              "  <tbody>\n",
              "    <tr>\n",
              "      <th>0</th>\n",
              "      <td>1</td>\n",
              "      <td>Trek 820 - 2016</td>\n",
              "      <td>9</td>\n",
              "      <td>6</td>\n",
              "      <td>2016.0</td>\n",
              "      <td>379.99</td>\n",
              "    </tr>\n",
              "    <tr>\n",
              "      <th>1</th>\n",
              "      <td>2</td>\n",
              "      <td>Ritchey Timberwolf Frameset - 2016</td>\n",
              "      <td>5</td>\n",
              "      <td>6</td>\n",
              "      <td>2016.0</td>\n",
              "      <td>749.99</td>\n",
              "    </tr>\n",
              "    <tr>\n",
              "      <th>2</th>\n",
              "      <td>3</td>\n",
              "      <td>Surly Wednesday Frameset - 2016</td>\n",
              "      <td>8</td>\n",
              "      <td>6</td>\n",
              "      <td>2016.0</td>\n",
              "      <td>999.99</td>\n",
              "    </tr>\n",
              "    <tr>\n",
              "      <th>3</th>\n",
              "      <td>4</td>\n",
              "      <td>Trek Fuel EX 8 29 - 2016</td>\n",
              "      <td>9</td>\n",
              "      <td>6</td>\n",
              "      <td>2016.0</td>\n",
              "      <td>2899.99</td>\n",
              "    </tr>\n",
              "    <tr>\n",
              "      <th>4</th>\n",
              "      <td>5</td>\n",
              "      <td>Heller Shagamaw Frame - 2016</td>\n",
              "      <td>3</td>\n",
              "      <td>6</td>\n",
              "      <td>2016.0</td>\n",
              "      <td>1320.99</td>\n",
              "    </tr>\n",
              "    <tr>\n",
              "      <th>...</th>\n",
              "      <td>...</td>\n",
              "      <td>...</td>\n",
              "      <td>...</td>\n",
              "      <td>...</td>\n",
              "      <td>...</td>\n",
              "      <td>...</td>\n",
              "    </tr>\n",
              "    <tr>\n",
              "      <th>316</th>\n",
              "      <td>317</td>\n",
              "      <td>Trek Checkpoint ALR 5 - 2019</td>\n",
              "      <td>9</td>\n",
              "      <td>7</td>\n",
              "      <td>2019.0</td>\n",
              "      <td>1999.99</td>\n",
              "    </tr>\n",
              "    <tr>\n",
              "      <th>317</th>\n",
              "      <td>318</td>\n",
              "      <td>Trek Checkpoint ALR 5 Women's - 2019</td>\n",
              "      <td>9</td>\n",
              "      <td>7</td>\n",
              "      <td>2019.0</td>\n",
              "      <td>1999.99</td>\n",
              "    </tr>\n",
              "    <tr>\n",
              "      <th>318</th>\n",
              "      <td>319</td>\n",
              "      <td>Trek Checkpoint SL 5 Women's - 2019</td>\n",
              "      <td>9</td>\n",
              "      <td>7</td>\n",
              "      <td>2019.0</td>\n",
              "      <td>2799.99</td>\n",
              "    </tr>\n",
              "    <tr>\n",
              "      <th>319</th>\n",
              "      <td>320</td>\n",
              "      <td>Trek Checkpoint SL 6 - 2019</td>\n",
              "      <td>9</td>\n",
              "      <td>7</td>\n",
              "      <td>2019.0</td>\n",
              "      <td>3799.99</td>\n",
              "    </tr>\n",
              "    <tr>\n",
              "      <th>320</th>\n",
              "      <td>321</td>\n",
              "      <td>Trek Checkpoint ALR Frameset - 2019</td>\n",
              "      <td>9</td>\n",
              "      <td>7</td>\n",
              "      <td>2019.0</td>\n",
              "      <td>3199.99</td>\n",
              "    </tr>\n",
              "  </tbody>\n",
              "</table>\n",
              "<p>321 rows × 6 columns</p>\n",
              "</div>"
            ],
            "text/plain": [
              "     product_id                          product_name  ...  model_year  list_price\n",
              "0             1                       Trek 820 - 2016  ...      2016.0      379.99\n",
              "1             2    Ritchey Timberwolf Frameset - 2016  ...      2016.0      749.99\n",
              "2             3       Surly Wednesday Frameset - 2016  ...      2016.0      999.99\n",
              "3             4              Trek Fuel EX 8 29 - 2016  ...      2016.0     2899.99\n",
              "4             5          Heller Shagamaw Frame - 2016  ...      2016.0     1320.99\n",
              "..          ...                                   ...  ...         ...         ...\n",
              "316         317          Trek Checkpoint ALR 5 - 2019  ...      2019.0     1999.99\n",
              "317         318  Trek Checkpoint ALR 5 Women's - 2019  ...      2019.0     1999.99\n",
              "318         319   Trek Checkpoint SL 5 Women's - 2019  ...      2019.0     2799.99\n",
              "319         320           Trek Checkpoint SL 6 - 2019  ...      2019.0     3799.99\n",
              "320         321   Trek Checkpoint ALR Frameset - 2019  ...      2019.0     3199.99\n",
              "\n",
              "[321 rows x 6 columns]"
            ]
          },
          "metadata": {},
          "execution_count": 2
        }
      ]
    },
    {
      "cell_type": "markdown",
      "source": [
        "1. visualizzare il numero di prodotti di cui non si conosce l'anno del modello"
      ],
      "metadata": {
        "id": "YBVM3aUz2xNO"
      }
    },
    {
      "cell_type": "code",
      "source": [
        "df[\"model_year\"].isnull().count()\n",
        "#isnull guarda i valori nulli"
      ],
      "metadata": {
        "colab": {
          "base_uri": "https://localhost:8080/"
        },
        "id": "W5o1wxaG2w8l",
        "outputId": "0f0e9bee-9dc2-438a-a3f8-a074bfec9816"
      },
      "execution_count": null,
      "outputs": [
        {
          "output_type": "execute_result",
          "data": {
            "text/plain": [
              "311"
            ]
          },
          "metadata": {},
          "execution_count": 28
        }
      ]
    },
    {
      "cell_type": "markdown",
      "source": [
        "2. eliminare i prodotti del punto precedente dal dataframe"
      ],
      "metadata": {
        "id": "dkyND3RX5xq2"
      }
    },
    {
      "cell_type": "code",
      "source": [
        "df.dropna(inplace = True)\n",
        "df"
      ],
      "metadata": {
        "colab": {
          "base_uri": "https://localhost:8080/",
          "height": 423
        },
        "id": "HmiJ-jKm5xXe",
        "outputId": "7b57943e-a4ca-4630-d8c5-cc896074e0ca"
      },
      "execution_count": null,
      "outputs": [
        {
          "output_type": "execute_result",
          "data": {
            "text/html": [
              "<div>\n",
              "<style scoped>\n",
              "    .dataframe tbody tr th:only-of-type {\n",
              "        vertical-align: middle;\n",
              "    }\n",
              "\n",
              "    .dataframe tbody tr th {\n",
              "        vertical-align: top;\n",
              "    }\n",
              "\n",
              "    .dataframe thead th {\n",
              "        text-align: right;\n",
              "    }\n",
              "</style>\n",
              "<table border=\"1\" class=\"dataframe\">\n",
              "  <thead>\n",
              "    <tr style=\"text-align: right;\">\n",
              "      <th></th>\n",
              "      <th>product_id</th>\n",
              "      <th>product_name</th>\n",
              "      <th>brand_id</th>\n",
              "      <th>category_id</th>\n",
              "      <th>model_year</th>\n",
              "      <th>list_price</th>\n",
              "    </tr>\n",
              "  </thead>\n",
              "  <tbody>\n",
              "    <tr>\n",
              "      <th>0</th>\n",
              "      <td>1</td>\n",
              "      <td>Trek 820 - 2016</td>\n",
              "      <td>9</td>\n",
              "      <td>6</td>\n",
              "      <td>2016.0</td>\n",
              "      <td>379.99</td>\n",
              "    </tr>\n",
              "    <tr>\n",
              "      <th>1</th>\n",
              "      <td>2</td>\n",
              "      <td>Ritchey Timberwolf Frameset - 2016</td>\n",
              "      <td>5</td>\n",
              "      <td>6</td>\n",
              "      <td>2016.0</td>\n",
              "      <td>749.99</td>\n",
              "    </tr>\n",
              "    <tr>\n",
              "      <th>2</th>\n",
              "      <td>3</td>\n",
              "      <td>Surly Wednesday Frameset - 2016</td>\n",
              "      <td>8</td>\n",
              "      <td>6</td>\n",
              "      <td>2016.0</td>\n",
              "      <td>999.99</td>\n",
              "    </tr>\n",
              "    <tr>\n",
              "      <th>3</th>\n",
              "      <td>4</td>\n",
              "      <td>Trek Fuel EX 8 29 - 2016</td>\n",
              "      <td>9</td>\n",
              "      <td>6</td>\n",
              "      <td>2016.0</td>\n",
              "      <td>2899.99</td>\n",
              "    </tr>\n",
              "    <tr>\n",
              "      <th>4</th>\n",
              "      <td>5</td>\n",
              "      <td>Heller Shagamaw Frame - 2016</td>\n",
              "      <td>3</td>\n",
              "      <td>6</td>\n",
              "      <td>2016.0</td>\n",
              "      <td>1320.99</td>\n",
              "    </tr>\n",
              "    <tr>\n",
              "      <th>...</th>\n",
              "      <td>...</td>\n",
              "      <td>...</td>\n",
              "      <td>...</td>\n",
              "      <td>...</td>\n",
              "      <td>...</td>\n",
              "      <td>...</td>\n",
              "    </tr>\n",
              "    <tr>\n",
              "      <th>316</th>\n",
              "      <td>317</td>\n",
              "      <td>Trek Checkpoint ALR 5 - 2019</td>\n",
              "      <td>9</td>\n",
              "      <td>7</td>\n",
              "      <td>2019.0</td>\n",
              "      <td>1999.99</td>\n",
              "    </tr>\n",
              "    <tr>\n",
              "      <th>317</th>\n",
              "      <td>318</td>\n",
              "      <td>Trek Checkpoint ALR 5 Women's - 2019</td>\n",
              "      <td>9</td>\n",
              "      <td>7</td>\n",
              "      <td>2019.0</td>\n",
              "      <td>1999.99</td>\n",
              "    </tr>\n",
              "    <tr>\n",
              "      <th>318</th>\n",
              "      <td>319</td>\n",
              "      <td>Trek Checkpoint SL 5 Women's - 2019</td>\n",
              "      <td>9</td>\n",
              "      <td>7</td>\n",
              "      <td>2019.0</td>\n",
              "      <td>2799.99</td>\n",
              "    </tr>\n",
              "    <tr>\n",
              "      <th>319</th>\n",
              "      <td>320</td>\n",
              "      <td>Trek Checkpoint SL 6 - 2019</td>\n",
              "      <td>9</td>\n",
              "      <td>7</td>\n",
              "      <td>2019.0</td>\n",
              "      <td>3799.99</td>\n",
              "    </tr>\n",
              "    <tr>\n",
              "      <th>320</th>\n",
              "      <td>321</td>\n",
              "      <td>Trek Checkpoint ALR Frameset - 2019</td>\n",
              "      <td>9</td>\n",
              "      <td>7</td>\n",
              "      <td>2019.0</td>\n",
              "      <td>3199.99</td>\n",
              "    </tr>\n",
              "  </tbody>\n",
              "</table>\n",
              "<p>311 rows × 6 columns</p>\n",
              "</div>"
            ],
            "text/plain": [
              "     product_id                          product_name  ...  model_year  list_price\n",
              "0             1                       Trek 820 - 2016  ...      2016.0      379.99\n",
              "1             2    Ritchey Timberwolf Frameset - 2016  ...      2016.0      749.99\n",
              "2             3       Surly Wednesday Frameset - 2016  ...      2016.0      999.99\n",
              "3             4              Trek Fuel EX 8 29 - 2016  ...      2016.0     2899.99\n",
              "4             5          Heller Shagamaw Frame - 2016  ...      2016.0     1320.99\n",
              "..          ...                                   ...  ...         ...         ...\n",
              "316         317          Trek Checkpoint ALR 5 - 2019  ...      2019.0     1999.99\n",
              "317         318  Trek Checkpoint ALR 5 Women's - 2019  ...      2019.0     1999.99\n",
              "318         319   Trek Checkpoint SL 5 Women's - 2019  ...      2019.0     2799.99\n",
              "319         320           Trek Checkpoint SL 6 - 2019  ...      2019.0     3799.99\n",
              "320         321   Trek Checkpoint ALR Frameset - 2019  ...      2019.0     3199.99\n",
              "\n",
              "[311 rows x 6 columns]"
            ]
          },
          "metadata": {},
          "execution_count": 4
        }
      ]
    },
    {
      "cell_type": "markdown",
      "source": [
        "3. contare i prodotti che sono stati presenteti (model_year) nel 2017"
      ],
      "metadata": {
        "id": "_Ij-6OeX58xm"
      }
    },
    {
      "cell_type": "code",
      "source": [
        "df.loc[df[\"model_year\"]== 2017.0,[\"product_id\"]].count()"
      ],
      "metadata": {
        "colab": {
          "base_uri": "https://localhost:8080/"
        },
        "id": "7uuCTojg6Aae",
        "outputId": "355fd9d5-bf19-4c4f-8f4e-b567a4cd8a13"
      },
      "execution_count": null,
      "outputs": [
        {
          "output_type": "execute_result",
          "data": {
            "text/plain": [
              "product_id    85\n",
              "dtype: int64"
            ]
          },
          "metadata": {},
          "execution_count": 5
        }
      ]
    },
    {
      "cell_type": "markdown",
      "source": [
        "4. visualizzare i prodotti che hanno un category_id compreso tra 2 e 4 (estemi inclusi)"
      ],
      "metadata": {
        "id": "xfoXSlnU6uh2"
      }
    },
    {
      "cell_type": "code",
      "source": [
        "df.loc[(df[\"category_id\"] >= 2) & (df[\"category_id\"] <= 4)]"
      ],
      "metadata": {
        "colab": {
          "base_uri": "https://localhost:8080/",
          "height": 423
        },
        "id": "wG7AJ-Di6xY9",
        "outputId": "096c0aff-22ca-4be6-bccb-8e18b1e11845"
      },
      "execution_count": null,
      "outputs": [
        {
          "output_type": "execute_result",
          "data": {
            "text/html": [
              "<div>\n",
              "<style scoped>\n",
              "    .dataframe tbody tr th:only-of-type {\n",
              "        vertical-align: middle;\n",
              "    }\n",
              "\n",
              "    .dataframe tbody tr th {\n",
              "        vertical-align: top;\n",
              "    }\n",
              "\n",
              "    .dataframe thead th {\n",
              "        text-align: right;\n",
              "    }\n",
              "</style>\n",
              "<table border=\"1\" class=\"dataframe\">\n",
              "  <thead>\n",
              "    <tr style=\"text-align: right;\">\n",
              "      <th></th>\n",
              "      <th>product_id</th>\n",
              "      <th>product_name</th>\n",
              "      <th>brand_id</th>\n",
              "      <th>category_id</th>\n",
              "      <th>model_year</th>\n",
              "      <th>list_price</th>\n",
              "    </tr>\n",
              "  </thead>\n",
              "  <tbody>\n",
              "    <tr>\n",
              "      <th>9</th>\n",
              "      <td>10</td>\n",
              "      <td>Surly Straggler - 2016</td>\n",
              "      <td>8</td>\n",
              "      <td>4</td>\n",
              "      <td>2016.0</td>\n",
              "      <td>1549.00</td>\n",
              "    </tr>\n",
              "    <tr>\n",
              "      <th>10</th>\n",
              "      <td>11</td>\n",
              "      <td>Surly Straggler 650b - 2016</td>\n",
              "      <td>8</td>\n",
              "      <td>4</td>\n",
              "      <td>2016.0</td>\n",
              "      <td>1680.99</td>\n",
              "    </tr>\n",
              "    <tr>\n",
              "      <th>11</th>\n",
              "      <td>12</td>\n",
              "      <td>Electra Townie Original 21D - 2016</td>\n",
              "      <td>1</td>\n",
              "      <td>3</td>\n",
              "      <td>2016.0</td>\n",
              "      <td>549.99</td>\n",
              "    </tr>\n",
              "    <tr>\n",
              "      <th>12</th>\n",
              "      <td>13</td>\n",
              "      <td>Electra Cruiser 1 (24-Inch) - 2016</td>\n",
              "      <td>1</td>\n",
              "      <td>3</td>\n",
              "      <td>2016.0</td>\n",
              "      <td>269.99</td>\n",
              "    </tr>\n",
              "    <tr>\n",
              "      <th>13</th>\n",
              "      <td>14</td>\n",
              "      <td>Electra Girl's Hawaii 1 (16-inch) - 2015/2016</td>\n",
              "      <td>1</td>\n",
              "      <td>3</td>\n",
              "      <td>2016.0</td>\n",
              "      <td>269.99</td>\n",
              "    </tr>\n",
              "    <tr>\n",
              "      <th>...</th>\n",
              "      <td>...</td>\n",
              "      <td>...</td>\n",
              "      <td>...</td>\n",
              "      <td>...</td>\n",
              "      <td>...</td>\n",
              "      <td>...</td>\n",
              "    </tr>\n",
              "    <tr>\n",
              "      <th>309</th>\n",
              "      <td>310</td>\n",
              "      <td>Electra Townie Commute 27D Ladies - 2018</td>\n",
              "      <td>1</td>\n",
              "      <td>2</td>\n",
              "      <td>2018.0</td>\n",
              "      <td>899.99</td>\n",
              "    </tr>\n",
              "    <tr>\n",
              "      <th>311</th>\n",
              "      <td>312</td>\n",
              "      <td>Electra Townie Commute 8D Ladies' - 2018</td>\n",
              "      <td>1</td>\n",
              "      <td>2</td>\n",
              "      <td>2018.0</td>\n",
              "      <td>699.99</td>\n",
              "    </tr>\n",
              "    <tr>\n",
              "      <th>312</th>\n",
              "      <td>313</td>\n",
              "      <td>Electra Townie Original 1 Ladies' - 2018</td>\n",
              "      <td>1</td>\n",
              "      <td>2</td>\n",
              "      <td>2018.0</td>\n",
              "      <td>449.99</td>\n",
              "    </tr>\n",
              "    <tr>\n",
              "      <th>313</th>\n",
              "      <td>314</td>\n",
              "      <td>Electra Townie Original 21D EQ Ladies' - 2018</td>\n",
              "      <td>1</td>\n",
              "      <td>2</td>\n",
              "      <td>2018.0</td>\n",
              "      <td>679.99</td>\n",
              "    </tr>\n",
              "    <tr>\n",
              "      <th>314</th>\n",
              "      <td>315</td>\n",
              "      <td>Electra Townie Original 21D Ladies' - 2018</td>\n",
              "      <td>1</td>\n",
              "      <td>2</td>\n",
              "      <td>2018.0</td>\n",
              "      <td>559.99</td>\n",
              "    </tr>\n",
              "  </tbody>\n",
              "</table>\n",
              "<p>114 rows × 6 columns</p>\n",
              "</div>"
            ],
            "text/plain": [
              "     product_id  ... list_price\n",
              "9            10  ...    1549.00\n",
              "10           11  ...    1680.99\n",
              "11           12  ...     549.99\n",
              "12           13  ...     269.99\n",
              "13           14  ...     269.99\n",
              "..          ...  ...        ...\n",
              "309         310  ...     899.99\n",
              "311         312  ...     699.99\n",
              "312         313  ...     449.99\n",
              "313         314  ...     679.99\n",
              "314         315  ...     559.99\n",
              "\n",
              "[114 rows x 6 columns]"
            ]
          },
          "metadata": {},
          "execution_count": 6
        }
      ]
    },
    {
      "cell_type": "markdown",
      "source": [
        "5. visualizzare i prodotti che hanno la parola Trek nel nome"
      ],
      "metadata": {
        "id": "YrAE9q9C7cCf"
      }
    },
    {
      "cell_type": "code",
      "source": [
        "df[df[\"product_name\"].str.contains(\"Trek\")]"
      ],
      "metadata": {
        "colab": {
          "base_uri": "https://localhost:8080/",
          "height": 423
        },
        "id": "ZS0tb2_z7adI",
        "outputId": "64203c90-6222-477d-e0d7-5eb094aeaa6d"
      },
      "execution_count": null,
      "outputs": [
        {
          "output_type": "execute_result",
          "data": {
            "text/html": [
              "<div>\n",
              "<style scoped>\n",
              "    .dataframe tbody tr th:only-of-type {\n",
              "        vertical-align: middle;\n",
              "    }\n",
              "\n",
              "    .dataframe tbody tr th {\n",
              "        vertical-align: top;\n",
              "    }\n",
              "\n",
              "    .dataframe thead th {\n",
              "        text-align: right;\n",
              "    }\n",
              "</style>\n",
              "<table border=\"1\" class=\"dataframe\">\n",
              "  <thead>\n",
              "    <tr style=\"text-align: right;\">\n",
              "      <th></th>\n",
              "      <th>product_id</th>\n",
              "      <th>product_name</th>\n",
              "      <th>brand_id</th>\n",
              "      <th>category_id</th>\n",
              "      <th>model_year</th>\n",
              "      <th>list_price</th>\n",
              "    </tr>\n",
              "  </thead>\n",
              "  <tbody>\n",
              "    <tr>\n",
              "      <th>0</th>\n",
              "      <td>1</td>\n",
              "      <td>Trek 820 - 2016</td>\n",
              "      <td>9</td>\n",
              "      <td>6</td>\n",
              "      <td>2016.0</td>\n",
              "      <td>379.99</td>\n",
              "    </tr>\n",
              "    <tr>\n",
              "      <th>3</th>\n",
              "      <td>4</td>\n",
              "      <td>Trek Fuel EX 8 29 - 2016</td>\n",
              "      <td>9</td>\n",
              "      <td>6</td>\n",
              "      <td>2016.0</td>\n",
              "      <td>2899.99</td>\n",
              "    </tr>\n",
              "    <tr>\n",
              "      <th>6</th>\n",
              "      <td>7</td>\n",
              "      <td>Trek Slash 8 27.5 - 2016</td>\n",
              "      <td>9</td>\n",
              "      <td>6</td>\n",
              "      <td>2016.0</td>\n",
              "      <td>3999.99</td>\n",
              "    </tr>\n",
              "    <tr>\n",
              "      <th>7</th>\n",
              "      <td>8</td>\n",
              "      <td>Trek Remedy 29 Carbon Frameset - 2016</td>\n",
              "      <td>9</td>\n",
              "      <td>6</td>\n",
              "      <td>2016.0</td>\n",
              "      <td>1799.99</td>\n",
              "    </tr>\n",
              "    <tr>\n",
              "      <th>28</th>\n",
              "      <td>29</td>\n",
              "      <td>Trek X-Caliber 8 - 2017</td>\n",
              "      <td>9</td>\n",
              "      <td>6</td>\n",
              "      <td>2017.0</td>\n",
              "      <td>999.99</td>\n",
              "    </tr>\n",
              "    <tr>\n",
              "      <th>...</th>\n",
              "      <td>...</td>\n",
              "      <td>...</td>\n",
              "      <td>...</td>\n",
              "      <td>...</td>\n",
              "      <td>...</td>\n",
              "      <td>...</td>\n",
              "    </tr>\n",
              "    <tr>\n",
              "      <th>316</th>\n",
              "      <td>317</td>\n",
              "      <td>Trek Checkpoint ALR 5 - 2019</td>\n",
              "      <td>9</td>\n",
              "      <td>7</td>\n",
              "      <td>2019.0</td>\n",
              "      <td>1999.99</td>\n",
              "    </tr>\n",
              "    <tr>\n",
              "      <th>317</th>\n",
              "      <td>318</td>\n",
              "      <td>Trek Checkpoint ALR 5 Women's - 2019</td>\n",
              "      <td>9</td>\n",
              "      <td>7</td>\n",
              "      <td>2019.0</td>\n",
              "      <td>1999.99</td>\n",
              "    </tr>\n",
              "    <tr>\n",
              "      <th>318</th>\n",
              "      <td>319</td>\n",
              "      <td>Trek Checkpoint SL 5 Women's - 2019</td>\n",
              "      <td>9</td>\n",
              "      <td>7</td>\n",
              "      <td>2019.0</td>\n",
              "      <td>2799.99</td>\n",
              "    </tr>\n",
              "    <tr>\n",
              "      <th>319</th>\n",
              "      <td>320</td>\n",
              "      <td>Trek Checkpoint SL 6 - 2019</td>\n",
              "      <td>9</td>\n",
              "      <td>7</td>\n",
              "      <td>2019.0</td>\n",
              "      <td>3799.99</td>\n",
              "    </tr>\n",
              "    <tr>\n",
              "      <th>320</th>\n",
              "      <td>321</td>\n",
              "      <td>Trek Checkpoint ALR Frameset - 2019</td>\n",
              "      <td>9</td>\n",
              "      <td>7</td>\n",
              "      <td>2019.0</td>\n",
              "      <td>3199.99</td>\n",
              "    </tr>\n",
              "  </tbody>\n",
              "</table>\n",
              "<p>131 rows × 6 columns</p>\n",
              "</div>"
            ],
            "text/plain": [
              "     product_id                           product_name  ...  model_year  list_price\n",
              "0             1                        Trek 820 - 2016  ...      2016.0      379.99\n",
              "3             4               Trek Fuel EX 8 29 - 2016  ...      2016.0     2899.99\n",
              "6             7               Trek Slash 8 27.5 - 2016  ...      2016.0     3999.99\n",
              "7             8  Trek Remedy 29 Carbon Frameset - 2016  ...      2016.0     1799.99\n",
              "28           29                Trek X-Caliber 8 - 2017  ...      2017.0      999.99\n",
              "..          ...                                    ...  ...         ...         ...\n",
              "316         317           Trek Checkpoint ALR 5 - 2019  ...      2019.0     1999.99\n",
              "317         318   Trek Checkpoint ALR 5 Women's - 2019  ...      2019.0     1999.99\n",
              "318         319    Trek Checkpoint SL 5 Women's - 2019  ...      2019.0     2799.99\n",
              "319         320            Trek Checkpoint SL 6 - 2019  ...      2019.0     3799.99\n",
              "320         321    Trek Checkpoint ALR Frameset - 2019  ...      2019.0     3199.99\n",
              "\n",
              "[131 rows x 6 columns]"
            ]
          },
          "metadata": {},
          "execution_count": 18
        }
      ]
    },
    {
      "cell_type": "markdown",
      "source": [
        "6. visualizzare il numero di prodotti per ogni categoria (visualizzare il numero della categoria e il numero di prodotti)"
      ],
      "metadata": {
        "id": "nDSXLdV67r-e"
      }
    },
    {
      "cell_type": "code",
      "source": [
        "df.groupby(\"category_id\")[\"product_id\"].count()"
      ],
      "metadata": {
        "colab": {
          "base_uri": "https://localhost:8080/"
        },
        "id": "9IiiEVWF7vGP",
        "outputId": "3f23f419-e036-470a-91af-4e8baec36985"
      },
      "execution_count": null,
      "outputs": [
        {
          "output_type": "execute_result",
          "data": {
            "text/plain": [
              "category_id\n",
              "1    57\n",
              "2    28\n",
              "3    76\n",
              "4    10\n",
              "5    22\n",
              "6    59\n",
              "7    59\n",
              "Name: product_id, dtype: int64"
            ]
          },
          "metadata": {},
          "execution_count": 8
        }
      ]
    },
    {
      "cell_type": "markdown",
      "source": [
        "7. visualizzare le categorie che hanno più di 50 prodotti visualizzare il numero della categoria e il numero di prodotti)"
      ],
      "metadata": {
        "id": "NbImAAUJ8L42"
      }
    },
    {
      "cell_type": "code",
      "source": [
        "df1 = df.groupby(\"category_id\",as_index = False)[\"product_id\"].count()\n",
        "df1.loc[df1[\"product_id\"]> 50]"
      ],
      "metadata": {
        "colab": {
          "base_uri": "https://localhost:8080/",
          "height": 174
        },
        "id": "eA_hd-Kj8QhO",
        "outputId": "5d79d653-87cd-4769-cac6-5fabd450dbc5"
      },
      "execution_count": null,
      "outputs": [
        {
          "output_type": "execute_result",
          "data": {
            "text/html": [
              "<div>\n",
              "<style scoped>\n",
              "    .dataframe tbody tr th:only-of-type {\n",
              "        vertical-align: middle;\n",
              "    }\n",
              "\n",
              "    .dataframe tbody tr th {\n",
              "        vertical-align: top;\n",
              "    }\n",
              "\n",
              "    .dataframe thead th {\n",
              "        text-align: right;\n",
              "    }\n",
              "</style>\n",
              "<table border=\"1\" class=\"dataframe\">\n",
              "  <thead>\n",
              "    <tr style=\"text-align: right;\">\n",
              "      <th></th>\n",
              "      <th>category_id</th>\n",
              "      <th>product_id</th>\n",
              "    </tr>\n",
              "  </thead>\n",
              "  <tbody>\n",
              "    <tr>\n",
              "      <th>0</th>\n",
              "      <td>1</td>\n",
              "      <td>57</td>\n",
              "    </tr>\n",
              "    <tr>\n",
              "      <th>2</th>\n",
              "      <td>3</td>\n",
              "      <td>76</td>\n",
              "    </tr>\n",
              "    <tr>\n",
              "      <th>5</th>\n",
              "      <td>6</td>\n",
              "      <td>59</td>\n",
              "    </tr>\n",
              "    <tr>\n",
              "      <th>6</th>\n",
              "      <td>7</td>\n",
              "      <td>59</td>\n",
              "    </tr>\n",
              "  </tbody>\n",
              "</table>\n",
              "</div>"
            ],
            "text/plain": [
              "   category_id  product_id\n",
              "0            1          57\n",
              "2            3          76\n",
              "5            6          59\n",
              "6            7          59"
            ]
          },
          "metadata": {},
          "execution_count": 9
        }
      ]
    },
    {
      "cell_type": "markdown",
      "source": [
        "8, visualizzare uno stacked bar chart che riporti il numero di prodotti presentati per ogni anno in ogni categoria. Il grafico deve presentare sulle ascisse il numero della categoria e sulle ordinate il numero di prodotti, divisi per anno"
      ],
      "metadata": {
        "id": "7OKKqYnL9h6A"
      }
    },
    {
      "cell_type": "code",
      "source": [
        "df2 = df.groupby([\"model_year\",\"category_id\"]).count()\n",
        "fig = plt.figure(figsize=(10,10))\n",
        "ax = plt.axes()\n",
        "ax.bar(df[\"category_id\"], df1[\"product_id\"].count() /df[\"model_year\"])  \n"
      ],
      "metadata": {
        "colab": {
          "base_uri": "https://localhost:8080/",
          "height": 610
        },
        "id": "-jy7ufSc9kY3",
        "outputId": "f58b6c04-4daa-4ca4-d897-5dbc936f5d58"
      },
      "execution_count": null,
      "outputs": [
        {
          "output_type": "execute_result",
          "data": {
            "text/plain": [
              "<BarContainer object of 311 artists>"
            ]
          },
          "metadata": {},
          "execution_count": 17
        },
        {
          "output_type": "display_data",
          "data": {
            "image/png": "[encoded data removed]",
            "text/plain": [
              "<Figure size 720x720 with 1 Axes>"
            ]
          },
          "metadata": {
            "needs_background": "light"
          }
        }
      ]
    },
    {
      "cell_type": "code",
      "source": [
        ""
      ],
      "metadata": {
        "id": "-KNeVm_u3Jlh"
      },
      "execution_count": null,
      "outputs": []
    },
    {
      "cell_type": "markdown",
      "source": [
        "9. visualizzare un pie chart che riporti in numero di prodotti presentati in ogni anno."
      ],
      "metadata": {
        "id": "gDcorIkT_AGU"
      }
    },
    {
      "cell_type": "code",
      "source": [
        "df2 = df.groupby(\"model_year\")[\"product_id\"].count()\n",
        "fig = plt.figure(figsize=(10,20))\n",
        "ax = plt.axes()\n",
        "ax.pie(df2.values,labels = df2.index, autopct=\"\")\n",
        "plt.show()\n"
      ],
      "metadata": {
        "colab": {
          "base_uri": "https://localhost:8080/",
          "height": 693
        },
        "id": "YdZ0OzAA_DYr",
        "outputId": "18ac21f6-7a3f-4c81-ba21-c7fa02015f62"
      },
      "execution_count": null,
      "outputs": [
        {
          "output_type": "display_data",
          "data": {
            "image/png": "[encoded data removed]",
            "text/plain": [
              "<Figure size 720x1440 with 1 Axes>"
            ]
          },
          "metadata": {}
        },
        {
          "output_type": "execute_result",
          "data": {
            "text/plain": [
              "model_year\n",
              "2016.0     25\n",
              "2017.0     85\n",
              "2018.0    195\n",
              "2019.0      6\n",
              "Name: product_id, dtype: int64"
            ]
          },
          "metadata": {},
          "execution_count": 19
        }
      ]
    },
    {
      "cell_type": "markdown",
      "source": [
        "10. salvare in un file png i due grafici affiancati"
      ],
      "metadata": {
        "id": "6_bznmaXBobO"
      }
    }
  ]
}
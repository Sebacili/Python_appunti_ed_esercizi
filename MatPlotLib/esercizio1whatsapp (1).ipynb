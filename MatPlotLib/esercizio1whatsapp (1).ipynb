{
  "nbformat": 4,
  "nbformat_minor": 0,
  "metadata": {
    "colab": {
      "name": "esercizio1whatsapp.ipynb",
      "provenance": []
    },
    "kernelspec": {
      "name": "python3",
      "display_name": "Python 3"
    },
    "language_info": {
      "name": "python"
    }
  },
  "cells": [
    {
      "cell_type": "code",
      "metadata": {
        "id": "mrERuAx6yUfk"
      },
      "source": [
        "import pandas as pd\n",
        "import matplotlib.pyplot as plt\n",
        "import numpy as np\n"
      ],
      "execution_count": null,
      "outputs": []
    },
    {
      "cell_type": "markdown",
      "metadata": {
        "id": "cr9O8tDS3lra"
      },
      "source": [
        "1 Creare un DataFrame da questo file json ed assegnarlo ad una variabile df."
      ]
    },
    {
      "cell_type": "code",
      "metadata": {
        "colab": {
          "base_uri": "https://localhost:8080/",
          "height": 419
        },
        "id": "bRyhP-6yzIKD",
        "outputId": "e660daa1-e27b-4a46-f4ce-3f462d042972"
      },
      "source": [
        "\n",
        "df = pd.read_json('https://raw.githubusercontent.com/CappuCitti/Python-appunti-ed-esercizi/main/MatPlotLib/Data/sample_chat_data.json')\n",
        "df\n",
        "\n",
        "\n"
      ],
      "execution_count": null,
      "outputs": [
        {
          "output_type": "execute_result",
          "data": {
            "text/html": [
              "<div>\n",
              "<style scoped>\n",
              "    .dataframe tbody tr th:only-of-type {\n",
              "        vertical-align: middle;\n",
              "    }\n",
              "\n",
              "    .dataframe tbody tr th {\n",
              "        vertical-align: top;\n",
              "    }\n",
              "\n",
              "    .dataframe thead th {\n",
              "        text-align: right;\n",
              "    }\n",
              "</style>\n",
              "<table border=\"1\" class=\"dataframe\">\n",
              "  <thead>\n",
              "    <tr style=\"text-align: right;\">\n",
              "      <th></th>\n",
              "      <th>user_id</th>\n",
              "      <th>message_length</th>\n",
              "      <th>device_type</th>\n",
              "      <th>has_media</th>\n",
              "      <th>has_links</th>\n",
              "      <th>full_date</th>\n",
              "    </tr>\n",
              "  </thead>\n",
              "  <tbody>\n",
              "    <tr>\n",
              "      <th>0</th>\n",
              "      <td>9a0f4@kp</td>\n",
              "      <td>43</td>\n",
              "      <td>android</td>\n",
              "      <td>False</td>\n",
              "      <td>False</td>\n",
              "      <td>2021-11-10T20:09:29.209Z</td>\n",
              "    </tr>\n",
              "    <tr>\n",
              "      <th>1</th>\n",
              "      <td>f6627@kp</td>\n",
              "      <td>0</td>\n",
              "      <td>android</td>\n",
              "      <td>False</td>\n",
              "      <td>False</td>\n",
              "      <td>2021-11-10T20:13:24.176Z</td>\n",
              "    </tr>\n",
              "    <tr>\n",
              "      <th>2</th>\n",
              "      <td>f6627@kp</td>\n",
              "      <td>38</td>\n",
              "      <td>android</td>\n",
              "      <td>False</td>\n",
              "      <td>False</td>\n",
              "      <td>2021-11-10T20:13:36.119Z</td>\n",
              "    </tr>\n",
              "    <tr>\n",
              "      <th>3</th>\n",
              "      <td>f6627@kp</td>\n",
              "      <td>33</td>\n",
              "      <td>android</td>\n",
              "      <td>False</td>\n",
              "      <td>False</td>\n",
              "      <td>2021-11-10T20:13:49.332Z</td>\n",
              "    </tr>\n",
              "    <tr>\n",
              "      <th>4</th>\n",
              "      <td>f9a56@kp</td>\n",
              "      <td>0</td>\n",
              "      <td>android</td>\n",
              "      <td>True</td>\n",
              "      <td>False</td>\n",
              "      <td>2021-11-10T20:17:00.923Z</td>\n",
              "    </tr>\n",
              "    <tr>\n",
              "      <th>...</th>\n",
              "      <td>...</td>\n",
              "      <td>...</td>\n",
              "      <td>...</td>\n",
              "      <td>...</td>\n",
              "      <td>...</td>\n",
              "      <td>...</td>\n",
              "    </tr>\n",
              "    <tr>\n",
              "      <th>213</th>\n",
              "      <td>f6627@kp</td>\n",
              "      <td>24</td>\n",
              "      <td>android</td>\n",
              "      <td>False</td>\n",
              "      <td>False</td>\n",
              "      <td>2021-11-16T07:09:05.402Z</td>\n",
              "    </tr>\n",
              "    <tr>\n",
              "      <th>214</th>\n",
              "      <td>9609a@kp</td>\n",
              "      <td>2</td>\n",
              "      <td>android</td>\n",
              "      <td>False</td>\n",
              "      <td>False</td>\n",
              "      <td>2021-11-16T07:09:33.219Z</td>\n",
              "    </tr>\n",
              "    <tr>\n",
              "      <th>215</th>\n",
              "      <td>f9a70@kp</td>\n",
              "      <td>37</td>\n",
              "      <td>ios</td>\n",
              "      <td>False</td>\n",
              "      <td>False</td>\n",
              "      <td>2021-11-16T19:46:42.982Z</td>\n",
              "    </tr>\n",
              "    <tr>\n",
              "      <th>216</th>\n",
              "      <td>f6627@kp</td>\n",
              "      <td>14</td>\n",
              "      <td>android</td>\n",
              "      <td>False</td>\n",
              "      <td>False</td>\n",
              "      <td>2021-11-16T19:58:27.852Z</td>\n",
              "    </tr>\n",
              "    <tr>\n",
              "      <th>217</th>\n",
              "      <td>9a0f4@kp</td>\n",
              "      <td>14</td>\n",
              "      <td>android</td>\n",
              "      <td>False</td>\n",
              "      <td>False</td>\n",
              "      <td>2021-11-16T20:01:04.148Z</td>\n",
              "    </tr>\n",
              "  </tbody>\n",
              "</table>\n",
              "<p>218 rows × 6 columns</p>\n",
              "</div>"
            ],
            "text/plain": [
              "      user_id  message_length  ... has_links                 full_date\n",
              "0    9a0f4@kp              43  ...     False  2021-11-10T20:09:29.209Z\n",
              "1    f6627@kp               0  ...     False  2021-11-10T20:13:24.176Z\n",
              "2    f6627@kp              38  ...     False  2021-11-10T20:13:36.119Z\n",
              "3    f6627@kp              33  ...     False  2021-11-10T20:13:49.332Z\n",
              "4    f9a56@kp               0  ...     False  2021-11-10T20:17:00.923Z\n",
              "..        ...             ...  ...       ...                       ...\n",
              "213  f6627@kp              24  ...     False  2021-11-16T07:09:05.402Z\n",
              "214  9609a@kp               2  ...     False  2021-11-16T07:09:33.219Z\n",
              "215  f9a70@kp              37  ...     False  2021-11-16T19:46:42.982Z\n",
              "216  f6627@kp              14  ...     False  2021-11-16T19:58:27.852Z\n",
              "217  9a0f4@kp              14  ...     False  2021-11-16T20:01:04.148Z\n",
              "\n",
              "[218 rows x 6 columns]"
            ]
          },
          "metadata": {},
          "execution_count": 3
        }
      ]
    },
    {
      "cell_type": "code",
      "metadata": {
        "id": "r2w_fpBX5GAK"
      },
      "source": [
        "df.info() #serve per capire i valori"
      ],
      "execution_count": null,
      "outputs": []
    },
    {
      "cell_type": "markdown",
      "metadata": {
        "id": "4vy-4BZayVRC"
      },
      "source": [
        "2. Creare un grafico a barre che mostri il numero di messaggi inviato da ogni utente in ordine decrescente, avente le seguenti caratterisiche:\n",
        "I tick dell'asse delle ascisse siano inclinati di 45°\n",
        "Un titolo appropirato che descriva il grafico\n",
        "Impostare il colore royalBlue per colorare le barre\n",
        " Ingrandire le dimenrsioni del grafico e del testo del 50% (figsize default: [6.4, 4.8], font.size default: 10)"
      ]
    },
    {
      "cell_type": "code",
      "metadata": {
        "colab": {
          "base_uri": "https://localhost:8080/",
          "height": 514
        },
        "id": "BVS66OkY4iEK",
        "outputId": "6827f9fe-a3a7-46ba-f86d-6da555266ea9"
      },
      "source": [
        "msg_num = df.groupby('user_id',as_index=False).count().sort_values('full_date' , ascending = False )\n",
        "msg_num"
      ],
      "execution_count": null,
      "outputs": [
        {
          "output_type": "execute_result",
          "data": {
            "text/html": [
              "<div>\n",
              "<style scoped>\n",
              "    .dataframe tbody tr th:only-of-type {\n",
              "        vertical-align: middle;\n",
              "    }\n",
              "\n",
              "    .dataframe tbody tr th {\n",
              "        vertical-align: top;\n",
              "    }\n",
              "\n",
              "    .dataframe thead th {\n",
              "        text-align: right;\n",
              "    }\n",
              "</style>\n",
              "<table border=\"1\" class=\"dataframe\">\n",
              "  <thead>\n",
              "    <tr style=\"text-align: right;\">\n",
              "      <th></th>\n",
              "      <th>user_id</th>\n",
              "      <th>message_length</th>\n",
              "      <th>device_type</th>\n",
              "      <th>has_media</th>\n",
              "      <th>has_links</th>\n",
              "      <th>full_date</th>\n",
              "    </tr>\n",
              "  </thead>\n",
              "  <tbody>\n",
              "    <tr>\n",
              "      <th>6</th>\n",
              "      <td>9a0f4@kp</td>\n",
              "      <td>57</td>\n",
              "      <td>57</td>\n",
              "      <td>57</td>\n",
              "      <td>57</td>\n",
              "      <td>57</td>\n",
              "    </tr>\n",
              "    <tr>\n",
              "      <th>1</th>\n",
              "      <td>9609a@kp</td>\n",
              "      <td>54</td>\n",
              "      <td>54</td>\n",
              "      <td>54</td>\n",
              "      <td>54</td>\n",
              "      <td>54</td>\n",
              "    </tr>\n",
              "    <tr>\n",
              "      <th>0</th>\n",
              "      <td>92a44@kp</td>\n",
              "      <td>20</td>\n",
              "      <td>20</td>\n",
              "      <td>20</td>\n",
              "      <td>20</td>\n",
              "      <td>20</td>\n",
              "    </tr>\n",
              "    <tr>\n",
              "      <th>2</th>\n",
              "      <td>96121@kp</td>\n",
              "      <td>17</td>\n",
              "      <td>17</td>\n",
              "      <td>17</td>\n",
              "      <td>17</td>\n",
              "      <td>17</td>\n",
              "    </tr>\n",
              "    <tr>\n",
              "      <th>13</th>\n",
              "      <td>f9a56@kp</td>\n",
              "      <td>17</td>\n",
              "      <td>17</td>\n",
              "      <td>17</td>\n",
              "      <td>17</td>\n",
              "      <td>17</td>\n",
              "    </tr>\n",
              "    <tr>\n",
              "      <th>9</th>\n",
              "      <td>f6627@kp</td>\n",
              "      <td>13</td>\n",
              "      <td>13</td>\n",
              "      <td>13</td>\n",
              "      <td>13</td>\n",
              "      <td>13</td>\n",
              "    </tr>\n",
              "    <tr>\n",
              "      <th>12</th>\n",
              "      <td>f9756@kp</td>\n",
              "      <td>9</td>\n",
              "      <td>9</td>\n",
              "      <td>9</td>\n",
              "      <td>9</td>\n",
              "      <td>9</td>\n",
              "    </tr>\n",
              "    <tr>\n",
              "      <th>10</th>\n",
              "      <td>f76a0@kp</td>\n",
              "      <td>5</td>\n",
              "      <td>5</td>\n",
              "      <td>5</td>\n",
              "      <td>5</td>\n",
              "      <td>5</td>\n",
              "    </tr>\n",
              "    <tr>\n",
              "      <th>11</th>\n",
              "      <td>f9742@kp</td>\n",
              "      <td>5</td>\n",
              "      <td>5</td>\n",
              "      <td>5</td>\n",
              "      <td>5</td>\n",
              "      <td>5</td>\n",
              "    </tr>\n",
              "    <tr>\n",
              "      <th>14</th>\n",
              "      <td>f9a70@kp</td>\n",
              "      <td>5</td>\n",
              "      <td>5</td>\n",
              "      <td>5</td>\n",
              "      <td>5</td>\n",
              "      <td>5</td>\n",
              "    </tr>\n",
              "    <tr>\n",
              "      <th>3</th>\n",
              "      <td>96199@kp</td>\n",
              "      <td>4</td>\n",
              "      <td>4</td>\n",
              "      <td>4</td>\n",
              "      <td>4</td>\n",
              "      <td>4</td>\n",
              "    </tr>\n",
              "    <tr>\n",
              "      <th>5</th>\n",
              "      <td>9679f@kp</td>\n",
              "      <td>4</td>\n",
              "      <td>4</td>\n",
              "      <td>4</td>\n",
              "      <td>4</td>\n",
              "      <td>4</td>\n",
              "    </tr>\n",
              "    <tr>\n",
              "      <th>7</th>\n",
              "      <td>f4511@kp</td>\n",
              "      <td>4</td>\n",
              "      <td>4</td>\n",
              "      <td>4</td>\n",
              "      <td>4</td>\n",
              "      <td>4</td>\n",
              "    </tr>\n",
              "    <tr>\n",
              "      <th>8</th>\n",
              "      <td>f5740@kp</td>\n",
              "      <td>3</td>\n",
              "      <td>3</td>\n",
              "      <td>3</td>\n",
              "      <td>3</td>\n",
              "      <td>3</td>\n",
              "    </tr>\n",
              "    <tr>\n",
              "      <th>4</th>\n",
              "      <td>966aa@kp</td>\n",
              "      <td>1</td>\n",
              "      <td>1</td>\n",
              "      <td>1</td>\n",
              "      <td>1</td>\n",
              "      <td>1</td>\n",
              "    </tr>\n",
              "  </tbody>\n",
              "</table>\n",
              "</div>"
            ],
            "text/plain": [
              "     user_id  message_length  device_type  has_media  has_links  full_date\n",
              "6   9a0f4@kp              57           57         57         57         57\n",
              "1   9609a@kp              54           54         54         54         54\n",
              "0   92a44@kp              20           20         20         20         20\n",
              "2   96121@kp              17           17         17         17         17\n",
              "13  f9a56@kp              17           17         17         17         17\n",
              "9   f6627@kp              13           13         13         13         13\n",
              "12  f9756@kp               9            9          9          9          9\n",
              "10  f76a0@kp               5            5          5          5          5\n",
              "11  f9742@kp               5            5          5          5          5\n",
              "14  f9a70@kp               5            5          5          5          5\n",
              "3   96199@kp               4            4          4          4          4\n",
              "5   9679f@kp               4            4          4          4          4\n",
              "7   f4511@kp               4            4          4          4          4\n",
              "8   f5740@kp               3            3          3          3          3\n",
              "4   966aa@kp               1            1          1          1          1"
            ]
          },
          "metadata": {},
          "execution_count": 4
        }
      ]
    },
    {
      "cell_type": "code",
      "metadata": {
        "colab": {
          "base_uri": "https://localhost:8080/",
          "height": 529
        },
        "id": "2sFJViG06OZT",
        "outputId": "ad1cd67d-5741-49db-bcb1-2e3c0fc2d140"
      },
      "source": [
        "plt.rcParams.update({\"font.size\": 15 })\n",
        "\n",
        "fig = plt.figure(figsize=(9.6,7.2)) #crea figura\n",
        "ax = plt.axes() #crea assi \n",
        "\n",
        "ax.bar(msg_num[\"user_id\"],msg_num[\"full_date\"], color = \"olive\") \n",
        "\n",
        "fig.suptitle(\"Messaggi\")\n",
        "ax.set_xlabel('nomi',color = \"b\")\n",
        "ax.set_ylabel('numero messaggi inviati',color = \"b\")\n",
        "ax.grid() ##griglia\n",
        "\n",
        "\n",
        "fig.autofmt_xdate(rotation=45) ##ruotare le scritte sull asse x del grafico\n",
        "\n",
        "plt.show()\n"
      ],
      "execution_count": null,
      "outputs": [
        {
          "output_type": "display_data",
          "data": {
            "image/png": "[encoded data removed]",
            "text/plain": [
              "<Figure size 691.2x518.4 with 1 Axes>"
            ]
          },
          "metadata": {
            "needs_background": "light"
          }
        }
      ]
    },
    {
      "cell_type": "code",
      "metadata": {
        "colab": {
          "base_uri": "https://localhost:8080/"
        },
        "id": "By95AsFHDQqr",
        "outputId": "449cfc9c-f4e4-4f6b-ded7-5a500f28b82d"
      },
      "source": [
        "#come fare la media\n",
        "msg_num[\"full_date\"].mean()\n",
        "msg_num[msg_num[\"full_date\"] > msg_num[\"full_date\"].mean()][\"user_id\"] ##maggiore dellam media\n",
        "msg_num[msg_num[\"full_date\"] == msg_num[\"full_date\"].max()][\"user_id\"] #utente con numero maggiore"
      ],
      "execution_count": null,
      "outputs": [
        {
          "output_type": "execute_result",
          "data": {
            "text/plain": [
              "6    9a0f4@kp\n",
              "Name: user_id, dtype: object"
            ]
          },
          "metadata": {},
          "execution_count": 6
        }
      ]
    },
    {
      "cell_type": "markdown",
      "metadata": {
        "id": "SpFzzs7CETKj"
      },
      "source": [
        "3. Creare un grafico a torta che riporti la media totale dei messaggi inviati suddivisi per giorni avente le seguenti caratteristiche:\n",
        "L'angolo 0 deve partire da una inclinazione di 90°\n",
        "Mettere in esposizione la fetta del grafico che assuneme il minor valore percentuale\n",
        "Utilizzando come riferimento questo NoteBook scegliere 7 colori diversi per ogni giorno della settimana ed utilizzarli per colorare le fette del grafico\n",
        "Impostare come valori delle label del grafico il giorno di riferimento con il seguente fromato gg-mm-aaaa"
      ]
    },
    {
      "cell_type": "code",
      "metadata": {
        "colab": {
          "base_uri": "https://localhost:8080/"
        },
        "id": "bgv6r7LuESXz",
        "outputId": "06df5893-43d4-4796-9f35-8b1954f3b607"
      },
      "source": [
        "df['full_date'] = pd.to_datetime(df[\"full_date\"]) #cambiare il dataframe modificando e aggiustando il formato\n",
        "df[\"full_date\"].dt.date\n"
      ],
      "execution_count": null,
      "outputs": [
        {
          "output_type": "execute_result",
          "data": {
            "text/plain": [
              "0      2021-11-10\n",
              "1      2021-11-10\n",
              "2      2021-11-10\n",
              "3      2021-11-10\n",
              "4      2021-11-10\n",
              "          ...    \n",
              "213    2021-11-16\n",
              "214    2021-11-16\n",
              "215    2021-11-16\n",
              "216    2021-11-16\n",
              "217    2021-11-16\n",
              "Name: full_date, Length: 218, dtype: object"
            ]
          },
          "metadata": {},
          "execution_count": 7
        }
      ]
    },
    {
      "cell_type": "code",
      "metadata": {
        "colab": {
          "base_uri": "https://localhost:8080/",
          "height": 297
        },
        "id": "qyv96sjpF4mj",
        "outputId": "ba565422-1c26-4d76-db85-e51587a6192a"
      },
      "source": [
        "data = df.groupby(df[\"full_date\"].dt.date).count()\n",
        "data\n"
      ],
      "execution_count": null,
      "outputs": [
        {
          "output_type": "execute_result",
          "data": {
            "text/html": [
              "<div>\n",
              "<style scoped>\n",
              "    .dataframe tbody tr th:only-of-type {\n",
              "        vertical-align: middle;\n",
              "    }\n",
              "\n",
              "    .dataframe tbody tr th {\n",
              "        vertical-align: top;\n",
              "    }\n",
              "\n",
              "    .dataframe thead th {\n",
              "        text-align: right;\n",
              "    }\n",
              "</style>\n",
              "<table border=\"1\" class=\"dataframe\">\n",
              "  <thead>\n",
              "    <tr style=\"text-align: right;\">\n",
              "      <th></th>\n",
              "      <th>user_id</th>\n",
              "      <th>message_length</th>\n",
              "      <th>device_type</th>\n",
              "      <th>has_media</th>\n",
              "      <th>has_links</th>\n",
              "      <th>full_date</th>\n",
              "    </tr>\n",
              "    <tr>\n",
              "      <th>full_date</th>\n",
              "      <th></th>\n",
              "      <th></th>\n",
              "      <th></th>\n",
              "      <th></th>\n",
              "      <th></th>\n",
              "      <th></th>\n",
              "    </tr>\n",
              "  </thead>\n",
              "  <tbody>\n",
              "    <tr>\n",
              "      <th>2021-11-10</th>\n",
              "      <td>10</td>\n",
              "      <td>10</td>\n",
              "      <td>10</td>\n",
              "      <td>10</td>\n",
              "      <td>10</td>\n",
              "      <td>10</td>\n",
              "    </tr>\n",
              "    <tr>\n",
              "      <th>2021-11-11</th>\n",
              "      <td>34</td>\n",
              "      <td>34</td>\n",
              "      <td>34</td>\n",
              "      <td>34</td>\n",
              "      <td>34</td>\n",
              "      <td>34</td>\n",
              "    </tr>\n",
              "    <tr>\n",
              "      <th>2021-11-12</th>\n",
              "      <td>62</td>\n",
              "      <td>62</td>\n",
              "      <td>62</td>\n",
              "      <td>62</td>\n",
              "      <td>62</td>\n",
              "      <td>62</td>\n",
              "    </tr>\n",
              "    <tr>\n",
              "      <th>2021-11-13</th>\n",
              "      <td>2</td>\n",
              "      <td>2</td>\n",
              "      <td>2</td>\n",
              "      <td>2</td>\n",
              "      <td>2</td>\n",
              "      <td>2</td>\n",
              "    </tr>\n",
              "    <tr>\n",
              "      <th>2021-11-14</th>\n",
              "      <td>41</td>\n",
              "      <td>41</td>\n",
              "      <td>41</td>\n",
              "      <td>41</td>\n",
              "      <td>41</td>\n",
              "      <td>41</td>\n",
              "    </tr>\n",
              "    <tr>\n",
              "      <th>2021-11-15</th>\n",
              "      <td>56</td>\n",
              "      <td>56</td>\n",
              "      <td>56</td>\n",
              "      <td>56</td>\n",
              "      <td>56</td>\n",
              "      <td>56</td>\n",
              "    </tr>\n",
              "    <tr>\n",
              "      <th>2021-11-16</th>\n",
              "      <td>13</td>\n",
              "      <td>13</td>\n",
              "      <td>13</td>\n",
              "      <td>13</td>\n",
              "      <td>13</td>\n",
              "      <td>13</td>\n",
              "    </tr>\n",
              "  </tbody>\n",
              "</table>\n",
              "</div>"
            ],
            "text/plain": [
              "            user_id  message_length  ...  has_links  full_date\n",
              "full_date                            ...                      \n",
              "2021-11-10       10              10  ...         10         10\n",
              "2021-11-11       34              34  ...         34         34\n",
              "2021-11-12       62              62  ...         62         62\n",
              "2021-11-13        2               2  ...          2          2\n",
              "2021-11-14       41              41  ...         41         41\n",
              "2021-11-15       56              56  ...         56         56\n",
              "2021-11-16       13              13  ...         13         13\n",
              "\n",
              "[7 rows x 6 columns]"
            ]
          },
          "metadata": {},
          "execution_count": 8
        }
      ]
    },
    {
      "cell_type": "code",
      "metadata": {
        "colab": {
          "base_uri": "https://localhost:8080/",
          "height": 277
        },
        "id": "um5GQynLHqmj",
        "outputId": "5340ae10-f494-4075-d16e-5989bd77f8b7"
      },
      "source": [
        "fig = plt.figure()\n",
        "ax = plt.axes()\n",
        "\n",
        "fig.suptitle(\"grafico a torta\")\n",
        "ax.pie(data[\"user_id\"],labels=data.index,autopct='%1.1f%%',colors=[\"y\",\"r\",\"c\",\"b\",\"gold\",\"silver\",\"olive\"])\n",
        "plt.show()"
      ],
      "execution_count": null,
      "outputs": [
        {
          "output_type": "display_data",
          "data": {
            "image/png": "[encoded data removed]",
            "text/plain": [
              "<Figure size 432x288 with 1 Axes>"
            ]
          },
          "metadata": {}
        }
      ]
    },
    {
      "cell_type": "code",
      "metadata": {
        "colab": {
          "base_uri": "https://localhost:8080/",
          "height": 315
        },
        "id": "VFFKRyrFiXds",
        "outputId": "6025ca69-63ec-40ef-dd0a-c9b055258350"
      },
      "source": [
        "data = df.groupby('user_id').agg({'message_length' : 'count',\"has_media\": 'sum','has_links': 'sum'}).sort_values('message_length',ascending = False)\n",
        "labels = data.index\n",
        "msgs= np.subtract(data[\"message_length\"], np.subtract(data['has_media'],data[\"has_links\"]))\n",
        "msgs_links = data[\"has_links\"]\n",
        "msgs_media = data['has_media']\n",
        "fig = plt.figure()\n",
        "ax = plt.axes()\n",
        "ax.bar(labels,msgs,color = \"olive\")\n",
        "ax.bar(labels,msgs_links,bottom=msgs,color = \"r\") #bottom è il fondo di quel grafico che inizia da dove finice message\n",
        "ax.bar(labels,msgs_media,bottom= np.add(msgs,msgs_links))\n",
        "fig.autofmt_xdate(rotation=90)  \n",
        "data\n",
        "plt.show()"
      ],
      "execution_count": null,
      "outputs": [
        {
          "output_type": "display_data",
          "data": {
            "image/png": "[encoded data removed]",
            "text/plain": [
              "<Figure size 432x288 with 1 Axes>"
            ]
          },
          "metadata": {
            "needs_background": "light"
          }
        }
      ]
    }
  ]
}
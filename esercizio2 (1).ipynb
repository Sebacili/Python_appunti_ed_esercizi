{
  "nbformat": 4,
  "nbformat_minor": 0,
  "metadata": {
    "colab": {
      "name": "esercizio2.ipynb",
      "provenance": [],
      "collapsed_sections": []
    },
    "kernelspec": {
      "name": "python3",
      "display_name": "Python 3"
    },
    "language_info": {
      "name": "python"
    }
  },
  "cells": [
    {
      "cell_type": "markdown",
      "metadata": {
        "id": "DIAIaaGpn7ih"
      },
      "source": [
        "1.Scrivere un programma che crei una lista contenente i nomi dei capoluoghi delle regioni italiane e che visualizzi la lista. Chiamare la lista capoluoghiRegione"
      ]
    },
    {
      "cell_type": "code",
      "metadata": {
        "colab": {
          "base_uri": "https://localhost:8080/"
        },
        "id": "lyLMgG_KngFr",
        "outputId": "60897e38-d2fa-4cba-feaf-26f9b20fce07"
      },
      "source": [
        "capoluoghiRegione= [\"Napoli\",\"Milano\", \"Trieste\", \"Bologna\", \"Catanzaro\", \"Roma\", \"Ancona\" , \"Aosta\", \"Bologna\", \"acquila\", \"Bari\", \"Cagliari\",\"Firenze\", \"Trento\", \"Potenza\", \"Genova\", \"Palermo\", \"Perugia\", \"Venezia\", \"Campobasso\"]\n",
        "print(capoluoghiRegione)"
      ],
      "execution_count": null,
      "outputs": [
        {
          "output_type": "stream",
          "name": "stdout",
          "text": [
            "['Napoli', 'Milano', 'Trieste', 'Bologna', 'Catanzaro', 'Roma', 'Ancona', 'Aosta', 'Bologna', 'acquila', 'Bari', 'Cagliari', 'Firenze', 'Trento', 'Potenza', 'Genova', 'Palermo', 'Perugia', 'Venezia', 'Campobasso']\n"
          ]
        }
      ]
    },
    {
      "cell_type": "markdown",
      "metadata": {
        "id": "vasBrRxYq4Ji"
      },
      "source": [
        "Scrivere un programma che visualizzi i primi 6 capoluoghi di regione presenti in capoluoghiRegione\n"
      ]
    },
    {
      "cell_type": "code",
      "metadata": {
        "colab": {
          "base_uri": "https://localhost:8080/"
        },
        "id": "dwodrZFjq71c",
        "outputId": "7649afb9-c608-4f2c-f261-762de3afc4ab"
      },
      "source": [
        "print(capoluoghiRegione[:6])"
      ],
      "execution_count": null,
      "outputs": [
        {
          "output_type": "stream",
          "name": "stdout",
          "text": [
            "['Napoli', 'Milano', 'Trieste', 'Bologna', 'Catanzaro', 'Roma']\n"
          ]
        }
      ]
    },
    {
      "cell_type": "markdown",
      "metadata": {
        "id": "yFqPMHcZrJCt"
      },
      "source": [
        "Scrivere un programma che visualizzi gli ultimi 6 capoluoghi di regione presenti in capoluoghiRegione\n"
      ]
    },
    {
      "cell_type": "code",
      "metadata": {
        "colab": {
          "base_uri": "https://localhost:8080/"
        },
        "id": "nk08xIuwrL7z",
        "outputId": "1847deb1-1ff7-4fc0-92da-64b135c96509"
      },
      "source": [
        "print(capoluoghiRegione[-6:])"
      ],
      "execution_count": null,
      "outputs": [
        {
          "output_type": "stream",
          "name": "stdout",
          "text": [
            "['Potenza', 'Genova', 'Palermo', 'Perugia', 'Venezia', 'Campobasso']\n"
          ]
        }
      ]
    },
    {
      "cell_type": "markdown",
      "metadata": {
        "id": "FraXDzb3rYye"
      },
      "source": [
        "Scrivere un programma che visualizzi i 6 capoluoghi di regione presenti nella parte centrale di capoluoghiRegione\n"
      ]
    },
    {
      "cell_type": "code",
      "metadata": {
        "colab": {
          "base_uri": "https://localhost:8080/"
        },
        "id": "muXV3QElreh0",
        "outputId": "87424ad3-489a-41ab-b1a3-e1bb1a6acafb"
      },
      "source": [
        "print(capoluoghiRegione[7:13])"
      ],
      "execution_count": null,
      "outputs": [
        {
          "output_type": "stream",
          "name": "stdout",
          "text": [
            "['Aosta', 'Bologna', 'acquila', 'Bari', 'Cagliari', 'Firenze']\n"
          ]
        }
      ]
    },
    {
      "cell_type": "markdown",
      "metadata": {
        "id": "7Umk2yrar4P1"
      },
      "source": [
        "Scrivere un programma che visualizzi i capoluoghi di regione presenti in capoluoghiRegione nelle posizioni pari.\n"
      ]
    },
    {
      "cell_type": "code",
      "metadata": {
        "colab": {
          "base_uri": "https://localhost:8080/"
        },
        "id": "UMNj_lTFsBXp",
        "outputId": "1c6b753a-2b24-4e32-9dfe-647111d6089b"
      },
      "source": [
        "for j in [0,2,4,6,8,10,12,14,16,18]:\n",
        "  print(capoluoghiRegione[j])"
      ],
      "execution_count": null,
      "outputs": [
        {
          "output_type": "stream",
          "name": "stdout",
          "text": [
            "Napoli\n",
            "Trieste\n",
            "Catanzaro\n",
            "Ancona\n",
            "Bologna\n",
            "Bari\n",
            "Firenze\n",
            "Potenza\n",
            "Palermo\n",
            "Venezia\n"
          ]
        }
      ]
    },
    {
      "cell_type": "code",
      "metadata": {
        "colab": {
          "base_uri": "https://localhost:8080/"
        },
        "id": "LMOz-6xKnFd7",
        "outputId": "536c716b-fd88-4162-8204-e6c73b3940ae"
      },
      "source": [
        "res = [nome for nome in capoluoghiRegione if capoluoghiRegione.index(nome)%2==0]\n",
        "res1 = []\n",
        "for nome in capoluoghiRegione:\n",
        "  if capoluoghiRegione.index(nome)%2==0 :\n",
        "     res1.append(nome)\n",
        "print(res)\n",
        "print(res1)\n",
        "print(ascii(res1))\n",
        "print(capoluoghiRegione[:20:2])"
      ],
      "execution_count": null,
      "outputs": [
        {
          "output_type": "stream",
          "name": "stdout",
          "text": [
            "['Napoli', 'Trieste', 'Catanzaro', 'Ancona', 'Bari', 'Firenze', 'Potenza', 'Palermo', 'Venezia']\n",
            "['Napoli', 'Trieste', 'Catanzaro', 'Ancona', 'Bari', 'Firenze', 'Potenza', 'Palermo', 'Venezia']\n",
            "['Napoli', 'Trieste', 'Catanzaro', 'Ancona', 'Bari', 'Firenze', 'Potenza', 'Palermo', 'Venezia']\n",
            "['Napoli', 'Trieste', 'Catanzaro', 'Ancona', 'Bologna', 'Bari', 'Firenze', 'Potenza', 'Palermo', 'Venezia']\n"
          ]
        }
      ]
    },
    {
      "cell_type": "markdown",
      "metadata": {
        "id": "qPdP8f1lseGp"
      },
      "source": [
        "Scrivere un programma che visualizzi i capoluoghi di regione presenti in capoluoghiRegione nelle posizioni dispari.\n"
      ]
    },
    {
      "cell_type": "code",
      "metadata": {
        "colab": {
          "base_uri": "https://localhost:8080/"
        },
        "id": "yls_iz-OsuVD",
        "outputId": "1cef8ec5-38f3-4eab-d6db-0c2db92f4f62"
      },
      "source": [
        "for j in [1,3,5,7,9,11,13,15,17,19]:\n",
        "  print(capoluoghiRegione[j])"
      ],
      "execution_count": null,
      "outputs": [
        {
          "output_type": "stream",
          "name": "stdout",
          "text": [
            "Milano\n",
            "Bologna\n",
            "Roma\n",
            "Aosta\n",
            "acquila\n",
            "Cagliari\n",
            "Trento\n",
            "Genova\n",
            "Perugia\n",
            "Campobasso\n"
          ]
        }
      ]
    },
    {
      "cell_type": "markdown",
      "metadata": {
        "id": "_8amksrls5mL"
      },
      "source": [
        "Scrivere un programma che visualizzi il primo capoluogo di regione in ordine alfabetico\n"
      ]
    },
    {
      "cell_type": "code",
      "metadata": {
        "colab": {
          "base_uri": "https://localhost:8080/"
        },
        "id": "r92rcE7gs9DM",
        "outputId": "8cc05b9f-f1d7-463b-b25e-65075dafa19f"
      },
      "source": [
        "print(sorted(capoluoghiRegione)[0])"
      ],
      "execution_count": null,
      "outputs": [
        {
          "output_type": "stream",
          "name": "stdout",
          "text": [
            "Ancona\n"
          ]
        }
      ]
    },
    {
      "cell_type": "markdown",
      "metadata": {
        "id": "tbxbskZvte9r"
      },
      "source": [
        "Scrivere un programma che permetta ad un utente di inserire il nome di una città è risponda True se quella città è un capoluogo di regione, False altrimenti.\n"
      ]
    },
    {
      "cell_type": "code",
      "metadata": {
        "id": "UxnzPDHItthl",
        "colab": {
          "base_uri": "https://localhost:8080/"
        },
        "outputId": "ce0798e6-9b5e-43e8-ceec-4c279490ae16"
      },
      "source": [
        "x = input(\"inserire nome di una città : \")\n",
        "x in capoluoghiRegione"
      ],
      "execution_count": null,
      "outputs": [
        {
          "name": "stdout",
          "output_type": "stream",
          "text": [
            "inserire nome di una città : a\n"
          ]
        },
        {
          "output_type": "execute_result",
          "data": {
            "text/plain": [
              "False"
            ]
          },
          "metadata": {},
          "execution_count": 36
        }
      ]
    },
    {
      "cell_type": "markdown",
      "metadata": {
        "id": "fuJIV29FtuVX"
      },
      "source": [
        "Scrivere un programma che visualizzi i capoluoghi in ordine alfabetico\n"
      ]
    },
    {
      "cell_type": "code",
      "metadata": {
        "colab": {
          "base_uri": "https://localhost:8080/"
        },
        "id": "4GsIhJ2Etyba",
        "outputId": "31b2976e-3396-47b2-b6bd-216cef3edbe0"
      },
      "source": [
        "print(sorted(capoluoghiRegione))"
      ],
      "execution_count": null,
      "outputs": [
        {
          "output_type": "stream",
          "name": "stdout",
          "text": [
            "['Ancona', 'Aosta', 'Bari', 'Bologna', 'Bologna', 'Cagliari', 'Campobasso', 'Catanzaro', 'Firenze', 'Genova', 'Milano', 'Napoli', 'Palermo', 'Perugia', 'Potenza', 'Roma', 'Trento', 'Trieste', 'Venezia', 'acquila']\n"
          ]
        }
      ]
    },
    {
      "cell_type": "markdown",
      "metadata": {
        "id": "JvzLt2LBt4vA"
      },
      "source": [
        "Scrivere un programma che visualizzi i capoluoghi in ordine alfabetico inverso (dalla Z alla A)\n"
      ]
    },
    {
      "cell_type": "code",
      "metadata": {
        "colab": {
          "base_uri": "https://localhost:8080/"
        },
        "id": "749EsVp3t73C",
        "outputId": "d0414b5f-a196-4546-ee9f-9c4a601e273f"
      },
      "source": [
        "print(sorted(capoluoghiRegione, reverse = True))"
      ],
      "execution_count": null,
      "outputs": [
        {
          "output_type": "stream",
          "name": "stdout",
          "text": [
            "['acquila', 'Venezia', 'Trieste', 'Trento', 'Roma', 'Potenza', 'Perugia', 'Palermo', 'Napoli', 'Milano', 'Genova', 'Firenze', 'Catanzaro', 'Campobasso', 'Cagliari', 'Bologna', 'Bologna', 'Bari', 'Aosta', 'Ancona']\n"
          ]
        }
      ]
    },
    {
      "cell_type": "markdown",
      "metadata": {
        "id": "Ipfjtfe-uIdB"
      },
      "source": [
        "Scrivere un programma che visualizzi i capoluoghi in ordine sulla base della lunghezza del nome (da quello più corto a quello più lungo)"
      ]
    },
    {
      "cell_type": "code",
      "metadata": {
        "colab": {
          "base_uri": "https://localhost:8080/"
        },
        "id": "xCIJgT0muZzk",
        "outputId": "9913fd49-234b-4ed8-961d-f97ec40b8a98"
      },
      "source": [
        "print(sorted(capoluoghiRegione, key = len))"
      ],
      "execution_count": null,
      "outputs": [
        {
          "output_type": "stream",
          "name": "stdout",
          "text": [
            "['Roma', 'Bari', 'Aosta', 'Napoli', 'Milano', 'Ancona', 'Trento', 'Genova', 'Trieste', 'Bologna', 'Bologna', 'acquila', 'Firenze', 'Potenza', 'Palermo', 'Perugia', 'Venezia', 'Cagliari', 'Catanzaro', 'Campobasso']\n"
          ]
        }
      ]
    },
    {
      "cell_type": "markdown",
      "metadata": {
        "id": "opCmEePTupNZ"
      },
      "source": [
        "Scrivere un programma che copi la lista capoluoghiRegione nella lista capoluoghiRegione2 e che elimini dalla prima lista il primo e l’ultimo elemento. Al termine, visualizzare le due liste una sotto l’altra per verificare che effettivamente siano stati eliminati gli elementi della lista originale.\n"
      ]
    },
    {
      "cell_type": "code",
      "metadata": {
        "colab": {
          "base_uri": "https://localhost:8080/"
        },
        "id": "-gNDMn5DutJQ",
        "outputId": "690e5cf9-8ddd-4768-c201-6fd44c02303f"
      },
      "source": [
        "capoluoghiRegione2 = capoluoghiRegione [:]\n",
        "capoluoghiRegione.pop()\n",
        "capoluoghiRegione.pop(0)\n",
        "print(capoluoghiRegione)\n",
        "print(capoluoghiRegione2)"
      ],
      "execution_count": null,
      "outputs": [
        {
          "output_type": "stream",
          "name": "stdout",
          "text": [
            "['Milano', 'Trieste', 'Bologna', 'Catanzaro', 'Roma', 'Ancona', 'Aosta', 'Bologna', 'acquila', 'Bari', 'Cagliari', 'Firenze', 'Trento', 'Potenza', 'Genova', 'Palermo', 'Perugia', 'Venezia']\n",
            "['Napoli', 'Milano', 'Trieste', 'Bologna', 'Catanzaro', 'Roma', 'Ancona', 'Aosta', 'Bologna', 'acquila', 'Bari', 'Cagliari', 'Firenze', 'Trento', 'Potenza', 'Genova', 'Palermo', 'Perugia', 'Venezia', 'Campobasso']\n"
          ]
        }
      ]
    },
    {
      "cell_type": "markdown",
      "metadata": {
        "id": "LCbQcjkuvGTF"
      },
      "source": [
        "Scrivere un programma che, con una sola istruzione, carichi una lista con i primi 100 numeri interi. Chiamare la lista numeriInteri. Al termine, visualizzare la lista.\n"
      ]
    },
    {
      "cell_type": "code",
      "metadata": {
        "id": "fMon_geWsRMg",
        "colab": {
          "base_uri": "https://localhost:8080/"
        },
        "outputId": "595b085d-d7e2-4864-8aba-2cd0f781cce9"
      },
      "source": [
        "numeriInteri = []\n",
        "for i in range(101):\n",
        " numeriInteri.append(i)\n",
        "print(numeriInteri)"
      ],
      "execution_count": null,
      "outputs": [
        {
          "output_type": "stream",
          "name": "stdout",
          "text": [
            "[0, 1, 2, 3, 4, 5, 6, 7, 8, 9, 10, 11, 12, 13, 14, 15, 16, 17, 18, 19, 20, 21, 22, 23, 24, 25, 26, 27, 28, 29, 30, 31, 32, 33, 34, 35, 36, 37, 38, 39, 40, 41, 42, 43, 44, 45, 46, 47, 48, 49, 50, 51, 52, 53, 54, 55, 56, 57, 58, 59, 60, 61, 62, 63, 64, 65, 66, 67, 68, 69, 70, 71, 72, 73, 74, 75, 76, 77, 78, 79, 80, 81, 82, 83, 84, 85, 86, 87, 88, 89, 90, 91, 92, 93, 94, 95, 96, 97, 98, 99, 100]\n"
          ]
        }
      ]
    }
  ]
}
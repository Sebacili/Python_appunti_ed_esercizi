{
  "nbformat": 4,
  "nbformat_minor": 0,
  "metadata": {
    "colab": {
      "provenance": []
    },
    "kernelspec": {
      "name": "python3",
      "display_name": "Python 3"
    },
    "language_info": {
      "name": "python"
    }
  },
  "cells": [
    {
      "cell_type": "markdown",
      "source": [
        "Creare una classe \"studente\" che abbia gli attributi privati: nome, cognome, classe, data di nascita e voti ed i metodi: cambiaClasse, aggiungiVoto, calcoloMedia, maggiorenne e passaggioClasseSucc(uno studente passa alla classe successiva solo se è sufficiente in tutte le materie).\n",
        "\n",
        "Scrivere poi un programma che: Inserisca uno studente e provi tutti i metodi"
      ],
      "metadata": {
        "id": "NLlh_g5tANtx"
      }
    },
    {
      "cell_type": "code",
      "source": [
        "class Studente:\n",
        "  def __init__(self, nome, cognome, classe, dataNascita, voti): #Metodo costruttore\n",
        "   #Atrributi (privati --> 2 underscore dopo il punto)\n",
        "    self.__nome = nome\n",
        "    self.__cognome = cognome\n",
        "    self.__classe = classe\n",
        "    self.__dataNascita = dataNascita\n",
        "    self.__voti = voti\n",
        "\n",
        "  #Metodi set e get (vengono usati per accedere agli attributi privati)\n",
        "  def setNome(self, nome):\n",
        "    if type(nome) == str and len(nome) > 0:\n",
        "      self.__nome = nome\n",
        "      return 0\n",
        "    else:\n",
        "      return -1\n",
        "\n",
        "  def getNome(self):\n",
        "    return self.__nome\n",
        "\n",
        "  def setVoti(self, voti):\n",
        "    self.__voti = voti\n",
        "    return 0\n",
        "\n",
        "  def getVoti(self):\n",
        "    return self.__voti\n",
        "\n",
        "  #Metodi genereci della classe\n",
        "  def calcoloMedia(self):\n",
        "    import statistics # per fare la media\n",
        "    return statistics.mean(self.getVoti())\n",
        "\n",
        "  def passaggioClasseSucc(self):\n",
        "    #esito = True\n",
        "    #for voto in self.getVoti():\n",
        "     # if voto < 6:\n",
        "     #   esito = False\n",
        "    \n",
        "    #return esito\n",
        "\n",
        "    esito = True\n",
        "    i = 0\n",
        "    while esito == True and i < len(self.getVoti()):\n",
        "      if self.getVoti()[i] < 6:\n",
        "        esito = False\n",
        "      i += 1\n",
        "    return esito\n",
        "\n",
        "\n",
        "\n",
        "\n",
        "\n",
        "\n",
        "alfio = Studente(\"Alfio\", \"Song\", 4, \"2004/11/24\", [])\n",
        "print(alfio.getNome())\n",
        "alfio.setVoti([6, 6.5, 2, 9])\n",
        "print(alfio.getVoti())\n",
        "print(alfio.calcoloMedia())\n",
        "print(alfio.passaggioClasseSucc())"
      ],
      "metadata": {
        "id": "dHaAq3a3A7Gh",
        "colab": {
          "base_uri": "https://localhost:8080/"
        },
        "outputId": "e7985d30-1a83-4c10-8461-f698bddc20d6"
      },
      "execution_count": 1,
      "outputs": [
        {
          "output_type": "stream",
          "name": "stdout",
          "text": [
            "Alfio\n",
            "[6, 6.5, 2, 9]\n",
            "5.875\n",
            "False\n"
          ]
        }
      ]
    }
  ]
}
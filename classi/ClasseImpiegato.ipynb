{
  "nbformat": 4,
  "nbformat_minor": 0,
  "metadata": {
    "colab": {
      "provenance": []
    },
    "kernelspec": {
      "name": "python3",
      "display_name": "Python 3"
    },
    "language_info": {
      "name": "python"
    }
  },
  "cells": [
    {
      "cell_type": "code",
      "execution_count": null,
      "metadata": {
        "id": "9t-ALiTGezQq"
      },
      "outputs": [],
      "source": [
        "#creare una classe impiegato che abbia \n",
        "#attributi privati nome,cognome,anno_assunzione,stipendio\n",
        "#metodo cambia_stipendio che cambia lo stipendio dell impiegato di una certa percentuale\n",
        "# metodo calcola_anzianita che calcola quanti anni sono trascorsi dalla data di assunzione\n",
        "#metodo stampa_dettagli che restituisca una lista contenente tutti gli attributi dell' impiegato"
      ]
    },
    {
      "cell_type": "code",
      "source": [
        "import datetime\n",
        "class Impiegato:\n",
        "    def __init__(self, nome, cognome,anno_assunzione, stipendio):   #costruttore \n",
        "     #attributi privati per i due underscore (__.)\n",
        "       self.__nome = nome\n",
        "       self.__cognome = cognome\n",
        "       self.__anno_assunzione = anno_assunzione\n",
        "       self.__stipendio = stipendio\n",
        "\n",
        "    def get_nome(self):\n",
        "       return self.__nome\n",
        "\n",
        "    def set_nome(self, nome):\n",
        "       if nome != '': \n",
        "          self.__nome = nome\n",
        "          return 0\n",
        "       else:\n",
        "            return -1 \n",
        "        \n",
        "    def get_cognome(self):\n",
        "        return self.__cognome\n",
        "\n",
        "    def set_cognome(self, cognome):\n",
        "     \n",
        "       if cognome != '': \n",
        "          self.__cognome = cognome\n",
        "          return 0\n",
        "       else:\n",
        "            return -1  \n",
        "            \n",
        "    def get_anno_assunzione(self):\n",
        "        return self.__anno_assunzione\n",
        "        \n",
        "    def set_anno_assunzione(self, anno_assunzione):\n",
        "     \n",
        "       if anno_assunzione > 1950: \n",
        "          self.__anno_assunzione = anno_assunzione\n",
        "          return 0\n",
        "       else:\n",
        "            return -1  \n",
        "\n",
        "    def get_stipendio(self):\n",
        "        return self.__stipendio\n",
        "        \n",
        "    def set_stipendio(self, stipendio):\n",
        "     \n",
        "       if stipendio > 0: \n",
        "          self.__stipendio = stipendio\n",
        "          return 0\n",
        "       else:\n",
        "            return -1  \n",
        "\n",
        "    def cambia_stipendio(self):\n",
        "        stipendio = self.get_stipendio() \n",
        "        percentuale = int(input(\"enter a percentage bro \")) # di solito non si mette l' input , o una percentuale predefinita poichè l' utente potrebbe mettere dati casuali e compromettere tutto\n",
        "        cambia_stipendio = (stipendio * percentuale / 100) + stipendio\n",
        "        return cambia_stipendio;\n",
        "\n",
        "    def calcola_anzianita(self):\n",
        "      today = datetime.date.today()\n",
        "      year = today.year\n",
        "      return year - self.get_anno_assunzione()\n",
        "    def stampa_dettagli(self):\n",
        "      lista = [self.get_nome(),self.get_cognome(),self.get_stipendio(),self.get_anno_assunzione()]\n",
        "      return lista;\n",
        "ugo = Impiegato('Ugo','CapoLugo',1980,1700)\n",
        "\n",
        "print(ugo.cambia_stipendio())\n",
        "print(ugo.calcola_anzianita())\n",
        "print(ugo.stampa_dettagli())"
      ],
      "metadata": {
        "id": "GKAQDqxOe7SF"
      },
      "execution_count": null,
      "outputs": []
    }
  ]
}
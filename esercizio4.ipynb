{
  "nbformat": 4,
  "nbformat_minor": 0,
  "metadata": {
    "colab": {
      "name": "esercizio4.ipynb",
      "provenance": []
    },
    "kernelspec": {
      "name": "python3",
      "display_name": "Python 3"
    },
    "language_info": {
      "name": "python"
    }
  },
  "cells": [
    {
      "cell_type": "markdown",
      "metadata": {
        "id": "foB26kDOrrK0"
      },
      "source": [
        "1. scrivere una funzione chiamata media che dati due numeri restituisca la media. Utilizzare poi la funzione in un programma che acquisisca dall'utente due numeri e calcoli la media"
      ]
    },
    {
      "cell_type": "code",
      "metadata": {
        "colab": {
          "base_uri": "https://localhost:8080/"
        },
        "id": "VKUJLKgyroYA",
        "outputId": "c4d8f447-7f16-46d7-b57a-52cd9a66369b"
      },
      "source": [
        " def media(x,y):\n",
        "    z = x + y\n",
        "    z = z / 2\n",
        "    return z\n",
        "media(int(input(\"Inserire primo numero: \")),int(input(\"Inserire secondo numero: \")))"
      ],
      "execution_count": null,
      "outputs": [
        {
          "name": "stdout",
          "output_type": "stream",
          "text": [
            "Inserire primo numero: 3\n",
            "Inserire secondo numero: 2\n"
          ]
        },
        {
          "output_type": "execute_result",
          "data": {
            "text/plain": [
              "2.5"
            ]
          },
          "metadata": {},
          "execution_count": 5
        }
      ]
    },
    {
      "cell_type": "markdown",
      "metadata": {
        "id": "9iRmka75ruwT"
      },
      "source": [
        "2. scrivere una funzione chiamata piuCorta che date due liste restituisca la lista con meno elementi. Utilizzare poi la funzione in un programma che acquisisca dall'utente due liste e visualizzi gli elementi della lista più corta."
      ]
    },
    {
      "cell_type": "code",
      "metadata": {
        "colab": {
          "base_uri": "https://localhost:8080/"
        },
        "id": "f3wcQVworx7C",
        "outputId": "447aec49-e48b-4a38-8f6d-b5ca2975d5e5"
      },
      "source": [
        "list1 = []\n",
        "list2 = []\n",
        "def piuCorta(list1,list2):\n",
        "\n",
        "  if len(list1) <len(list2):\n",
        "    print(\"List 1 ha meno elementi, e sono: \")\n",
        "    print(list1)\n",
        "  else: \n",
        "    print(\"list 2 ha meno elemensti e sono: \")  \n",
        "    print(list2)\n",
        "\n",
        "numelementi1 = int(input(\"inserire numero totale di elementi della lista 1: \"))    \n",
        "for i in range(0,numelementi1):\n",
        "  elementi = str(input())\n",
        "  list1.append(elementi)\n",
        "  print(list1)\n",
        "\n",
        "numelementi2 = int(input(\"inserire numero totale di elementi della lista 2: \")) \n",
        "\n",
        "for i in range (0,numelementi2):\n",
        "   elementi = str(input())\n",
        "   list2.append(elementi)\n",
        "   print(list2)\n",
        "   piuCorta(list1,list2)\n"
      ],
      "execution_count": 11,
      "outputs": [
        {
          "output_type": "stream",
          "name": "stdout",
          "text": [
            "inserire numero totale di elementi della lista 1: 1\n",
            "a\n",
            "['a']\n",
            "inserire numero totale di elementi della lista 2: 1\n",
            "a\n",
            "['a']\n",
            "list 2 ha meno elemensti e sono: \n",
            "['a']\n"
          ]
        }
      ]
    },
    {
      "cell_type": "code",
      "metadata": {
        "colab": {
          "base_uri": "https://localhost:8080/"
        },
        "id": "jfJmLXA32fU7",
        "outputId": "47bd6486-74f2-4f91-baae-6a5c0fa0979d"
      },
      "source": [
        "def piuCorta(x,y):\n",
        "  if len (x) < len(y):\n",
        "     return x \n",
        "  else:\n",
        "     return y\n",
        "lista1 = [\"a\",\"b\",\"c\"]\n",
        "lista2 = [\"d\",\"e\"]\n",
        "piuCorta(lista1,lista2)"
      ],
      "execution_count": null,
      "outputs": [
        {
          "output_type": "execute_result",
          "data": {
            "text/plain": [
              "['d', 'e']"
            ]
          },
          "metadata": {},
          "execution_count": 35
        }
      ]
    },
    {
      "cell_type": "markdown",
      "metadata": {
        "id": "B3WeOcosryaR"
      },
      "source": [
        "3. scrivere una funzione chiamata costruisciLista che dati due numeri interi restituisca la lista formata da tutti i numeri interi compresi tra i due numeri dati. Utilizzare poi la funzione in un programma che acquisisca dall'utente due numeri e visualizzi la lista formata da tutti i numeri interi compresi tra i due numeri dati ma a partire dal più grande fino al più piccolo.\n"
      ]
    },
    {
      "cell_type": "code",
      "metadata": {
        "colab": {
          "base_uri": "https://localhost:8080/"
        },
        "id": "P_etSNRor0qR",
        "outputId": "adbfbb85-045b-4841-e5d0-83fdc45f493b"
      },
      "source": [
        "def costruisciLista(x,y):\n",
        "  z = [i for i in range(x+1,y)]\n",
        "  z.reverse()\n",
        "  return z\n",
        "costruisciLista(int(input(\"Inserire primo numero: \")), int(input(\"Inserire secondo numero: \")))\n"
      ],
      "execution_count": null,
      "outputs": [
        {
          "name": "stdout",
          "output_type": "stream",
          "text": [
            "Inserire primo numero: 5\n",
            "Inserire secondo numero: 10\n"
          ]
        },
        {
          "output_type": "execute_result",
          "data": {
            "text/plain": [
              "[9, 8, 7, 6]"
            ]
          },
          "metadata": {},
          "execution_count": 38
        }
      ]
    },
    {
      "cell_type": "markdown",
      "metadata": {
        "id": "2mDKXX_Ur1e5"
      },
      "source": [
        "4. scrivere una funzione chiamata valoreAssoluto che dato un numero restituisca il suo valore assoluto. Utilizzare poi questa funzione per determinare il valore assoluto degli elementi di una lista inserita dall'utente."
      ]
    },
    {
      "cell_type": "code",
      "metadata": {
        "id": "2xSZfdSLr8FK",
        "colab": {
          "base_uri": "https://localhost:8080/"
        },
        "outputId": "8490f998-b0df-443d-98f4-b5896d7d686f"
      },
      "source": [
        "def valoreAssoluto(num1):\n",
        " num1 = abs(num1)\n",
        " return num1\n",
        "\n",
        "lst = [] \n",
        "n = int(input(\"inserisci il numero di elementi: \"))\n",
        "for i in range(0,n):\n",
        "  element = int(input(\"inserire numero:\"))\n",
        "  lst.append(element)\n",
        "for j in range(0,n):\n",
        " print(\"Valore Assoluto: \",valoreAssoluto(lst[j]))"
      ],
      "execution_count": 10,
      "outputs": [
        {
          "output_type": "stream",
          "name": "stdout",
          "text": [
            "inserisci il numero di elementi: 3\n",
            "inserire numero:2\n",
            "inserire numero:2\n",
            "inserire numero:1\n",
            "Valore Assoluto:  2\n",
            "Valore Assoluto:  2\n",
            "Valore Assoluto:  1\n"
          ]
        }
      ]
    },
    {
      "cell_type": "markdown",
      "metadata": {
        "id": "dRJqxM29txuh"
      },
      "source": [
        "5. scrivere una funzione chiamata scambia che data una lista scambi il primo elemento con l'ultimo, il secondo con il penultimo e così via. Utilizzare poi la funzione in un programma che acquisisca dall'utente una lista di 10 elementi e li visualizzi scambiati."
      ]
    },
    {
      "cell_type": "code",
      "metadata": {
        "id": "3MDk2mFyt0LJ",
        "colab": {
          "base_uri": "https://localhost:8080/"
        },
        "outputId": "19d759da-ba7d-4225-c705-2c36dd96a092"
      },
      "source": [
        "def scambia(lst):\n",
        "  for i in lst:\n",
        "    lst.reverse()\n",
        "    return lst\n",
        "lst= []\n",
        "for n in range(0,10):\n",
        "      element = str(input(\"Inserire elemento: \"))\n",
        "      lst.append(element)\n",
        "\n",
        "print(scambia(lst))"
      ],
      "execution_count": 26,
      "outputs": [
        {
          "output_type": "stream",
          "name": "stdout",
          "text": [
            "Inserire elemento: 2\n",
            "Inserire elemento: a\n",
            "Inserire elemento: b\n",
            "Inserire elemento: c\n",
            "Inserire elemento: d\n",
            "Inserire elemento: e\n",
            "Inserire elemento: f\n",
            "Inserire elemento: g\n",
            "Inserire elemento: h\n",
            "Inserire elemento: i\n",
            "['i', 'h', 'g', 'f', 'e', 'd', 'c', 'b', 'a', '2']\n"
          ]
        }
      ]
    },
    {
      "cell_type": "markdown",
      "metadata": {
        "id": "4ABPtE-1t0uY"
      },
      "source": [
        "\n",
        "6. scrivere una funzione lambda che dati due numeri calcoli la loro somma. Utilizzare la funzione in un programma che chieda all'utente due numeri interi e visualizzi la loro somma."
      ]
    },
    {
      "cell_type": "code",
      "metadata": {
        "id": "UDr4qfcBt5Zh"
      },
      "source": [
        "lam = lambda x,y: x + y\n",
        "lam(int(input('Scegli il primo numero: ')), int(input('Scegli il primo numero: ')))"
      ],
      "execution_count": null,
      "outputs": []
    },
    {
      "cell_type": "markdown",
      "metadata": {
        "id": "5jdrO_U8t5rw"
      },
      "source": [
        "7. scrivere un programma che utilizzi una lambda function per aumentare di 10 unità tutti gli elementi di una lista di interi inserita dall'utente.\n"
      ]
    },
    {
      "cell_type": "code",
      "metadata": {
        "id": "pxNpwuBLt7GA",
        "colab": {
          "base_uri": "https://localhost:8080/"
        },
        "outputId": "a28a5d69-f54d-4c25-ec0e-05080ec32cb2"
      },
      "source": [
        "lst1 = []\n",
        "n = int(input(\"Inserisci il numero di elementi: \"))\n",
        "\n",
        "for i in range(0, n):\n",
        "    ele = int(input())\n",
        "    lst1.append(ele)\n",
        "\n",
        "print(lst1)\n",
        "lista =list(map(lambda x: x + 10, lst1))\n",
        "print(lista)"
      ],
      "execution_count": 16,
      "outputs": [
        {
          "output_type": "stream",
          "name": "stdout",
          "text": [
            "Inserisci il numero di elementi: 3\n",
            "2\n",
            "1\n",
            "3\n",
            "[2, 1, 3]\n",
            "[12, 11, 13]\n"
          ]
        }
      ]
    },
    {
      "cell_type": "markdown",
      "metadata": {
        "id": "B9WJj1FQK_xE"
      },
      "source": [
        "8. scrivere una funzione lambda che sostituisca il valore 0 se il parametro è negativo, il valore del parametro se è positivo. Utilizzare poi la funzione in un programma che chieda all'utente i 10 elementi di una lista e visualizzi la lista con il valore 0 al posto dei numeri negativi.\n"
      ]
    },
    {
      "cell_type": "code",
      "metadata": {
        "colab": {
          "base_uri": "https://localhost:8080/"
        },
        "id": "9I5FyHTULArD",
        "outputId": "eb682be0-bd9d-4c88-bc7a-bc5486959f92"
      },
      "source": [
        "lst1 = []\n",
        "for i in range(0, 10):\n",
        "    ele = int(input())\n",
        "    lst1.append(ele)\n",
        "lista1 = lst1\n",
        "for i in lista1:\n",
        "  n = lst1[i]\n",
        "  if n < 0:\n",
        "    lista1[n] = 0\n",
        "\n",
        "print(lista1)"
      ],
      "execution_count": 30,
      "outputs": [
        {
          "output_type": "stream",
          "name": "stdout",
          "text": [
            "1\n",
            "-3\n",
            "4\n",
            "-5\n",
            "4\n",
            "3\n",
            "2\n",
            "2\n",
            "1\n",
            "7\n",
            "[1, -3, 4, -5, 4, 0, 2, 0, 1, 7]\n"
          ]
        }
      ]
    },
    {
      "cell_type": "markdown",
      "metadata": {
        "id": "PvMyx5o1LBUD"
      },
      "source": [
        "9. scrivere un programma che calcoli il fattoriale di un numero utilizzando una lambda function. Provare a realizzare una lambda function ricorsiva (per la ricorsione, google it...)"
      ]
    },
    {
      "cell_type": "code",
      "metadata": {
        "colab": {
          "base_uri": "https://localhost:8080/"
        },
        "id": "cc2Kpx8ELCQC",
        "outputId": "14cfc9bc-01c0-4cd4-f621-3debf5010c10"
      },
      "source": [
        "a = lambda num : 1 if num <= 1 else num*a(num-1)\n",
        "number = int(input('Numero: '))\n",
        "print( '%d != %d' %(number, a(number)))\n"
      ],
      "execution_count": 31,
      "outputs": [
        {
          "output_type": "stream",
          "name": "stdout",
          "text": [
            "Numero: 3\n",
            "3 != 6\n"
          ]
        }
      ]
    }
  ]
}
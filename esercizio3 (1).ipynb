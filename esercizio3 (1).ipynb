{
  "nbformat": 4,
  "nbformat_minor": 0,
  "metadata": {
    "colab": {
      "name": "esercizio3.ipynb",
      "provenance": [],
      "collapsed_sections": []
    },
    "kernelspec": {
      "name": "python3",
      "display_name": "Python 3"
    },
    "language_info": {
      "name": "python"
    }
  },
  "cells": [
    {
      "cell_type": "markdown",
      "metadata": {
        "id": "FwewATVSyASl"
      },
      "source": [
        "1. Scrivere un programma che crei un dizionario contenente i nomi delle regioni e i nomi dei loro\n",
        "capoluoghi. Il nome della regione deve essere il campo chiave. Chiamare il dizionario\n",
        "capoluoghiRegione"
      ]
    },
    {
      "cell_type": "code",
      "metadata": {
        "id": "yHxLNiQzx98L",
        "colab": {
          "base_uri": "https://localhost:8080/"
        },
        "outputId": "0ecf37af-2a86-4249-bbc9-53c0e6e71e59"
      },
      "source": [
        "capoluoghiRegione = {\"Abruzzo\" : \"l\\' acquila\", \"Basilicato\" : \"Potenza\",\"Calabria\" : \"Catanzaro\",\"Campania\" : \"Napoli\", \"Emila-Romagna\" : \"Bologna\", \"Friuli-Venezia Giulia\" : \"Trieste\", \"Lazio\" : \"Roma\",\"Liguria\" : \"Genova\", \"Lombardia\" : \"Milano\", \"Marche\" :\"Ancona\",\"Molise\" :   \"Campobasso\",\"Piemonte\" : \"Torino\",\"Puglia\" : \"Bari\",\"Sardegna\" : \"Cagliari\",\"Sicilia\"  : \"Palermo\", \"Toscana\"  : \"Firenze\", \"Trentino\" :   \"Trento\", \"Umbria\" :    \"Perugia\",\"Valle d'Aosta\" : \"Aosta\",\"Veneto\" :  \"Venezia\"}\n",
        "print(capoluoghiRegione)"
      ],
      "execution_count": null,
      "outputs": [
        {
          "output_type": "stream",
          "name": "stdout",
          "text": [
            "{'Abruzzo': \"l' acquila\", 'Basilicato': 'Potenza', 'Calabria': 'Catanzaro', 'Campania': 'Napoli', 'Emila-Romagna': 'Bologna', 'Friuli-Venezia Giulia': 'Trieste', 'Lazio': 'Roma', 'Liguria': 'Genova', 'Lombardia': 'Milano', 'Marche': 'Ancona', 'Molise': 'Campobasso', 'Piemonte': 'Torino', 'Puglia': 'Bari', 'Sardegna': 'Cagliari', 'Sicilia': 'Palermo', 'Toscana': 'Firenze', 'Trentino': 'Trento', 'Umbria': 'Perugia', \"Valle d'Aosta\": 'Aosta', 'Veneto': 'Venezia'}\n"
          ]
        }
      ]
    },
    {
      "cell_type": "markdown",
      "metadata": {
        "id": "uModv4tL1O64"
      },
      "source": [
        "2. Scrivere un programma che visualizzi tutti i nomi delle regioni presenti in capoluoghiRegione"
      ]
    },
    {
      "cell_type": "code",
      "metadata": {
        "colab": {
          "base_uri": "https://localhost:8080/"
        },
        "id": "VEmu8-L01WkX",
        "outputId": "8e684108-c5ad-4813-e5ea-0ed571770225"
      },
      "source": [
        "{ k for k in capoluoghiRegione.keys() }"
      ],
      "execution_count": null,
      "outputs": [
        {
          "output_type": "execute_result",
          "data": {
            "text/plain": [
              "{'Abruzzo',\n",
              " 'Basilicato',\n",
              " 'Calabria',\n",
              " 'Campania',\n",
              " 'Emila-Romagna',\n",
              " 'Friuli-Venezia Giulia',\n",
              " 'Lazio',\n",
              " 'Liguria',\n",
              " 'Lombardia',\n",
              " 'Marche',\n",
              " 'Molise',\n",
              " 'Piemonte',\n",
              " 'Puglia',\n",
              " 'Sardegna',\n",
              " 'Sicilia',\n",
              " 'Toscana',\n",
              " 'Trentino',\n",
              " 'Umbria',\n",
              " \"Valle d'Aosta\",\n",
              " 'Veneto'}"
            ]
          },
          "metadata": {},
          "execution_count": 8
        }
      ]
    },
    {
      "cell_type": "markdown",
      "metadata": {
        "id": "VuLP1Oof2H9M"
      },
      "source": [
        "3. Scrivere un programma che visualizzi tutti i nomi dei capoluoghi di regione presenti in\n",
        "capoluoghiRegione"
      ]
    },
    {
      "cell_type": "code",
      "metadata": {
        "colab": {
          "base_uri": "https://localhost:8080/"
        },
        "id": "58dJhv1w2LdJ",
        "outputId": "85f8be0a-5e28-48d8-cc54-97cef8fbece8"
      },
      "source": [
        "[ v for v in capoluoghiRegione.values() ]"
      ],
      "execution_count": null,
      "outputs": [
        {
          "output_type": "execute_result",
          "data": {
            "text/plain": [
              "['l acquila',\n",
              " 'Potenza',\n",
              " 'Catanzaro',\n",
              " 'Napoli',\n",
              " 'Bologna',\n",
              " 'Trieste',\n",
              " 'Roma',\n",
              " 'Genova',\n",
              " 'Milano',\n",
              " 'Ancona',\n",
              " 'Campobasso',\n",
              " 'Torino',\n",
              " 'Bari',\n",
              " 'Cagliari',\n",
              " 'Palermo',\n",
              " 'Firenze',\n",
              " 'Trento',\n",
              " 'Perugia',\n",
              " 'Aosta',\n",
              " 'Venezia']"
            ]
          },
          "metadata": {},
          "execution_count": 9
        }
      ]
    },
    {
      "cell_type": "markdown",
      "metadata": {
        "id": "hGG9eSqX2WbJ"
      },
      "source": [
        "4. Scrivere un programma che acquisisca dall’utente il nome di una regione e fornisca il nome del suo\n",
        "capoluogo."
      ]
    },
    {
      "cell_type": "code",
      "metadata": {
        "colab": {
          "base_uri": "https://localhost:8080/"
        },
        "id": "MMaKjf9w2WyJ",
        "outputId": "3af28a0a-c18a-42ed-bbd4-da5abfbfd21d"
      },
      "source": [
        "Regione = input(\"Inserire regione: \")\n",
        "print(capoluoghiRegione[Regione])"
      ],
      "execution_count": null,
      "outputs": [
        {
          "output_type": "stream",
          "name": "stdout",
          "text": [
            "Inserire regione: Lombardia\n",
            "Milano\n"
          ]
        }
      ]
    },
    {
      "cell_type": "markdown",
      "metadata": {
        "id": "utT_wRBE3U2s"
      },
      "source": [
        "5. Scrivere un programma che acquisisca dall’utente il nome di un capoluogo e fornisca il nome della\n",
        "regione a cui appartiene."
      ]
    },
    {
      "cell_type": "code",
      "metadata": {
        "id": "x-u5FpcfFJbq",
        "colab": {
          "base_uri": "https://localhost:8080/"
        },
        "outputId": "7c825029-e132-4f2f-ec1a-07f1fedaebef"
      },
      "source": [
        "capoluoghiRegione = {\"l acquila\" : \"Abruzzo\", \"Potenza\" : \"Basilicata\",\"Catanzaro\" : \"Calabria\",\"Napoli\" : \"Campania\", \"Bologna\" : \"Emila-Romagna\", \"Trieste\" : \"Friuli-Venezia Giulia\", \"Roma\" : \"Lazio\",\"Genova\" : \"Liguria\", \"Milano\" : \"Lombardia\", \"Ancona\" :\"Marche\",\"Campobasso\" :   \"Molise\",\"Torino\" : \"Piemonte\",\"Bari\" : \"Puglia\",\"Cagliari\" : \"Sardegna\",\"Palermo\"  : \"Sicilia\", \"Firenze\"  : \"Toscana\", \"Trento\" :   \"Trentino\", \"Perugia\" :    \"Umbria\",\"Aosta\" : \"valle d' Aosta\",\"Venezia\" :  \"Veneto\"}\n",
        "capoLuogo = input(\"Inserire Capoluogo: \")\n",
        "print(capoluoghiRegione[capoLuogo])"
      ],
      "execution_count": null,
      "outputs": [
        {
          "output_type": "stream",
          "name": "stdout",
          "text": [
            "Inserire Capoluogo: Potenza\n",
            "Basilicata\n"
          ]
        }
      ]
    },
    {
      "cell_type": "code",
      "metadata": {
        "colab": {
          "base_uri": "https://localhost:8080/"
        },
        "id": "z04BYRRK8Un8",
        "outputId": "0b07d2e6-c971-4ed1-e7e4-164ab6b3d756"
      },
      "source": [
        "#il dizionario viene trasformato in una lista contenente tuple. ogni tupla contiene una regione e il rispettivo capoluogo\n",
        "items = list(capoluoghiRegione.items())\n",
        "print(items)\n",
        "cap = input()\n",
        "for item in items:\n",
        "  if item[1]==cap:\n",
        "    c = item[0]\n",
        "    print[c]"
      ],
      "execution_count": null,
      "outputs": [
        {
          "name": "stdout",
          "output_type": "stream",
          "text": [
            "[('Abruzzo', \"l' acquila\"), ('Basilicato', 'Potenza'), ('Calabria', 'Catanzaro'), ('Campania', 'Napoli'), ('Emila-Romagna', 'Bologna'), ('Friuli-Venezia Giulia', 'Trieste'), ('Lazio', 'Roma'), ('Liguria', 'Genova'), ('Lombardia', 'Milano'), ('Marche', 'Ancona'), ('Molise', 'Campobasso'), ('Piemonte', 'Torino'), ('Puglia', 'Bari'), ('Sardegna', 'Cagliari'), ('Sicilia', 'Palermo'), ('Toscana', 'Firenze'), ('Trentino', 'Trento'), ('Umbria', 'Perugia'), (\"Valle d'Aosta\", 'Aosta'), ('Veneto', 'Venezia')]\n",
            "Basilicato\n"
          ]
        }
      ]
    },
    {
      "cell_type": "markdown",
      "metadata": {
        "id": "EcmOtoHr3YcT"
      },
      "source": [
        "6. Scrivere un programma che visualizzi tutte le regioni con i rispettivi capoluoghi"
      ]
    },
    {
      "cell_type": "code",
      "metadata": {
        "colab": {
          "base_uri": "https://localhost:8080/"
        },
        "id": "scRtVj2W3dLz",
        "outputId": "8593cb01-9936-4ff2-dbd2-873d801113e6"
      },
      "source": [
        "print(capoluoghiRegione)"
      ],
      "execution_count": null,
      "outputs": [
        {
          "output_type": "stream",
          "name": "stdout",
          "text": [
            "{'Abruzzo': 'l acquila', 'Basilicato': 'Potenza', 'Calabria': 'Catanzaro', 'Campania': 'Napoli', 'Emila-Romagna': 'Bologna', 'Friuli-Venezia Giulia': 'Trieste', 'Lazio': 'Roma', 'Liguria': 'Genova', 'Lombardia': 'Milano', 'Marche': 'Ancona', 'Molise': 'Campobasso', 'Piemonte': 'Torino', 'Puglia': 'Bari', 'Sardegna': 'Cagliari', 'Sicilia': 'Palermo', 'Toscana': 'Firenze', 'Trentino': 'Trento', 'Umbria': 'Perugia', \"Valle d'Aosta\": 'Aosta', 'Veneto': 'Venezia'}\n"
          ]
        }
      ]
    },
    {
      "cell_type": "code",
      "metadata": {
        "colab": {
          "base_uri": "https://localhost:8080/"
        },
        "id": "LdU-yPG3-d-E",
        "outputId": "b7166917-aa2a-4733-e48d-db3528a35213"
      },
      "source": [
        "regioni = list(capoluoghiRegione.keys())\n",
        "capoluoghi = list(capoluoghiRegione.values())\n",
        "\n",
        "for i in range(len(capoluoghiRegione)):\n",
        "  print(regioni[i],capoluoghi[i])"
      ],
      "execution_count": null,
      "outputs": [
        {
          "output_type": "stream",
          "name": "stdout",
          "text": [
            "l acquila Abruzzo\n",
            "Potenza Basilicata\n",
            "Catanzaro Calabria\n",
            "Napoli Campania\n",
            "Bologna Emila-Romagna\n",
            "Trieste Friuli-Venezia Giulia\n",
            "Roma Lazio\n",
            "Genova Liguria\n",
            "Milano Lombardia\n",
            "Ancona Marche\n",
            "Campobasso Molise\n",
            "Torino Piemonte\n",
            "Bari Puglia\n",
            "Cagliari Sardegna\n",
            "Palermo Sicilia\n",
            "Firenze Toscana\n",
            "Trento Trentino\n",
            "Perugia Umbria\n",
            "Aosta valle d' Aosta\n",
            "Venezia Veneto\n"
          ]
        }
      ]
    },
    {
      "cell_type": "code",
      "metadata": {
        "colab": {
          "base_uri": "https://localhost:8080/"
        },
        "id": "yyOP69ln_pdm",
        "outputId": "fd5b75f1-ed79-4987-ed9c-aad5ba1fcf95"
      },
      "source": [
        "print('\\n'.join(( 'regione:    ' + reg + '   capoluogo:   ' + cap)for(reg,cap) in capoluoghiRegione.items()))"
      ],
      "execution_count": null,
      "outputs": [
        {
          "output_type": "stream",
          "name": "stdout",
          "text": [
            "regione:    l acquila   capoluogo:   Abruzzo\n",
            "regione:    Potenza   capoluogo:   Basilicata\n",
            "regione:    Catanzaro   capoluogo:   Calabria\n",
            "regione:    Napoli   capoluogo:   Campania\n",
            "regione:    Bologna   capoluogo:   Emila-Romagna\n",
            "regione:    Trieste   capoluogo:   Friuli-Venezia Giulia\n",
            "regione:    Roma   capoluogo:   Lazio\n",
            "regione:    Genova   capoluogo:   Liguria\n",
            "regione:    Milano   capoluogo:   Lombardia\n",
            "regione:    Ancona   capoluogo:   Marche\n",
            "regione:    Campobasso   capoluogo:   Molise\n",
            "regione:    Torino   capoluogo:   Piemonte\n",
            "regione:    Bari   capoluogo:   Puglia\n",
            "regione:    Cagliari   capoluogo:   Sardegna\n",
            "regione:    Palermo   capoluogo:   Sicilia\n",
            "regione:    Firenze   capoluogo:   Toscana\n",
            "regione:    Trento   capoluogo:   Trentino\n",
            "regione:    Perugia   capoluogo:   Umbria\n",
            "regione:    Aosta   capoluogo:   valle d' Aosta\n",
            "regione:    Venezia   capoluogo:   Veneto\n"
          ]
        }
      ]
    },
    {
      "cell_type": "markdown",
      "metadata": {
        "id": "96Uqj3Wv3l7r"
      },
      "source": [
        "7. Scrivere un programma che visualizzi tutte le regioni con i rispettivi capoluoghi. Ordinare le regioni\n",
        "in ordine alfabetico"
      ]
    },
    {
      "cell_type": "code",
      "metadata": {
        "id": "H36OZWmo3pzs",
        "colab": {
          "base_uri": "https://localhost:8080/"
        },
        "outputId": "ce1e675b-8c0b-4f69-acf8-309fcb7350fc"
      },
      "source": [
        "key_list = list(capoluoghiRegione.keys())\n",
        "value_list = list(capoluoghiRegione.values())\n",
        "sortedkey_list = sorted(key_list)\n",
        "\n",
        "for i in range(len(capoluoghiRegione)):\n",
        "  print(sortedkey_list[i], value_list[i])"
      ],
      "execution_count": null,
      "outputs": [
        {
          "output_type": "stream",
          "name": "stdout",
          "text": [
            "Ancona Abruzzo\n",
            "Aosta Basilicata\n",
            "Bari Calabria\n",
            "Bologna Campania\n",
            "Cagliari Emila-Romagna\n",
            "Campobasso Friuli-Venezia Giulia\n",
            "Catanzaro Lazio\n",
            "Firenze Liguria\n",
            "Genova Lombardia\n",
            "Milano Marche\n",
            "Napoli Molise\n",
            "Palermo Piemonte\n",
            "Perugia Puglia\n",
            "Potenza Sardegna\n",
            "Roma Sicilia\n",
            "Torino Toscana\n",
            "Trento Trentino\n",
            "Trieste Umbria\n",
            "Venezia valle d' Aosta\n",
            "l acquila Veneto\n"
          ]
        }
      ]
    },
    {
      "cell_type": "code",
      "metadata": {
        "colab": {
          "base_uri": "https://localhost:8080/"
        },
        "id": "TZSZaTrZB_n1",
        "outputId": "3cacbcb2-d436-4873-8d09-f2a9fc45be76"
      },
      "source": [
        "res  = sorted(capoluoghiRegione)\n",
        "print(res)\n",
        "for reg in res:\n",
        "  print(reg + \",\"+ capoluoghiRegione[reg])"
      ],
      "execution_count": null,
      "outputs": [
        {
          "output_type": "stream",
          "name": "stdout",
          "text": [
            "['Ancona', 'Aosta', 'Bari', 'Bologna', 'Cagliari', 'Campobasso', 'Catanzaro', 'Firenze', 'Genova', 'Milano', 'Napoli', 'Palermo', 'Perugia', 'Potenza', 'Roma', 'Torino', 'Trento', 'Trieste', 'Venezia', 'l acquila']\n",
            "Ancona,Marche\n",
            "Aosta,valle d' Aosta\n",
            "Bari,Puglia\n",
            "Bologna,Emila-Romagna\n",
            "Cagliari,Sardegna\n",
            "Campobasso,Molise\n",
            "Catanzaro,Calabria\n",
            "Firenze,Toscana\n",
            "Genova,Liguria\n",
            "Milano,Lombardia\n",
            "Napoli,Campania\n",
            "Palermo,Sicilia\n",
            "Perugia,Umbria\n",
            "Potenza,Basilicata\n",
            "Roma,Lazio\n",
            "Torino,Piemonte\n",
            "Trento,Trentino\n",
            "Trieste,Friuli-Venezia Giulia\n",
            "Venezia,Veneto\n",
            "l acquila,Abruzzo\n"
          ]
        }
      ]
    },
    {
      "cell_type": "markdown",
      "metadata": {
        "id": "RojRCdCW6cqW"
      },
      "source": [
        "8. Scrivere un programma che visualizzi tutte le regioni con i rispettivi capoluoghi. Ordinare i\n",
        "capoluoghi in ordine alfabetico"
      ]
    },
    {
      "cell_type": "code",
      "metadata": {
        "id": "qO0pJ-2J6dmV"
      },
      "source": [
        "capoluoghiRegione = {\"Abruzzo\" : \"l\\' acquila\", \"Basilicato\" : \"Potenza\",\"Calabria\" : \"Catanzaro\",\"Campania\" : \"Napoli\", \"Emila-Romagna\" : \"Bologna\", \"Friuli-Venezia Giulia\" : \"Trieste\", \"Lazio\" : \"Roma\",\"Liguria\" : \"Genova\", \"Lombardia\" : \"Milano\", \"Marche\" :\"Ancona\",\"Molise\" :   \"Campobasso\",\"Piemonte\" : \"Torino\",\"Puglia\" : \"Bari\",\"Sardegna\" : \"Cagliari\",\"Sicilia\"  : \"Palermo\", \"Toscana\"  : \"Firenze\", \"Trentino\" :   \"Trento\", \"Umbria\" :    \"Perugia\",\"Valle d'Aosta\" : \"Aosta\",\"Veneto\" :  \"Venezia\"}\n",
        "\n",
        "0 = []\n",
        " for reg in keys:\n",
        "  indice = values.index(capoluoghiRegione.values[reg])\n",
        "  o[indice] = reg \n",
        "\n",
        " for cap in capoluoghi:\n",
        "    print(o[capoluoghi.index(cap)],cap)"
      ],
      "execution_count": null,
      "outputs": []
    },
    {
      "cell_type": "markdown",
      "metadata": {
        "id": "paFzlUmq6d4V"
      },
      "source": [
        "9. Scrivere un programma che carichi in una lista i nomi delle regioni e in un’altra lista i nomi dei\n",
        "rispettivi capoluoghi. Scrivere poi l’istruzione che permette di costruire il dizionario a partire dalle\n",
        "due liste."
      ]
    },
    {
      "cell_type": "code",
      "metadata": {
        "colab": {
          "base_uri": "https://localhost:8080/"
        },
        "id": "driX4RiKASB0",
        "outputId": "2e1e0413-ea3a-4753-e4e5-cb24aff93709"
      },
      "source": [
        "listaRegioni = ['Abruzzo','Basilicato','Calabria',\"Campania\",'Emila-Romagna','Friuli-Venezia Giulia','Lazio','Liguria','Lombardia','Marche','Molise','Piemonte','Puglia','Sardegna','Sicilia','Toscana','Trentino','Umbria',\"Valle d'Aosta\",'Veneto']\n",
        "listacapoLuoghi= ['l acquila','Potenza','Catanzaro','Napoli','Bologna','Trieste','Roma','Genova','Milano','Ancona','Campobasso','Torino','Bari','Cagliari','Palermo','Firenze','Trento','Perugia','Aosta','Venezia']\n",
        "dizionario = dict((listaRegioni,listacapoLuoghi) for listaRegioni,listacapoLuoghi in zip(listaRegioni,listacapoLuoghi))\n",
        "print(dizionario)"
      ],
      "execution_count": null,
      "outputs": [
        {
          "output_type": "stream",
          "name": "stdout",
          "text": [
            "{'Abruzzo': 'l acquila', 'Basilicato': 'Potenza', 'Calabria': 'Catanzaro', 'Campania': 'Napoli', 'Emila-Romagna': 'Bologna', 'Friuli-Venezia Giulia': 'Trieste', 'Lazio': 'Roma', 'Liguria': 'Genova', 'Lombardia': 'Milano', 'Marche': 'Ancona', 'Molise': 'Campobasso', 'Piemonte': 'Torino', 'Puglia': 'Bari', 'Sardegna': 'Cagliari', 'Sicilia': 'Palermo', 'Toscana': 'Firenze', 'Trentino': 'Trento', 'Umbria': 'Perugia', \"Valle d'Aosta\": 'Aosta', 'Veneto': 'Venezia'}\n"
          ]
        }
      ]
    },
    {
      "cell_type": "code",
      "metadata": {
        "id": "hcDGojPqE3uf"
      },
      "source": [
        "#utilizzare funzione zip che serve per costruire dizionari "
      ],
      "execution_count": null,
      "outputs": []
    }
  ]
}